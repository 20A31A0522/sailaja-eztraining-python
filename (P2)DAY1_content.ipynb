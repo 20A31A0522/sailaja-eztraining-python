{
  "nbformat": 4,
  "nbformat_minor": 0,
  "metadata": {
    "colab": {
      "provenance": [],
      "authorship_tag": "ABX9TyOBo68sF17mQIthiz2l55aN",
      "include_colab_link": true
    },
    "kernelspec": {
      "name": "python3",
      "display_name": "Python 3"
    },
    "language_info": {
      "name": "python"
    }
  },
  "cells": [
    {
      "cell_type": "markdown",
      "metadata": {
        "id": "view-in-github",
        "colab_type": "text"
      },
      "source": [
        "<a href=\"https://colab.research.google.com/github/20A31A0522/sailaja-eztraining-python/blob/main/(P2)DAY1_content.ipynb\" target=\"_parent\"><img src=\"https://colab.research.google.com/assets/colab-badge.svg\" alt=\"Open In Colab\"/></a>"
      ]
    },
    {
      "cell_type": "markdown",
      "source": [
        "### **LAMBDA FUNCTION**\n",
        "- also called as ***Anonymus function*** \n",
        "- when we want to use func concept alone w/o using func name there we apply concept of lambda func"
      ],
      "metadata": {
        "id": "mu0ppyfAmuqg"
      }
    },
    {
      "cell_type": "markdown",
      "source": [
        "## **4 Pillars of OOPS**\n",
        "1. **Abstraction** \n",
        " - hiding the implementation part, showing what is required for the users. ex: exe file\n",
        " - we can make cls or method as abstarct,opp to abstract is concrete whi\n",
        "2. **Encapsulation**\n",
        " - Binding data and function into a single entity\n",
        " - three types: ***Public***(accessed by any cls),***Private***(accessed where it is declared ,not in inherited cls) and ***Protected***(accessed where it is declared and also in inherited cls)\n",
        "3. **Inheritance**\n",
        " - *Base cls* and Derived cls - *parent cls* and child cls\n",
        " - derived cls will inherit the properties of base cls\n",
        " - Types:\n",
        "    1. Single \n",
        "    2. Multiple\n",
        "    3. Multilevel\n",
        "    4. Hierarchical \n",
        "    5. Hybrid\n",
        "4. **Polymorphism**"
      ],
      "metadata": {
        "id": "Q50g9p0oqujm"
      }
    }
  ]
}