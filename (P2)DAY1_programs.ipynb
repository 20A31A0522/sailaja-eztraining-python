{
  "nbformat": 4,
  "nbformat_minor": 0,
  "metadata": {
    "colab": {
      "provenance": [],
      "authorship_tag": "ABX9TyO1oSWVt264HgXEdBlJ0pPF",
      "include_colab_link": true
    },
    "kernelspec": {
      "name": "python3",
      "display_name": "Python 3"
    },
    "language_info": {
      "name": "python"
    }
  },
  "cells": [
    {
      "cell_type": "markdown",
      "metadata": {
        "id": "view-in-github",
        "colab_type": "text"
      },
      "source": [
        "<a href=\"https://colab.research.google.com/github/20A31A0522/sailaja-eztraining-python/blob/main/(P2)DAY1_programs.ipynb\" target=\"_parent\"><img src=\"https://colab.research.google.com/assets/colab-badge.svg\" alt=\"Open In Colab\"/></a>"
      ]
    },
    {
      "cell_type": "code",
      "execution_count": null,
      "metadata": {
        "colab": {
          "base_uri": "https://localhost:8080/"
        },
        "id": "4I4D5mqoo5CI",
        "outputId": "3f74910e-333e-498a-cdde-96c550a006dd"
      },
      "outputs": [
        {
          "output_type": "stream",
          "name": "stdout",
          "text": [
            "[2, 4, 6]\n",
            "[1, 8, 27]\n",
            "trainer\n"
          ]
        }
      ],
      "source": [
        "#lambda function\n",
        "L=[1,2,3]\n",
        "res=map(lambda x:x+x,L)\n",
        "print(list(res))\n",
        "ans=map(lambda n:pow(n,3),L)\n",
        "print(list(ans))\n",
        "name=\"trainer\"\n",
        "(lambda name:print(name))(name)"
      ]
    },
    {
      "cell_type": "code",
      "source": [
        "#After creating a list with even numbers within the range 1 to 15,apply lambda func and create a new list which should have square roots of the elements\n",
        "l=[]\n",
        "for i in range(1,15):\n",
        "  if(i%2==0):\n",
        "    l.append(i)\n",
        "print(l)\n",
        "roots=map(lambda n:math.sqrt(n),l)\n",
        "print(list(roots))"
      ],
      "metadata": {
        "colab": {
          "base_uri": "https://localhost:8080/"
        },
        "id": "LQKrUcA9sEYW",
        "outputId": "71f78882-e693-40a0-ddf0-6003bbbbc75f"
      },
      "execution_count": null,
      "outputs": [
        {
          "output_type": "stream",
          "name": "stdout",
          "text": [
            "[2, 4, 6, 8, 10, 12, 14]\n",
            "[1.4142135623730951, 2.0, 2.449489742783178, 2.8284271247461903, 3.1622776601683795, 3.4641016151377544, 3.7416573867739413]\n"
          ]
        }
      ]
    },
    {
      "cell_type": "code",
      "source": [
        "#OOPS\n",
        "#abstraction\n",
        "from abc import ABC,abstractmethod\n",
        "class abstractdemo(ABC):\n",
        "  @abstractmethod  #called decorator to make the method(function) an abstract one\n",
        "  def display(self):\n",
        "    None\n",
        "  def show(self):\n",
        "    None\n",
        "#chaging abstract to concrete\n",
        "class demo(abstractdemo):\n",
        "  def display(self):\n",
        "    print(\"abstraction method\")\n",
        "  def show(self):\n",
        "    print(\"2nd function\")\n",
        "\n",
        "Obj=demo()\n",
        "Obj.display()\n",
        "Obj.show()"
      ],
      "metadata": {
        "colab": {
          "base_uri": "https://localhost:8080/"
        },
        "id": "b2H1iJMi9RS9",
        "outputId": "25b72c16-fe06-4fa1-e8e2-ef49de8917df"
      },
      "execution_count": null,
      "outputs": [
        {
          "output_type": "stream",
          "name": "stdout",
          "text": [
            "abstraction method\n",
            "2nd function\n"
          ]
        }
      ]
    },
    {
      "cell_type": "code",
      "source": [
        "#inheritance-type1\n",
        "#parent class\n",
        "class parent:\n",
        "  def display(self):\n",
        "    print(\"parent class\")\n",
        "#child class \n",
        "class child(parent):\n",
        "  def show(self):\n",
        "    print(\"child class\")\n",
        "\n",
        "c=child()    #c is obj of child cls\n",
        "c.display()  #inheriting method from parent cls\n",
        "c.show()"
      ],
      "metadata": {
        "colab": {
          "base_uri": "https://localhost:8080/"
        },
        "id": "I2gB5qgrC8bE",
        "outputId": "9d97e4e9-5e22-4fae-83ae-fca62634a9e4"
      },
      "execution_count": null,
      "outputs": [
        {
          "output_type": "stream",
          "name": "stdout",
          "text": [
            "parent class\n",
            "child class\n"
          ]
        }
      ]
    },
    {
      "cell_type": "code",
      "source": [
        "class A:\n",
        "  n=20\n",
        "class B(A):\n",
        "  def calc(self):\n",
        "    c=self.n+22\n",
        "    print(c)\n",
        "\n",
        "obj=B()\n",
        "obj.calc()"
      ],
      "metadata": {
        "colab": {
          "base_uri": "https://localhost:8080/"
        },
        "id": "smWGjb-EE4Ei",
        "outputId": "d96d8ea4-39ba-42ae-87e9-1e559fea7d78"
      },
      "execution_count": null,
      "outputs": [
        {
          "output_type": "stream",
          "name": "stdout",
          "text": [
            "42\n"
          ]
        }
      ]
    },
    {
      "cell_type": "code",
      "source": [
        "#inheritance-type2\n",
        "class dad:\n",
        "  def ddisplay(self):\n",
        "    print(\"dad cls\")\n",
        "class mom:\n",
        "  def mdisplay(self):\n",
        "    print(\"mom cls\")\n",
        "class child(dad,mom):\n",
        "  def cdisplay(self):\n",
        "    print(\"child cls\")\n",
        "\n",
        "obj=child()\n",
        "obj.ddisplay()\n",
        "obj.mdisplay()\n",
        "obj.cdisplay()"
      ],
      "metadata": {
        "colab": {
          "base_uri": "https://localhost:8080/"
        },
        "id": "VLnckdp6bGd8",
        "outputId": "af8a09ac-cde3-4fcd-84c2-884c3384d6d3"
      },
      "execution_count": null,
      "outputs": [
        {
          "output_type": "stream",
          "name": "stdout",
          "text": [
            "dad cls\n",
            "mom cls\n",
            "child cls\n"
          ]
        }
      ]
    },
    {
      "cell_type": "code",
      "source": [
        "#multilevel inheritance\n",
        "class grandparent:\n",
        "  def display(self):\n",
        "    print(\"grandparent class\")\n",
        "class parent(grandparent):\n",
        "  def show(self):\n",
        "    print(\"parent class\")\n",
        "class child(parent):\n",
        "  def cdisplay(self):\n",
        "    print(\"child class\")\n",
        "c1=child()\n",
        "c1.display()\n",
        "c1.show()\n",
        "c1.cdisplay()  "
      ],
      "metadata": {
        "id": "gMbWn3if6T_R",
        "colab": {
          "base_uri": "https://localhost:8080/"
        },
        "outputId": "36ea0afc-ac04-40ed-e33d-2695afc98131"
      },
      "execution_count": null,
      "outputs": [
        {
          "output_type": "stream",
          "name": "stdout",
          "text": [
            "grandparent class\n",
            "parent class\n",
            "child class\n"
          ]
        }
      ]
    },
    {
      "cell_type": "code",
      "source": [
        "#hierarchial inheritance\n",
        "class parent:\n",
        "  def display(self):\n",
        "    print(\"class parent\")\n",
        "class child1(parent):\n",
        "  def c1show(self):\n",
        "    print(\"child1 class\")\n",
        "class child2(parent):\n",
        "  def c2show(self):\n",
        "    print(\"child2 class\")\n",
        "c1=child1()\n",
        "c1.c1show()\n",
        "c1.display()\n",
        "c2=child2()\n",
        "c2.c2show()\n",
        "c2.display()         "
      ],
      "metadata": {
        "id": "CQgjf8Ef6Txq",
        "colab": {
          "base_uri": "https://localhost:8080/"
        },
        "outputId": "691651d0-56f3-44b7-a050-52d3f95af6aa"
      },
      "execution_count": null,
      "outputs": [
        {
          "output_type": "stream",
          "name": "stdout",
          "text": [
            "child1 class\n",
            "class parent\n",
            "child2 class\n",
            "class parent\n"
          ]
        }
      ]
    },
    {
      "cell_type": "code",
      "source": [
        "#hybrid inheritance\n",
        "class parent:\n",
        "  def display(self):\n",
        "    print(\"parent class\")\n",
        "class child1(parent):\n",
        "  def c1show(self):\n",
        "    print(\"child1 class\")\n",
        "class child2(parent):\n",
        "  def c2show(self):\n",
        "    print(\"child2 class\")\n",
        "class kid1(child1):\n",
        "  def k1display(self):\n",
        "    print(\"kid1 class\")\n",
        "class kid2(child1):\n",
        "  def k2display(self):\n",
        "    print(\"kid2 class\")\n",
        "class kidd1(child2):\n",
        "  def k1show(self):\n",
        "    print(\"kidd1 class\")\n",
        "class kidd2(child2):\n",
        "  def k2show(self):\n",
        "    print(\"kidd2 class\")\n",
        "c1=kid1()\n",
        "c1.c1show()\n",
        "c1.display()\n",
        "c1.k1display()\n",
        "c2=kid2()\n",
        "c2.c1show()\n",
        "c2.display()\n",
        "c2.k2display()\n",
        "c3=kidd1()\n",
        "c3.c2show()\n",
        "c3.k1show()\n",
        "c3.display()\n",
        "c4=kidd2()\n",
        "c4.c2show()\n",
        "c4.display()\n",
        "c4.k2show()  "
      ],
      "metadata": {
        "id": "-m5pJigu6Tea",
        "colab": {
          "base_uri": "https://localhost:8080/"
        },
        "outputId": "e4c18793-6e64-4494-ef08-094359941a86"
      },
      "execution_count": null,
      "outputs": [
        {
          "output_type": "stream",
          "name": "stdout",
          "text": [
            "child1 class\n",
            "parent class\n",
            "kid1 class\n",
            "child1 class\n",
            "parent class\n",
            "kid2 class\n",
            "child2 class\n",
            "kidd1 class\n",
            "parent class\n",
            "child2 class\n",
            "parent class\n",
            "kidd2 class\n"
          ]
        }
      ]
    },
    {
      "cell_type": "code",
      "source": [
        "#happy number\n",
        "n=int(input())\n",
        "while n>1: \n",
        "  sum=0\n",
        "  for i in range(0,len(str(n))+1):\n",
        "    rem=n%10\n",
        "    sum+=rem**2\n",
        "    n=n//10\n",
        "  n=sum\n",
        "print(n)\n",
        "if(n==1):\n",
        "  print(\"happy number\")\n",
        "else:\n",
        "  print(\"not a happy number\")"
      ],
      "metadata": {
        "colab": {
          "base_uri": "https://localhost:8080/"
        },
        "id": "4cDC0hA4uIKm",
        "outputId": "3ef8768c-5676-4dc5-dd4f-d189d9f55cdf"
      },
      "execution_count": null,
      "outputs": [
        {
          "output_type": "stream",
          "name": "stdout",
          "text": [
            "13\n",
            "1\n",
            "happy number\n"
          ]
        }
      ]
    },
    {
      "cell_type": "markdown",
      "source": [
        "variable inside cls-instance\n",
        "to access instance inside method- use self"
      ],
      "metadata": {
        "id": "xT84Fm6j7Mgb"
      }
    }
  ]
}