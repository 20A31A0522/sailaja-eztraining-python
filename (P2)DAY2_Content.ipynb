{
  "nbformat": 4,
  "nbformat_minor": 0,
  "metadata": {
    "colab": {
      "provenance": [],
      "authorship_tag": "ABX9TyON0xyZPd7w7KNCis2X2Oba",
      "include_colab_link": true
    },
    "kernelspec": {
      "name": "python3",
      "display_name": "Python 3"
    },
    "language_info": {
      "name": "python"
    }
  },
  "cells": [
    {
      "cell_type": "markdown",
      "metadata": {
        "id": "view-in-github",
        "colab_type": "text"
      },
      "source": [
        "<a href=\"https://colab.research.google.com/github/20A31A0522/sailaja-eztraining-python/blob/main/(P2)DAY2_Content.ipynb\" target=\"_parent\"><img src=\"https://colab.research.google.com/assets/colab-badge.svg\" alt=\"Open In Colab\"/></a>"
      ]
    },
    {
      "cell_type": "markdown",
      "source": [
        "## **Polymorphism**\n",
        "- One item or same item used for different purposes\n",
        "### - Types:\n",
        "  1. **Overloading**\n",
        "    - Operator overloading\n",
        "    - Method overloading\n",
        "  2. **Overriding**\n",
        "    - If a method is defective or cannot be used inside the derived cls,it will take ui from its parent cls or base cls"
      ],
      "metadata": {
        "id": "SJDilcD71jbX"
      }
    },
    {
      "cell_type": "markdown",
      "source": [
        "# **Data Structures**\n",
        "### - helps to write effiecient programs\n",
        "## Types:\n",
        "  ### **1. Linear**\n",
        "- storing data sequentially\n",
        "- Arrays,lLinked lists,Stack,Queue,Matrix\n",
        "- static-array,dynamic-lists,stack,queue\n",
        "### **2.Non-linear**\n",
        "- non sequential\n",
        "- binary tree,heap,hash table,graphs"
      ],
      "metadata": {
        "id": "vcSMSgnwAzhi"
      }
    },
    {
      "cell_type": "markdown",
      "source": [
        "## **Linked list**\n",
        "Real-time ex: train\n",
        "- As the name says,list of items which are linked with one another is called linked list\n",
        "### Types:\n",
        "1. single/singly\n",
        "2.double/doubly\n",
        "3.circular"
      ],
      "metadata": {
        "id": "1-8P7lBPHlfd"
      }
    },
    {
      "cell_type": "markdown",
      "source": [
        "### **CREATING LINKED LIST**\n",
        "### Steps: \n",
        "1. creat the node\n",
        "2.partition the node with two segments- data and (address)none\n",
        "3.add value into the blank node\n",
        "4.mark the node as head\n",
        "5.create the next node by following the above steps\n",
        "6.establish link b/w 1st node and the 2nd nde\n",
        "### DISPLAYING LINKED LISTS\n",
        "- Traversal is required to tail node in order to display existing linked list\n",
        "\n"
      ],
      "metadata": {
        "id": "Cqif3IZwNndr"
      }
    }
  ]
}