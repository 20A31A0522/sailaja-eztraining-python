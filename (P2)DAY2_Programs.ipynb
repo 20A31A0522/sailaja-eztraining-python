{
  "nbformat": 4,
  "nbformat_minor": 0,
  "metadata": {
    "colab": {
      "provenance": [],
      "authorship_tag": "ABX9TyM7dFgbDLLoFtkezEDWlxO2",
      "include_colab_link": true
    },
    "kernelspec": {
      "name": "python3",
      "display_name": "Python 3"
    },
    "language_info": {
      "name": "python"
    }
  },
  "cells": [
    {
      "cell_type": "markdown",
      "metadata": {
        "id": "view-in-github",
        "colab_type": "text"
      },
      "source": [
        "<a href=\"https://colab.research.google.com/github/20A31A0522/sailaja-eztraining-python/blob/main/(P2)DAY2_Programs.ipynb\" target=\"_parent\"><img src=\"https://colab.research.google.com/assets/colab-badge.svg\" alt=\"Open In Colab\"/></a>"
      ]
    },
    {
      "cell_type": "code",
      "source": [
        "#protected\n",
        "class encap:\n",
        "  _a=20\n",
        "  c=10\n",
        "  def encapfunction(self):\n",
        "    _b=200\n",
        "    print(self._a+20)\n",
        "\n",
        "obj=encap()\n",
        "print(obj._a)\n",
        "obj.encapfunction()\n",
        "print(obj.c)\n"
      ],
      "metadata": {
        "colab": {
          "base_uri": "https://localhost:8080/"
        },
        "id": "JFEhuCelvPcz",
        "outputId": "28593893-8079-4b86-a5ff-6f96606bf18a"
      },
      "execution_count": null,
      "outputs": [
        {
          "output_type": "stream",
          "name": "stdout",
          "text": [
            "20\n",
            "40\n",
            "10\n"
          ]
        }
      ]
    },
    {
      "cell_type": "code",
      "source": [
        "#private\n",
        "class encap:\n",
        "  __a=20\n",
        "  print(__a)\n",
        "  def encapfunction(self):\n",
        "    print(self.__a)\n",
        "\n",
        "obj=encap()\n",
        "obj.encapfunction()"
      ],
      "metadata": {
        "colab": {
          "base_uri": "https://localhost:8080/"
        },
        "id": "r5cxv_sqznQ9",
        "outputId": "954a141a-5f27-458b-c7ea-c61304fa5374"
      },
      "execution_count": null,
      "outputs": [
        {
          "output_type": "stream",
          "name": "stdout",
          "text": [
            "20\n",
            "20\n"
          ]
        }
      ]
    },
    {
      "cell_type": "code",
      "source": [
        "#private\n",
        "class encap:\n",
        "  __a=20\n",
        "  print(__a)\n",
        "  def encapfunction(self):\n",
        "    print(self.__a)\n",
        "\n",
        "obj=encap()\n",
        "obj.encapfunction()\n",
        "print(obj.__a)"
      ],
      "metadata": {
        "colab": {
          "base_uri": "https://localhost:8080/",
          "height": 235
        },
        "id": "NPJ9-u4t052-",
        "outputId": "b6ee41be-13b4-42f3-9647-8ca3d335c181"
      },
      "execution_count": null,
      "outputs": [
        {
          "output_type": "stream",
          "name": "stdout",
          "text": [
            "20\n",
            "20\n"
          ]
        },
        {
          "output_type": "error",
          "ename": "AttributeError",
          "evalue": "ignored",
          "traceback": [
            "\u001b[0;31m---------------------------------------------------------------------------\u001b[0m",
            "\u001b[0;31mAttributeError\u001b[0m                            Traceback (most recent call last)",
            "\u001b[0;32m<ipython-input-18-8905d4e9c0f0>\u001b[0m in \u001b[0;36m<module>\u001b[0;34m\u001b[0m\n\u001b[1;32m      8\u001b[0m \u001b[0mobj\u001b[0m\u001b[0;34m=\u001b[0m\u001b[0mencap\u001b[0m\u001b[0;34m(\u001b[0m\u001b[0;34m)\u001b[0m\u001b[0;34m\u001b[0m\u001b[0;34m\u001b[0m\u001b[0m\n\u001b[1;32m      9\u001b[0m \u001b[0mobj\u001b[0m\u001b[0;34m.\u001b[0m\u001b[0mencapfunction\u001b[0m\u001b[0;34m(\u001b[0m\u001b[0;34m)\u001b[0m\u001b[0;34m\u001b[0m\u001b[0;34m\u001b[0m\u001b[0m\n\u001b[0;32m---> 10\u001b[0;31m \u001b[0mprint\u001b[0m\u001b[0;34m(\u001b[0m\u001b[0mobj\u001b[0m\u001b[0;34m.\u001b[0m\u001b[0m__a\u001b[0m\u001b[0;34m)\u001b[0m\u001b[0;34m\u001b[0m\u001b[0;34m\u001b[0m\u001b[0m\n\u001b[0m",
            "\u001b[0;31mAttributeError\u001b[0m: 'encap' object has no attribute '__a'"
          ]
        }
      ]
    },
    {
      "cell_type": "code",
      "source": [
        "#method overloading\n",
        "class moverload:\n",
        "  def display(self,a=None,b=None):\n",
        "    print(a,b)\n",
        "\n",
        "obj=moverload()\n",
        "obj.display()\n",
        "obj.display(22,24)\n",
        "obj.display(22)"
      ],
      "metadata": {
        "colab": {
          "base_uri": "https://localhost:8080/"
        },
        "id": "9a0yWvZm3Uyw",
        "outputId": "a1ee03b4-7bb8-409b-ea80-1107713bc279"
      },
      "execution_count": null,
      "outputs": [
        {
          "output_type": "stream",
          "name": "stdout",
          "text": [
            "None None\n",
            "22 24\n",
            "22 None\n"
          ]
        }
      ]
    },
    {
      "cell_type": "code",
      "source": [
        "class parent:\n",
        "  def __init__(self):\n",
        "    self.value=\"inside parent\"\n",
        "  def show(self):\n",
        "    print(self.value)\n",
        "class child:\n",
        "  def __init__(self):\n",
        "    self.value=\"inside child\"\n",
        "  def show(self):\n",
        "    print(self.value)\n",
        "\n",
        "obj=parent()\n",
        "obj.show()\n",
        "obj1=child()\n",
        "obj1.show()"
      ],
      "metadata": {
        "colab": {
          "base_uri": "https://localhost:8080/"
        },
        "id": "exVLFOlWkozv",
        "outputId": "e599df90-8aec-474e-9dd8-a28aeb553169"
      },
      "execution_count": 5,
      "outputs": [
        {
          "output_type": "stream",
          "name": "stdout",
          "text": [
            "inside parent\n",
            "inside child\n"
          ]
        }
      ]
    },
    {
      "cell_type": "code",
      "source": [
        "#method overriding\n",
        "class kakinada:\n",
        "  def placename(self):\n",
        "    print(\"surampalem\")\n",
        "  def beachname(self):\n",
        "    print(\"ntr beach\")\n",
        "class vizag:\n",
        "  def placename(self):\n",
        "    print(\"siripuram\")\n",
        "  def beachname(self):\n",
        "    print(\"rk beach\")\n",
        "\n",
        "obj_k=kakinada()\n",
        "obj_v=vizag()\n",
        "for details in (obj_k,obj_v):\n",
        "  details.placename()\n",
        "  details.beachname()"
      ],
      "metadata": {
        "colab": {
          "base_uri": "https://localhost:8080/"
        },
        "id": "XnPKDW-V7m7H",
        "outputId": "7066538b-6180-4d7b-b739-d15edb4a267a"
      },
      "execution_count": null,
      "outputs": [
        {
          "output_type": "stream",
          "name": "stdout",
          "text": [
            "surampalem\n",
            "ntr beach\n",
            "siripuram\n",
            "rk beach\n"
          ]
        }
      ]
    },
    {
      "cell_type": "code",
      "source": [
        "#LINKED LISTS(creation)\n",
        "class Node:\n",
        "  def __init__(self,data):\n",
        "    self.data=data\n",
        "    self.next=None\n",
        "class singlelinkedlist:\n",
        "  def __init__(self):\n",
        "    self.head=None\n",
        "\n",
        "  def display(self):\n",
        "    if self.head is None :\n",
        "      print(\"Linked list is empty\")\n",
        "    else:\n",
        "      temp=self.head\n",
        "      while temp.next!=None:\n",
        "        print(temp.data,\"-->\",end=\" \")\n",
        "        temp=temp.next\n",
        "      print(temp.data)\n",
        "\n",
        "obj=singlelinkedlist()\n",
        "n=Node(11)\n",
        "obj.head=n\n",
        "n1=Node(22)\n",
        "obj.head.next=n1\n",
        "n2=Node(25)\n",
        "n1.next=n2\n",
        "obj.display()\n"
      ],
      "metadata": {
        "colab": {
          "base_uri": "https://localhost:8080/"
        },
        "id": "t1NX-dJwi10Q",
        "outputId": "bdc8c26b-5bab-490d-f4b3-dd0bbacdf9ef"
      },
      "execution_count": null,
      "outputs": [
        {
          "output_type": "stream",
          "name": "stdout",
          "text": [
            "11 --> 22 --> 25\n"
          ]
        }
      ]
    },
    {
      "cell_type": "code",
      "source": [
        "class Node:\n",
        "  def __init__(self,data):\n",
        "    self.data=data\n",
        "    self.next=None\n",
        "class singlelinkedlist:\n",
        "  def __init__(self):\n",
        "    self.head=None\n",
        "\n",
        "  def display(self):\n",
        "    if self.head is None :\n",
        "      print(\"Linked list is empty\")\n",
        "    else:\n",
        "      temp=self.head\n",
        "      while temp.next!=None:\n",
        "        print(temp.data,\"-->\",end=\" \")\n",
        "        temp=temp.next\n",
        "      print(temp.data)\n",
        "      \n",
        "obj=singlelinkedlist()\n",
        "n=Node(\"W\")\n",
        "obj.head=n\n",
        "n1=Node(\"I\")\n",
        "obj.head.next=n1\n",
        "n2=Node(\"N\")\n",
        "n1.next=n2\n",
        "n3=Node(\"N\")\n",
        "n2.next=n3\n",
        "n4=Node(\"E\")\n",
        "n3.next=n4\n",
        "n5=Node(\"R\")\n",
        "n4.next=n5\n",
        "obj.display()\n"
      ],
      "metadata": {
        "colab": {
          "base_uri": "https://localhost:8080/"
        },
        "id": "Oo2MfwfvlgjH",
        "outputId": "80995a97-54bf-4af1-9c26-77d193959899"
      },
      "execution_count": null,
      "outputs": [
        {
          "output_type": "stream",
          "name": "stdout",
          "text": [
            "W --> I --> N --> N --> E --> R\n"
          ]
        }
      ]
    },
    {
      "cell_type": "code",
      "source": [
        "#insertion at beginning\n",
        "class Node:\n",
        "  def __init__(self,data):\n",
        "    self.data=data\n",
        "    self.next=None\n",
        "class singlelinkedlist:\n",
        "  def __init__(self):\n",
        "    self.head=None\n",
        "  def insert_beginning(self,data):\n",
        "    nb=Node(data)\n",
        "    nb.next=self.head\n",
        "    self.head=nb\n",
        "  def display(self):\n",
        "    if self.head is None :\n",
        "      print(\"Linked list is empty\")\n",
        "    else:\n",
        "      temp=self.head\n",
        "      while temp.next!=None :\n",
        "        print(temp.data,\"-->\",end=\" \")\n",
        "        temp=temp.next\n",
        "      print(temp.data)\n",
        "\n",
        "      \n",
        "obj=singlelinkedlist()\n",
        "n=Node(10)\n",
        "obj.head=n\n",
        "n1=Node(20)\n",
        "obj.head.next=n1\n",
        "n2=Node(30)\n",
        "n1.next=n2\n",
        "n3=Node(40)\n",
        "n2.next=n3\n",
        "obj.display()\n",
        "obj.insert_beginning(100)\n",
        "print(\" \")\n",
        "obj.display()"
      ],
      "metadata": {
        "colab": {
          "base_uri": "https://localhost:8080/"
        },
        "id": "_fqWn2Eaq2QW",
        "outputId": "d1de09b2-5d39-41e2-d792-1ac70038e450"
      },
      "execution_count": null,
      "outputs": [
        {
          "output_type": "stream",
          "name": "stdout",
          "text": [
            "10 --> 20 --> 30 --> 40\n",
            " \n",
            "100 --> 10 --> 20 --> 30 --> 40\n"
          ]
        }
      ]
    },
    {
      "cell_type": "code",
      "source": [
        "#insertion at end\n",
        "class Node:\n",
        "  def __init__(self,data):\n",
        "    self.data=data\n",
        "    self.next=None\n",
        "class singlelinkedlist:\n",
        "  def __init__(self):\n",
        "    self.head=None\n",
        "  def insert_end(self,data):\n",
        "    new=Node(data)\n",
        "    temp=self.head\n",
        "    while temp.next:\n",
        "      temp=temp.next\n",
        "    temp.next=new\n",
        "\n",
        "  def display(self):\n",
        "    if self.head is None :\n",
        "      print(\"Linked list is empty\")\n",
        "    else:\n",
        "      temp=self.head\n",
        "      while temp.next!=None:\n",
        "        print(temp.data,\"-->\",end=\" \")\n",
        "        temp=temp.next\n",
        "      print(temp.data)\n",
        "      \n",
        "obj=singlelinkedlist()\n",
        "n=Node(10)\n",
        "obj.head=n\n",
        "n1=Node(20)\n",
        "obj.head.next=n1\n",
        "n2=Node(30)\n",
        "n1.next=n2\n",
        "n3=Node(40)\n",
        "n2.next=n3\n",
        "obj.display()\n",
        "obj.insert_end(100)\n",
        "print(\" \")\n",
        "obj.display()\n"
      ],
      "metadata": {
        "colab": {
          "base_uri": "https://localhost:8080/"
        },
        "id": "hM0a3rTr0B2k",
        "outputId": "18643ebc-c25b-4969-8303-8e05c5ae0650"
      },
      "execution_count": null,
      "outputs": [
        {
          "output_type": "stream",
          "name": "stdout",
          "text": [
            "10 --> 20 --> 30 --> 40\n",
            " \n",
            "10 --> 20 --> 30 --> 40 --> 100\n"
          ]
        }
      ]
    },
    {
      "cell_type": "code",
      "source": [
        "#insertion at position\n",
        "class Node:\n",
        "  def __init__(self,data):\n",
        "    self.data=data\n",
        "    self.next=None\n",
        "class singlelinkedlist:\n",
        "  def __init__(self):\n",
        "    self.head=None\n",
        "  def insert_position(self,pos,data):\n",
        "    new=Node(data)\n",
        "    temp=self.head\n",
        "    for i in range(pos-1):\n",
        "      temp=temp.next\n",
        "    new.next=temp.next\n",
        "    temp.next=new\n",
        "\n",
        "  def display(self):\n",
        "    if self.head is None :\n",
        "      print(\"Linked list is empty\")\n",
        "    else:\n",
        "      temp=self.head\n",
        "      while temp.next!=None:\n",
        "        print(temp.data,\"-->\",end=\" \")\n",
        "        temp=temp.next\n",
        "      print(temp.data)\n",
        "   \n",
        "obj=singlelinkedlist()\n",
        "n=Node(10)\n",
        "obj.head=n\n",
        "n1=Node(20)\n",
        "obj.head.next=n1\n",
        "n2=Node(30)\n",
        "n1.next=n2\n",
        "n3=Node(40)\n",
        "n2.next=n3\n",
        "obj.display()\n",
        "obj.insert_position(3,100)\n",
        "print(\" \")\n",
        "obj.display()"
      ],
      "metadata": {
        "id": "D6UVfmt77DiB",
        "colab": {
          "base_uri": "https://localhost:8080/"
        },
        "outputId": "f28dd0ea-870c-4044-b538-a97d61696724"
      },
      "execution_count": null,
      "outputs": [
        {
          "output_type": "stream",
          "name": "stdout",
          "text": [
            "10 --> 20 --> 30 --> 40\n",
            " \n",
            "10 --> 20 --> 30 --> 100 --> 40\n"
          ]
        }
      ]
    },
    {
      "cell_type": "code",
      "source": [
        "#Linked list creation with user input\n",
        "class Node:\n",
        "  def __init__(self,data):\n",
        "    self.data=data\n",
        "    self.next=None\n",
        "class singlelinkedlist:\n",
        "  def __init__(self):\n",
        "    self.head=None\n",
        "\n",
        "  def display(self):\n",
        "    if self.head is None :\n",
        "      print(\"Linked list is empty\")\n",
        "    else:\n",
        "      temp=self.head\n",
        "      while temp.next!=None:\n",
        "        print(temp.data,\"-->\",end=\" \")\n",
        "        temp=temp.next\n",
        "      print(temp.data)\n",
        "\n",
        "obj=singlelinkedlist()\n",
        "n=Node(int(input()))\n",
        "obj.head=n\n",
        "n1=Node(int(input()))\n",
        "obj.head.next=n1\n",
        "n2=Node(int(input()))\n",
        "n1.next=n2\n",
        "obj.display()\n"
      ],
      "metadata": {
        "id": "RDumZA5wC0aQ",
        "colab": {
          "base_uri": "https://localhost:8080/"
        },
        "outputId": "0b7e1687-13bb-453d-9e57-97f095a619cc"
      },
      "execution_count": 6,
      "outputs": [
        {
          "output_type": "stream",
          "name": "stdout",
          "text": [
            "10\n",
            "20\n",
            "30\n",
            "10 --> 20 --> 30\n"
          ]
        }
      ]
    }
  ]
}