{
  "nbformat": 4,
  "nbformat_minor": 0,
  "metadata": {
    "colab": {
      "provenance": [],
      "authorship_tag": "ABX9TyPPf+Cx3nZmxtYBfWz/LYc9",
      "include_colab_link": true
    },
    "kernelspec": {
      "name": "python3",
      "display_name": "Python 3"
    },
    "language_info": {
      "name": "python"
    }
  },
  "cells": [
    {
      "cell_type": "markdown",
      "metadata": {
        "id": "view-in-github",
        "colab_type": "text"
      },
      "source": [
        "<a href=\"https://colab.research.google.com/github/20A31A0522/sailaja-eztraining-python/blob/main/(P2)DAY3_programs.ipynb\" target=\"_parent\"><img src=\"https://colab.research.google.com/assets/colab-badge.svg\" alt=\"Open In Colab\"/></a>"
      ]
    },
    {
      "cell_type": "code",
      "execution_count": null,
      "metadata": {
        "colab": {
          "base_uri": "https://localhost:8080/"
        },
        "id": "KvOiJ-GhCv_8",
        "outputId": "d7865199-5e57-4e7d-bab7-4d8c42762368"
      },
      "outputs": [
        {
          "output_type": "stream",
          "name": "stdout",
          "text": [
            "start : 9--->10--->11--->22--->25--->27--->end\n",
            "start : 9--->11--->22--->27--->end\n"
          ]
        }
      ],
      "source": [
        "#creation of a single linked list and arranging the nodes in ascending order\n",
        "#along with insertion and\n",
        "#deletion\n",
        "\n",
        "class Node:\n",
        "  def __init__(self,data):\n",
        "    self.data=data\n",
        "    self.next=None\n",
        "class linkedlist:\n",
        "  def __init__(self):\n",
        "    self.head=None\n",
        "  def printlist(self):\n",
        "    temp=self.head\n",
        "    if not temp:\n",
        "      print(\"list is empty\")\n",
        "    else:\n",
        "      print(\"start :\",end=\" \")\n",
        "    while temp:\n",
        "      print(temp.data,end=\"--->\")\n",
        "      temp=temp.next\n",
        "    print(\"end\")\n",
        "  def insert(self,data):\n",
        "    new_node=Node(data)\n",
        "    if self.head is None:\n",
        "      self.head=new_node\n",
        "    elif self.head.data>=new_node.data :\n",
        "      new_node.next=self.head\n",
        "      self.head=new_node\n",
        "    else:\n",
        "      temp=self.head\n",
        "      while temp.next and new_node.data>temp.next.data:\n",
        "        temp=temp.next\n",
        "      new_node.next=temp.next\n",
        "      temp.next=new_node\n",
        "\n",
        "  def delete_key(self,key):\n",
        "      if self.head is None:\n",
        "        print(\"deletion error: list is empty\")\n",
        "        return\n",
        "      if self.head.data==key :\n",
        "        self.head=self.head.next\n",
        "        return\n",
        "      temp=self.head\n",
        "      while temp:\n",
        "        if temp.data==key :\n",
        "          break\n",
        "        prev=temp\n",
        "        temp=temp.next\n",
        "      if temp is None :\n",
        "        print(\"key not found\")\n",
        "      else:\n",
        "        prev.next=temp.next\n",
        "\n",
        "if __name__=='__main__':\n",
        "  ll=linkedlist()\n",
        "  ll.insert(22)\n",
        "  ll.insert(10)\n",
        "  ll.insert(25)\n",
        "  ll.insert(11)\n",
        "  ll.insert(9)\n",
        "  ll.insert(27)\n",
        "\n",
        "  ll.printlist()\n",
        "  ll.delete_key(10)\n",
        "  ll.delete_key(25)\n",
        "  ll.printlist()"
      ]
    },
    {
      "cell_type": "code",
      "source": [
        "#double linked list creation\n",
        "class Node:\n",
        "  def __init__(self,data):\n",
        "    self.data=data\n",
        "    self.prev=None\n",
        "    self.next=None\n",
        "\n",
        "class dll:\n",
        "  def __init__(self):\n",
        "    self.head=None\n",
        "  def display(self):\n",
        "    if self.head is None:\n",
        "      print(\"empty\")\n",
        "    else:\n",
        "      temp=self.head\n",
        "      while temp:\n",
        "        print(temp.data,\"<--->\",end=\" \")\n",
        "        temp=temp.next\n",
        "\n",
        "l1=dll()\n",
        "n1=Node(10)\n",
        "l1.head=n1\n",
        "n2=Node(15)\n",
        "n2.prev=n1\n",
        "n1.next=n2\n",
        "n3=Node(20)\n",
        "n3.prev=n2\n",
        "n2.next=n3\n",
        "l1.display()\n"
      ],
      "metadata": {
        "id": "dNMOd4wNZTI8",
        "colab": {
          "base_uri": "https://localhost:8080/"
        },
        "outputId": "7288634a-d9f0-498c-ab60-f510266f5518"
      },
      "execution_count": null,
      "outputs": [
        {
          "output_type": "stream",
          "name": "stdout",
          "text": [
            "10 <---> 15 <---> 20 <---> "
          ]
        }
      ]
    },
    {
      "cell_type": "code",
      "source": [
        "#Doubly linked list insertion\n",
        "class Node:\n",
        "  def __init__(self,data):\n",
        "    self.data=data\n",
        "    self.prev=None\n",
        "    self.next=None\n",
        "\n",
        "class dll:\n",
        "  def __init__(self):\n",
        "    self.head=None\n",
        "  def insert_start(self):\n",
        "    n=Node(300)\n",
        "    temp=self.head\n",
        "    temp.prev=n\n",
        "    n.next=temp\n",
        "    self.head=n\n",
        "  def display(self):\n",
        "    if self.head is None:\n",
        "      print(\"empty\")\n",
        "    else:\n",
        "      temp=self.head\n",
        "      while temp:\n",
        "        print(temp.data,\"<--->\",end=\" \")\n",
        "        temp=temp.next\n",
        "\n",
        "l1=dll()\n",
        "n1=Node(10)\n",
        "l1.head=n1\n",
        "n2=Node(15)\n",
        "n2.prev=n1\n",
        "n1.next=n2\n",
        "n3=Node(20)\n",
        "n3.prev=n2\n",
        "n2.next=n3\n",
        "l1.insert_start()\n",
        "l1.display()"
      ],
      "metadata": {
        "colab": {
          "base_uri": "https://localhost:8080/"
        },
        "id": "z-358Ejt8B9t",
        "outputId": "e6d92646-aedc-49cc-d6e4-240afb84f78f"
      },
      "execution_count": null,
      "outputs": [
        {
          "output_type": "stream",
          "name": "stdout",
          "text": [
            "300 <---> 10 <---> 15 <---> 20 <---> "
          ]
        }
      ]
    },
    {
      "cell_type": "code",
      "source": [
        "#Doubly linked list insertion\n",
        "class Node:\n",
        "  def __init__(self,data):\n",
        "    self.data=data\n",
        "    self.prev=None\n",
        "    self.next=None\n",
        "\n",
        "class dll:\n",
        "  def __init__(self):\n",
        "    self.head=None\n",
        "  def insert_end(self):\n",
        "    n=Node(300)\n",
        "    temp=self.head\n",
        "    while temp.next is not None:\n",
        "      temp=temp.next\n",
        "    temp.next=n\n",
        "    n.prev=temp\n",
        "  def display(self):\n",
        "    if self.head is None:\n",
        "      print(\"empty\")\n",
        "    else:\n",
        "      temp=self.head\n",
        "      while temp:\n",
        "        print(temp.data,\"<--->\",end=\" \")\n",
        "        temp=temp.next\n",
        "\n",
        "l1=dll()\n",
        "n1=Node(10)\n",
        "l1.head=n1\n",
        "n2=Node(15)\n",
        "n2.prev=n1\n",
        "n1.next=n2\n",
        "n3=Node(20)\n",
        "n3.prev=n2\n",
        "n2.next=n3\n",
        "l1.insert_end()\n",
        "l1.display()"
      ],
      "metadata": {
        "colab": {
          "base_uri": "https://localhost:8080/"
        },
        "id": "qKxk9IRg_T_m",
        "outputId": "10db0f6a-1670-438f-a648-29e00d95c436"
      },
      "execution_count": null,
      "outputs": [
        {
          "output_type": "stream",
          "name": "stdout",
          "text": [
            "10 <---> 15 <---> 20 <---> 300 <---> "
          ]
        }
      ]
    },
    {
      "cell_type": "code",
      "source": [
        "#insertion at pos\n",
        "class Node:\n",
        "  def __init__(self,data):\n",
        "    self.data=data\n",
        "    self.prev=None\n",
        "    self.next=None\n",
        "\n",
        "class dll:\n",
        "  def __init__(self):\n",
        "    self.head=None\n",
        "  def insert_pos(self,pos):\n",
        "    n=Node(300)\n",
        "    temp=self.head\n",
        "    for i in range(1,pos-1):\n",
        "      temp=temp.next\n",
        "    n.prev=temp\n",
        "    n.next=temp.next\n",
        "    temp.next.prev=n\n",
        "    temp.next=n\n",
        "  def display(self):\n",
        "    if self.head is None:\n",
        "      print(\"empty\")\n",
        "    else:\n",
        "      temp=self.head\n",
        "      while temp:\n",
        "        print(temp.data,\"<--->\",end=\" \")\n",
        "        temp=temp.next\n",
        "\n",
        "l1=dll()\n",
        "n1=Node(10)\n",
        "l1.head=n1\n",
        "n2=Node(15)\n",
        "n2.prev=n1\n",
        "n1.next=n2\n",
        "n3=Node(20)\n",
        "n3.prev=n2\n",
        "n2.next=n3\n",
        "l1.insert_pos(3)\n",
        "l1.display()"
      ],
      "metadata": {
        "colab": {
          "base_uri": "https://localhost:8080/"
        },
        "id": "NzbITtfIA-cE",
        "outputId": "a71cb55d-3e8e-45da-ace0-65649ccd4dfe"
      },
      "execution_count": null,
      "outputs": [
        {
          "output_type": "stream",
          "name": "stdout",
          "text": [
            "10 <---> 15 <---> 300 <---> 20 <---> "
          ]
        }
      ]
    },
    {
      "cell_type": "code",
      "source": [
        "#deletion at beginning(dll)\n",
        "class Node:\n",
        "  def __init__(self,data):\n",
        "    self.data=data\n",
        "    self.prev=None\n",
        "    self.next=None\n",
        "class dll:\n",
        "  def __init__(self):\n",
        "    self.head=None\n",
        "  def delete_begg(self):\n",
        "    temp=self.head\n",
        "    self.head=temp.next\n",
        "    temp.next=None\n",
        "  def display(self):\n",
        "    if self.head is None:\n",
        "      print(\"empty\")\n",
        "    else:\n",
        "      temp=self.head\n",
        "      while temp:\n",
        "        print(temp.data,\"<--->\",end=\" \")\n",
        "        temp=temp.next\n",
        "\n",
        "l1=dll()\n",
        "n1=Node(10)\n",
        "l1.head=n1\n",
        "n2=Node(15)\n",
        "n2.prev=n1\n",
        "n1.next=n2\n",
        "n3=Node(20)\n",
        "n3.prev=n2\n",
        "n2.next=n3\n",
        "l1.delete_begg()\n",
        "l1.display()"
      ],
      "metadata": {
        "colab": {
          "base_uri": "https://localhost:8080/"
        },
        "id": "r5C5hGj_FJFv",
        "outputId": "f8e7dfe8-3351-4ea3-cb20-2c076dfba4f3"
      },
      "execution_count": null,
      "outputs": [
        {
          "output_type": "stream",
          "name": "stdout",
          "text": [
            "15 <---> 20 <---> "
          ]
        }
      ]
    },
    {
      "cell_type": "code",
      "source": [
        "#deletion at end (dll)\n",
        "class Node:\n",
        "  def __init__(self,data):\n",
        "    self.data=data\n",
        "    self.prev=None\n",
        "    self.next=None\n",
        "class dll:\n",
        "  def __init__(self):\n",
        "    self.head=None\n",
        "  def delete_end(self):\n",
        "    temp=self.head.next\n",
        "    prev=self.head\n",
        "    while temp.next is not None:\n",
        "      temp=temp.next\n",
        "      prev=prev.next\n",
        "    prev.next=None\n",
        "  def display(self):\n",
        "    if self.head is None:\n",
        "      print(\"empty\")\n",
        "    else:\n",
        "      temp=self.head\n",
        "      while temp:\n",
        "        print(temp.data,\"<--->\",end=\" \")\n",
        "        temp=temp.next\n",
        "\n",
        "l1=dll()\n",
        "n1=Node(10)\n",
        "l1.head=n1\n",
        "n2=Node(15)\n",
        "n2.prev=n1\n",
        "n1.next=n2\n",
        "n3=Node(20)\n",
        "n3.prev=n2\n",
        "n2.next=n3\n",
        "l1.delete_end()\n",
        "l1.display()"
      ],
      "metadata": {
        "colab": {
          "base_uri": "https://localhost:8080/"
        },
        "id": "XAI3O2xmHEe2",
        "outputId": "d74697c7-4c45-4afd-c661-802eb2c13467"
      },
      "execution_count": null,
      "outputs": [
        {
          "output_type": "stream",
          "name": "stdout",
          "text": [
            "10 <---> 15 <---> "
          ]
        }
      ]
    },
    {
      "cell_type": "code",
      "source": [
        "#deletion at position (dll)\n",
        "class Node:\n",
        "  def __init__(self,data):\n",
        "    self.data=data\n",
        "    self.prev=None\n",
        "    self.next=None\n",
        "class dll:\n",
        "  def __init__(self):\n",
        "    self.head=None\n",
        "  def delete_pos(self,pos):\n",
        "    temp=self.head.next\n",
        "    prev=self.head\n",
        "    for i in range(1,pos-1):\n",
        "      temp=temp.next\n",
        "      prev=prev.next\n",
        "    prev.next=temp.next\n",
        "    temp.next=None\n",
        "  def display(self):\n",
        "    if self.head is None:\n",
        "      print(\"empty\")\n",
        "    else:\n",
        "      temp=self.head\n",
        "      while temp:\n",
        "        print(temp.data,\"<--->\",end=\" \")\n",
        "        temp=temp.next\n",
        "\n",
        "l1=dll()\n",
        "n1=Node(10)\n",
        "l1.head=n1\n",
        "n2=Node(15)\n",
        "n2.prev=n1\n",
        "n1.next=n2\n",
        "n3=Node(20)\n",
        "n3.prev=n2\n",
        "n2.next=n3\n",
        "l1.delete_pos(2)\n",
        "l1.display()"
      ],
      "metadata": {
        "colab": {
          "base_uri": "https://localhost:8080/"
        },
        "id": "sR6w3h03ICTN",
        "outputId": "236e226f-dd0b-4d22-b228-5b1d0f9368e2"
      },
      "execution_count": null,
      "outputs": [
        {
          "output_type": "stream",
          "name": "stdout",
          "text": [
            "10 <---> 20 <---> "
          ]
        }
      ]
    },
    {
      "cell_type": "code",
      "source": [
        "#creation and displaying circular linked list\n",
        "class Node:\n",
        "  def __init__(self,data):\n",
        "    self.data=data\n",
        "    self.next=None\n",
        "class createlist:\n",
        "  def __init__(self):\n",
        "    self.head=Node(None)\n",
        "    self.tail=Node(None)               \n",
        "    self.head.next=self.tail            #circular linked list only one node\n",
        "    self.tail.next=self.head    \n",
        "  def add(self,data):\n",
        "    newNode=Node(data)\n",
        "    if self.head.data is None:\n",
        "      self.head=newNode\n",
        "      self.tail=newNode\n",
        "      newNode.next=self.head\n",
        "    else:\n",
        "      self.tail.next=newNode\n",
        "      self.tail=newNode\n",
        "      self.tail.next=self.head\n",
        "  def display(self):\n",
        "    temp=self.head\n",
        "    if self.head is None:\n",
        "      print(\"list is empty\")\n",
        "      return\n",
        "    else:\n",
        "      print(\"Nodes of the circular linked list\")\n",
        "      print(temp.data,\"-->\")\n",
        "      while(temp.next!=self.head):\n",
        "        temp=temp.next\n",
        "        print(temp.data,\"-->\")\n",
        "\n",
        "class circularll:\n",
        "  cl=createlist()\n",
        "  cl.add(\"S\")\n",
        "  cl.add(\"M\")\n",
        "  cl.add(\"I\")\n",
        "  cl.add(\"L\")\n",
        "  cl.add(\"E\")\n",
        "  cl.display()\n",
        "\n"
      ],
      "metadata": {
        "id": "0jQ2b968R263",
        "colab": {
          "base_uri": "https://localhost:8080/"
        },
        "outputId": "893c80fb-8900-4d70-ee89-e761022a2e9b"
      },
      "execution_count": 1,
      "outputs": [
        {
          "output_type": "stream",
          "name": "stdout",
          "text": [
            "Nodes of the circular linked list\n",
            "S -->\n",
            "M -->\n",
            "I -->\n",
            "L -->\n",
            "E -->\n"
          ]
        }
      ]
    }
  ]
}