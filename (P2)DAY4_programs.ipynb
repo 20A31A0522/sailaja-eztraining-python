{
  "nbformat": 4,
  "nbformat_minor": 0,
  "metadata": {
    "colab": {
      "provenance": [],
      "authorship_tag": "ABX9TyOZVnmsfYDUFxjYec9NiJ4l",
      "include_colab_link": true
    },
    "kernelspec": {
      "name": "python3",
      "display_name": "Python 3"
    },
    "language_info": {
      "name": "python"
    }
  },
  "cells": [
    {
      "cell_type": "markdown",
      "metadata": {
        "id": "view-in-github",
        "colab_type": "text"
      },
      "source": [
        "<a href=\"https://colab.research.google.com/github/20A31A0522/sailaja-eztraining-python/blob/main/(P2)DAY4_programs.ipynb\" target=\"_parent\"><img src=\"https://colab.research.google.com/assets/colab-badge.svg\" alt=\"Open In Colab\"/></a>"
      ]
    },
    {
      "cell_type": "code",
      "execution_count": null,
      "metadata": {
        "colab": {
          "base_uri": "https://localhost:8080/"
        },
        "id": "j9v9-jpLKN7J",
        "outputId": "32e182c9-fb37-4d47-ecea-3bae22c2b9be"
      },
      "outputs": [
        {
          "name": "stdout",
          "output_type": "stream",
          "text": [
            "select an option: 1.push 2.pop 3.peak 4.quit\n",
            "1\n",
            "enter a number5\n",
            "[5]\n",
            "select an option: 1.push 2.pop 3.peak 4.quit\n",
            "1\n",
            "enter a number10\n",
            "[5, 10]\n",
            "select an option: 1.push 2.pop 3.peak 4.quit\n",
            "1\n",
            "enter a number15\n",
            "[5, 10, 15]\n",
            "select an option: 1.push 2.pop 3.peak 4.quit\n",
            "1\n",
            "enter a number20\n",
            "[5, 10, 15, 20]\n",
            "select an option: 1.push 2.pop 3.peak 4.quit\n",
            "2\n",
            "removed element 20\n",
            "[5, 10, 15]\n",
            "select an option: 1.push 2.pop 3.peak 4.quit\n",
            "3\n",
            "15\n",
            "select an option: 1.push 2.pop 3.peak 4.quit\n",
            "4\n"
          ]
        }
      ],
      "source": [
        "#STACK operations\n",
        "stack=[]\n",
        "def push():\n",
        "  n=int(input(\"enter a number\"))\n",
        "  stack.append(n)\n",
        "  print(stack)\n",
        "def pop_ele():\n",
        "  if not stack:\n",
        "    print(\"stack is empty\")\n",
        "  else:\n",
        "    e=stack.pop()\n",
        "    print(\"removed element\",e)\n",
        "    print(stack)\n",
        "def peak():\n",
        "  print(stack[-1])\n",
        "\n",
        "while True:\n",
        "  print(\"select an option: 1.push 2.pop 3.peak 4.quit\")\n",
        "  choice=int(input())\n",
        "  if choice==1:\n",
        "    push()\n",
        "  elif choice==2:\n",
        "    pop_ele()\n",
        "  elif choice==3:\n",
        "    peak()\n",
        "  elif choice==4:\n",
        "    break\n",
        "  else:\n",
        "    print(\"wrong option\")\n"
      ]
    },
    {
      "cell_type": "code",
      "source": [
        "stack=[]\n",
        "def push():\n",
        "  n=int(input(\"enter a number\"))\n",
        "  stack.append(n)\n",
        "  print(stack)\n",
        "def pop_ele():\n",
        "  if not stack:\n",
        "    print(\"stack is empty\")\n",
        "  else:\n",
        "    e=stack.pop()\n",
        "    print(\"removed element\",e)\n",
        "    print(stack)\n",
        "def peak():\n",
        "  print(stack[-1])\n",
        "\n",
        "while True:\n",
        "  print(\"select an option: 1.push 2.pop 3.peak 4.quit\")\n",
        "  choice=int(input())\n",
        "  if choice==1:\n",
        "    push()\n",
        "  elif choice==2:\n",
        "    pop_ele()\n",
        "  elif choice==3:\n",
        "    peak()\n",
        "  elif choice==4:\n",
        "    break\n",
        "  else:\n",
        "    print(\"wrong option\")"
      ],
      "metadata": {
        "colab": {
          "base_uri": "https://localhost:8080/"
        },
        "id": "nWynwpihUCzs",
        "outputId": "22e55a24-58d4-4b33-8a6f-bc67fb315242"
      },
      "execution_count": null,
      "outputs": [
        {
          "name": "stdout",
          "output_type": "stream",
          "text": [
            "select an option: 1.push 2.pop 3.peak 4.quit\n",
            "1\n",
            "enter a number10\n",
            "[10]\n",
            "select an option: 1.push 2.pop 3.peak 4.quit\n",
            "1\n",
            "enter a number20\n",
            "[10, 20]\n",
            "select an option: 1.push 2.pop 3.peak 4.quit\n",
            "1\n",
            "enter a number30\n",
            "[10, 20, 30]\n",
            "select an option: 1.push 2.pop 3.peak 4.quit\n",
            "1\n",
            "enter a number40\n",
            "[10, 20, 30, 40]\n",
            "select an option: 1.push 2.pop 3.peak 4.quit\n",
            "2\n",
            "removed element 40\n",
            "[10, 20, 30]\n",
            "select an option: 1.push 2.pop 3.peak 4.quit\n",
            "3\n",
            "30\n",
            "select an option: 1.push 2.pop 3.peak 4.quit\n",
            "4\n"
          ]
        }
      ]
    },
    {
      "cell_type": "code",
      "source": [
        "#stack using linked lists\n",
        "class Node:\n",
        "  def __init__(self,data):\n",
        "    self.data=data\n",
        "    self.next=None\n",
        "class Stack:\n",
        "  def __init__(self):\n",
        "    self.head=None\n",
        "  def is_empty(self):\n",
        "    if self.head==None:\n",
        "      return True\n",
        "    else:\n",
        "      return False\n",
        "  def push(self,data):\n",
        "    if self.head==None:\n",
        "      self.head=Node(data)\n",
        "    else:\n",
        "      new_node=Node(data)\n",
        "      new_node.next=self.head\n",
        "      self.head=new_node\n",
        "  def pop_node(self):\n",
        "    if self.is_empty():\n",
        "      return None\n",
        "    else:\n",
        "      popnode=self.head\n",
        "      self.head=self.head.next\n",
        "      popnode.next=None\n",
        "      return popnode.data\n",
        "  def peak(self):\n",
        "    if self.is_empty:\n",
        "      return None\n",
        "    else:\n",
        "      return self.head.data\n",
        "  def display(self):\n",
        "    temp=self.head\n",
        "    if self.is_empty():\n",
        "      print(\"stack underflow\")\n",
        "    else:\n",
        "      while temp!=None:\n",
        "        print(temp.data,end=\" \")\n",
        "        temp=temp.next\n",
        "        if(temp!=None):\n",
        "          print(\"-->\",end=\" \")\n",
        "      return\n",
        "\n",
        "if __name__=='__main__' :      \n",
        "  s=Stack()\n",
        "  s.push(10)\n",
        "  s.push(20)\n",
        "  s.push(30)\n",
        "  s.push(40)\n",
        "  print(\"after pushing\")\n",
        "  s.display()\n",
        "  s.pop_node()\n",
        "  print(\"after popping\")\n",
        "  s.display()\n",
        "  print(\"peak ele is\",s.peak())\n",
        "  s.display()\n",
        "\n",
        "\n"
      ],
      "metadata": {
        "colab": {
          "base_uri": "https://localhost:8080/"
        },
        "id": "qur7f0cNXbLd",
        "outputId": "aa2682a2-efd1-490d-bd72-e85953331983"
      },
      "execution_count": null,
      "outputs": [
        {
          "output_type": "stream",
          "name": "stdout",
          "text": [
            "after pushing\n",
            "40 --> 30 --> 20 --> 10 after popping\n",
            "30 --> 20 --> 10 peak ele is None\n",
            "30 --> 20 --> 10 "
          ]
        }
      ]
    },
    {
      "cell_type": "code",
      "source": [
        "#balanced or unbalanced using stack\n",
        "s=input()\n",
        "st=[]\n",
        "balanced=True\n",
        "for char in s:\n",
        "  if(char=='(' or char=='[' or char=='{'):\n",
        "    st.append(char)\n",
        "  elif (char==')'):\n",
        "    if (len(st) and st.pop()!='('):\n",
        "      balanced=False\n",
        "      break\n",
        "  elif (char==']'):\n",
        "    if (len(st) and st.pop()!='['):\n",
        "      balanced=False\n",
        "      break\n",
        "  elif (char=='}'):\n",
        "    if (len(st) and st.pop()!='{'):\n",
        "      balanced=False\n",
        "      break\n",
        "  else:\n",
        "    balanced=False\n",
        "    break\n",
        "\n",
        "if(balanced==False or len(st)):\n",
        "  print(\"unbalanced\")\n",
        "else:\n",
        "  print(\"balanced\")\n",
        "  "
      ],
      "metadata": {
        "colab": {
          "base_uri": "https://localhost:8080/"
        },
        "id": "fMqDBewjkRFA",
        "outputId": "02827716-cc4e-4389-f19b-beb5a2cb3a96"
      },
      "execution_count": null,
      "outputs": [
        {
          "output_type": "stream",
          "name": "stdout",
          "text": [
            "[[()]]\n",
            "balanced\n"
          ]
        }
      ]
    },
    {
      "cell_type": "code",
      "source": [
        "#Queues\n",
        "queue=[]\n",
        "def enqueue():\n",
        "  n=int(input())\n",
        "  queue.append(n)\n",
        "  print(n,\" is added to the list\")\n",
        "def dequeue():\n",
        "  if queue==None:\n",
        "    print(\"queue is empty\")\n",
        "  else:\n",
        "    e=queue.pop(0)\n",
        "    print(e,\"ele is removed from the q\")\n",
        "def display():\n",
        "  print(queue)\n",
        "while True:\n",
        "  print(\"select a choice: 1.add 2.remove 3.display 4.quit\")\n",
        "  choice=int(input())\n",
        "  if(choice==1):\n",
        "    enqueue()\n",
        "  elif(choice==2):\n",
        "    dequeue()\n",
        "  elif(choice==3):\n",
        "    display()\n",
        "  elif(choice==4):\n",
        "    break\n",
        "  else:\n",
        "    print(\"wrong option\")"
      ],
      "metadata": {
        "colab": {
          "base_uri": "https://localhost:8080/"
        },
        "id": "QBjEy5-Gpjly",
        "outputId": "ac292727-f6a3-4dcd-e4c3-9896ad07b9d2"
      },
      "execution_count": null,
      "outputs": [
        {
          "name": "stdout",
          "output_type": "stream",
          "text": [
            "select a choice: 1.add 2.remove 3.display 4.quit\n",
            "1\n",
            "1\n",
            "1  is added to the list\n",
            "select a choice: 1.add 2.remove 3.display 4.quit\n",
            "1\n",
            "2\n",
            "2  is added to the list\n",
            "select a choice: 1.add 2.remove 3.display 4.quit\n",
            "1\n",
            "3\n",
            "3  is added to the list\n",
            "select a choice: 1.add 2.remove 3.display 4.quit\n",
            "2\n",
            "1 ele is removed from the q\n",
            "select a choice: 1.add 2.remove 3.display 4.quit\n",
            "3\n",
            "[2, 3]\n",
            "select a choice: 1.add 2.remove 3.display 4.quit\n",
            "4\n"
          ]
        }
      ]
    },
    {
      "cell_type": "code",
      "source": [
        "#implementation of stack from queue module\n",
        "from queue import LifoQueue\n",
        "s=LifoQueue(maxsize=3)\n",
        "\n",
        "s.put(5)\n",
        "s.put(10)\n",
        "s.put(15)\n",
        "\n",
        "print(s.qsize())\n",
        "print(s.full())\n",
        "\n",
        "print()\n",
        "\n",
        "print(s.get())\n",
        "print(s.get())\n",
        "print(s.get())\n",
        "\n",
        "print(s.empty())"
      ],
      "metadata": {
        "colab": {
          "base_uri": "https://localhost:8080/"
        },
        "id": "zTrY_KioBREa",
        "outputId": "78db7336-e382-46fd-b616-5b097f7f4c45"
      },
      "execution_count": null,
      "outputs": [
        {
          "output_type": "stream",
          "name": "stdout",
          "text": [
            "3\n",
            "True\n",
            "[<queue.LifoQueue object at 0x7fcc3e730700>]\n",
            "15\n",
            "10\n",
            "5\n",
            "True\n"
          ]
        }
      ]
    },
    {
      "cell_type": "code",
      "source": [
        "#implementation of queue from queue module\n",
        "import queue\n",
        "s=queue.Queue(maxsize=3)\n",
        "\n",
        "s.put(5)\n",
        "s.put(10)\n",
        "s.put(15)\n",
        "\n",
        "print(s.qsize())\n",
        "print(s.full())\n",
        "\n",
        "print(s.get())\n",
        "print(s.get())\n",
        "print(s.get())\n",
        "\n",
        "print(s.empty())"
      ],
      "metadata": {
        "colab": {
          "base_uri": "https://localhost:8080/"
        },
        "id": "aWoTkX-TCPAj",
        "outputId": "b2ea4da0-b2db-4380-bf86-4c42df85b492"
      },
      "execution_count": null,
      "outputs": [
        {
          "output_type": "stream",
          "name": "stdout",
          "text": [
            "3\n",
            "True\n",
            "5\n",
            "10\n",
            "15\n",
            "True\n"
          ]
        }
      ]
    },
    {
      "cell_type": "code",
      "source": [
        "#implementation of queue in linked lists\n",
        "class Node:\n",
        "  def __init__(self,data):\n",
        "    self.data=data\n",
        "    self.next=None\n",
        "class Queue:\n",
        "  def __init__(self):\n",
        "    self.head=None\n",
        "    self.last=None\n",
        "  def enqueue(self,data):\n",
        "    if self.last is None:\n",
        "      self.head=Node(data)\n",
        "      self.last=self.head\n",
        "    else:\n",
        "      self.last.next=Node(data)\n",
        "      self.last=self.last.next\n",
        "  def dequeue(self):\n",
        "    if self.head is None:\n",
        "      return None\n",
        "    else:\n",
        "      to_return=self.head.data\n",
        "      self.head=self.head.next\n",
        "      return to_return\n",
        "a_queue=Queue()\n",
        "while True:\n",
        "  print(\"enqueue <value>\")\n",
        "  print(\"dequeue\")\n",
        "  print(\"quit\") \n",
        "  do=input(\"what would you like to do?\").split()\n",
        "  operation=do[0].strip().lower()\n",
        "  if operation=='enqueue':\n",
        "    a_queue.enqueue(int(do[1]))\n",
        "  elif operation=='dequeue':\n",
        "    dequeued=a_queue.dequeue()\n",
        "    if dequeued is None:\n",
        "      print(\"Queue is empty\")\n",
        "    else:\n",
        "      print(\"dequeued element\",int(dequeued))\n",
        "  elif operation=='quit':\n",
        "    break\n",
        "        \n"
      ],
      "metadata": {
        "colab": {
          "base_uri": "https://localhost:8080/"
        },
        "id": "iTcaiAkiCm5t",
        "outputId": "118f2881-d44e-45a4-f99e-d93634ea8bf5"
      },
      "execution_count": null,
      "outputs": [
        {
          "name": "stdout",
          "output_type": "stream",
          "text": [
            "enqueue <value>\n",
            "dequeue\n",
            "quit\n",
            "what would you like to do?enqueue 30\n",
            "enqueue <value>\n",
            "dequeue\n",
            "quit\n",
            "what would you like to do?enqueue 40\n",
            "enqueue <value>\n",
            "dequeue\n",
            "quit\n",
            "what would you like to do?dequeue\n",
            "dequeued element 30\n",
            "enqueue <value>\n",
            "dequeue\n",
            "quit\n",
            "what would you like to do?quit\n"
          ]
        }
      ]
    },
    {
      "cell_type": "code",
      "source": [
        "#to remove duplicates in linked list\n",
        "class Node:\n",
        "  def __init__(self,data):\n",
        "    self.data=data\n",
        "    self.next=None\n",
        "class LinkedList:\n",
        "  def __init__(self):\n",
        "    self.head=None\n",
        "    self.last_node=None\n",
        "  def append(self,data):\n",
        "    if self.last_node is None:\n",
        "      self.head=Node(data)\n",
        "      self.last_node=self.head\n",
        "    else:\n",
        "      self.last_node.next=Node(data)\n",
        "      self.last_node=self.last_node.next\n",
        "  def get_prev_node(self,ref_node):\n",
        "    temp=self.head\n",
        "    while(temp and temp.next!=ref_node):\n",
        "      temp=temp.next\n",
        "    return temp\n",
        "  def remove(self,node):\n",
        "    prev_node=self.get_prev_node(node)\n",
        "    if prev_node is None:\n",
        "      self.head=self.head.next\n",
        "    else:\n",
        "      prev_node.next=node.next\n",
        "  def display(self):\n",
        "    temp=self.head\n",
        "    while temp:\n",
        "      print(temp.data,end=\" \")\n",
        "      temp=temp.next\n",
        "  def remove_duplicates(llist):\n",
        "    temp1=llist.head\n",
        "    while temp1:\n",
        "      data=temp1.data\n",
        "      temp2=temp1.next\n",
        "      while temp2:\n",
        "        if temp2.data==data:\n",
        "          llist.remove(temp2)\n",
        "        temp2=temp2.next\n",
        "      temp1=temp1.next\n",
        "a_llist=LinkedList()\n",
        "data_list=input(\"please enter the elements in the list\")\n",
        "for data in data_list:\n",
        "  a_llist.append(int(data))\n",
        "remove_duplicates(a_llist)  \n",
        "print(\"The list with duplicates removed\")\n",
        "a_llist.display()"
      ],
      "metadata": {
        "id": "moX4KAwjcFxO"
      },
      "execution_count": null,
      "outputs": []
    }
  ]
}