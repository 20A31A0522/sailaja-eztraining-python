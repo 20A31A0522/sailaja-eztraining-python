{
  "nbformat": 4,
  "nbformat_minor": 0,
  "metadata": {
    "colab": {
      "provenance": [],
      "authorship_tag": "ABX9TyN5EXwZC6WgmquYcTGwgRsY",
      "include_colab_link": true
    },
    "kernelspec": {
      "name": "python3",
      "display_name": "Python 3"
    },
    "language_info": {
      "name": "python"
    }
  },
  "cells": [
    {
      "cell_type": "markdown",
      "metadata": {
        "id": "view-in-github",
        "colab_type": "text"
      },
      "source": [
        "<a href=\"https://colab.research.google.com/github/20A31A0522/sailaja-eztraining-python/blob/main/(P2)DAY5.ipynb\" target=\"_parent\"><img src=\"https://colab.research.google.com/assets/colab-badge.svg\" alt=\"Open In Colab\"/></a>"
      ]
    },
    {
      "cell_type": "markdown",
      "source": [
        "# **TREES**\n",
        "## **1. BINARY TREE**\n",
        "### - *In binary tree, a node can have max of 2 children(nodes)*\n",
        "## Types of Binary tree\n",
        "1. ***Full Binary tree*** - all nodes have 0 or 2 childern\n",
        "2. ***Pathelogical tree/ Degenerate tree*** - each node has only one child\n",
        "3. ***Skewed tree*** - left skewed and rigt skewed (all left nodes or all right nodes)\n",
        "4. ***Complete bt*** - every level should be full or completein last level,if it is incomplete nodes should be present at extreme left side \n",
        "5. ***Perfect bt*** - all the internal nodes who have  2 children andleaf nodes both should be on same level \n",
        "6. ***Balanced bt*** - For all the nodes.height of left subtree- height of right subtree can be 0 or 1"
      ],
      "metadata": {
        "id": "CUPT9J77lxhk"
      }
    },
    {
      "cell_type": "code",
      "source": [
        "#Binary tree\n",
        "class binarytreenode():\n",
        "  def __init__(self,data):\n",
        "    self.data=data\n",
        "    self.leftchild=None\n",
        "    self.rightchild=None\n",
        "Node1=binarytreenode(10)\n",
        "Node2=binarytreenode(20)\n",
        "Node3=binarytreenode(30)\n",
        "Node4=binarytreenode(40)\n",
        "Node5=binarytreenode(50)\n",
        "Node6=binarytreenode(60)\n",
        "Node7=binarytreenode(70)\n",
        "\n",
        "Node1.leftchild=Node2\n",
        "Node1.rightchild=Node3\n",
        "Node2.leftchild=Node4\n",
        "Node2.rightchild=Node5\n",
        "Node3.leftchild=Node6\n",
        "Node3.rightchild=Node7\n",
        "\n",
        "print(\"Root node is:\")\n",
        "print(Node1.data)\n",
        "\n",
        "print(\"left child of the Root node is:\")\n",
        "print(Node1.leftchild.data)\n",
        "\n",
        "print(\"right child of the Root node is:\")\n",
        "print(Node1.rightchild.data)\n",
        "\n",
        "print(\"left child of the node2 is:\")\n",
        "print(Node2.leftchild.data)\n",
        "\n",
        "print(\"right child of the node2 is:\")\n",
        "print(Node2.rightchild.data)\n",
        "\n",
        "print(\"left child of node3 is:\")\n",
        "print(Node3.leftchild.data)\n",
        "\n",
        "print(\"right child of node3 is:\")\n",
        "print(Node3.rightchild.data)\n"
      ],
      "metadata": {
        "colab": {
          "base_uri": "https://localhost:8080/"
        },
        "id": "_BtjKLaSlvHe",
        "outputId": "443e5a42-f755-4085-b945-875d38a99e97"
      },
      "execution_count": null,
      "outputs": [
        {
          "output_type": "stream",
          "name": "stdout",
          "text": [
            "Root node is:\n",
            "10\n",
            "left child of the Root node is:\n",
            "20\n",
            "right child of the Root node is:\n",
            "30\n",
            "left child of the node2 is:\n",
            "40\n",
            "right child of the node2 is:\n",
            "50\n",
            "left child of node3 is:\n",
            "60\n",
            "right child of node3 is:\n",
            "70\n"
          ]
        }
      ]
    },
    {
      "cell_type": "markdown",
      "source": [
        "## **Binary tree Traversal**\n",
        "### ***Types***\n",
        "1. Breadth first search (level-order traversal)\n",
        "2. Depth first search (depth order traversal)\n",
        "  1. Inorder : left-root-right **LDR**\n",
        "  2. Preorder : root-left-right **DLR**\n",
        "  3. Postorder : left-right-root **LRD**"
      ],
      "metadata": {
        "id": "RWAF-zBaspmb"
      }
    },
    {
      "cell_type": "markdown",
      "source": [
        "          A          \n",
        "        /  \\         \n",
        "       B     C       \n",
        "     /  \\   / \\      \n",
        "    D    E  F  G \n",
        "\n",
        "- Inorder Traversal: D B E A F C G\n",
        "- Preorder Traversal: A B D E C F G\n",
        "- Postorder Traversal: D E B F G C A"
      ],
      "metadata": {
        "id": "BiiQETbCwHWK"
      }
    },
    {
      "cell_type": "code",
      "source": [
        "#Binary tree creation and traversal\n",
        "class Node:\n",
        "  def __init__(self,data):\n",
        "    self.left=None\n",
        "    self.right=None\n",
        "    self.value=data\n",
        "def PrintInorder(root):\n",
        "  if root:\n",
        "    PrintInorder(root.left)\n",
        "    print(root.value,end=\" \")\n",
        "    PrintInorder(root.right)\n",
        "\n",
        "def PrintPreorder(root):\n",
        "  if root:\n",
        "    print(root.value,end=\" \")\n",
        "    PrintPreorder(root.left)\n",
        "    PrintPreorder(root.right)\n",
        "\n",
        "def PrintPostorder(root):\n",
        "  if root:\n",
        "    PrintPostorder(root.left)\n",
        "    PrintPostorder(root.right)\n",
        "    print(root.value,end=\" \")\n",
        "\n",
        "root=Node(1)\n",
        "root.left=Node(2)\n",
        "root.right=Node(3)\n",
        "root.left.left=Node(4)\n",
        "root.right.right=Node(5)\n",
        "print(\"PreOrder Traversal is:\")\n",
        "PrintPreorder(root)\n",
        "print( )\n",
        "print(\"\\nPostOrder Traversal is:\")\n",
        "PrintPostorder(root)\n",
        "print( )\n",
        "print(\"InOrder Traversal is:\")\n",
        "PrintInorder(root)"
      ],
      "metadata": {
        "colab": {
          "base_uri": "https://localhost:8080/"
        },
        "id": "mmIRE3W1Jj4V",
        "outputId": "17bd9347-4055-440f-df32-7bd6e5142b61"
      },
      "execution_count": null,
      "outputs": [
        {
          "output_type": "stream",
          "name": "stdout",
          "text": [
            "PreOrder Traversal is:\n",
            "1 2 4 3 5 \n",
            "\n",
            "PostOrder Traversal is:\n",
            "4 2 5 3 1 \n",
            "InOrder Traversal is:\n",
            "4 2 1 3 5 "
          ]
        }
      ]
    },
    {
      "cell_type": "markdown",
      "source": [
        "## ***Binary Search Tree***\n",
        "1. All the left side ele should be lesser than the parent\n",
        "2. All the right side ele should be greater than parent"
      ],
      "metadata": {
        "id": "IJ6MGzbcWEPH"
      }
    },
    {
      "cell_type": "code",
      "source": [
        "#BST-Insertion/Implementation\n",
        "class Node:\n",
        "  def __init__(self,key):\n",
        "    self.left=None\n",
        "    self.right=None\n",
        "    self.value=key\n",
        "def insert(root,key):\n",
        "  if root is None:\n",
        "    return Node(key)\n",
        "  else:\n",
        "    if root.value==key:\n",
        "      return root\n",
        "    elif root.value<key :\n",
        "      root.right=insert(root.right,key)\n",
        "    else:\n",
        "      root.left=insert(root.left,key)\n",
        "    return root\n",
        "def inorder(root):\n",
        "  if root:\n",
        "    inorder(root.left)\n",
        "    print(root.value)\n",
        "    inorder(root.right)\n",
        "\n",
        "r=Node(50)\n",
        "r=insert(r,30)    \n",
        "r=insert(r,20)    \n",
        "r=insert(r,40)    \n",
        "r=insert(r,30)    \n",
        "r=insert(r,70)    \n",
        "r=insert(r,60)    \n",
        "r=insert(r,80)   \n",
        "inorder(r) "
      ],
      "metadata": {
        "colab": {
          "base_uri": "https://localhost:8080/"
        },
        "id": "udoyAez4hpr0",
        "outputId": "a64c9f36-cd9e-45ec-ad71-ced8e2980b50"
      },
      "execution_count": null,
      "outputs": [
        {
          "output_type": "stream",
          "name": "stdout",
          "text": [
            "20\n",
            "30\n",
            "40\n",
            "50\n",
            "60\n",
            "70\n",
            "80\n"
          ]
        }
      ]
    },
    {
      "cell_type": "code",
      "source": [
        "#deleting node in binary search tree\n",
        "class Node:\n",
        "  def __init__(self,key):\n",
        "    self.left=None\n",
        "    self.right=None\n",
        "    self.value=key\n",
        "def insert(root,key):\n",
        "  if root is None:\n",
        "    return Node(key)\n",
        "  else:\n",
        "    if root.value==key:\n",
        "      return root\n",
        "    elif root.value<key:\n",
        "      root.right=insert(root.right,key)\n",
        "    else:\n",
        "      root.left=insert(root.left,key)\n",
        "  return root\n",
        "def inorder(root):\n",
        "  if root:\n",
        "    inorder(root.left)\n",
        "    print(root.value)\n",
        "    inorder(root.right)\n",
        "def minvalueNode(node):\n",
        "  temp=node\n",
        "  while(temp.left is not None):\n",
        "    temp=temp.left\n",
        "  return temp\n",
        "def deletenode(root,key):\n",
        "  if root is None:\n",
        "    return root\n",
        "  if key < root.value:\n",
        "    root.left=deletenode(root.left,key)\n",
        "  elif(key>root.value):\n",
        "    root.right=deletenode(root.right,key)\n",
        "  else:\n",
        "    if root.left is None:\n",
        "      temp=root.right\n",
        "      root=None\n",
        "      return temp\n",
        "    elif root.right is None:\n",
        "      temp=root.left\n",
        "      root=None\n",
        "      return temp\n",
        "    temp=minvalueNode(root.right)\n",
        "    root.value=temp.value\n",
        "    root.right=deletenode(root.right,temp.value)\n",
        "  return root\n",
        "\n",
        "root=None\n",
        "root=Node(50)\n",
        "root=insert(root,30)    \n",
        "root=insert(root,20)    \n",
        "root=insert(root,40)    \n",
        "root=insert(root,30)    \n",
        "root=insert(root,70)    \n",
        "root=insert(root,60)    \n",
        "root=insert(root,80)  \n",
        "print(\"inorder is\")\n",
        "inorder(root)\n",
        "print(\"delete 20\")\n",
        "root=deletenode(root,20)\n",
        "print(\"delete 30\")\n",
        "root=deletenode(root,30) \n",
        "print(\"delete 70\")\n",
        "root=deletenode(root,70)  \n",
        "print(\"inorder is\")\n",
        "inorder(root)"
      ],
      "metadata": {
        "colab": {
          "base_uri": "https://localhost:8080/"
        },
        "id": "G7r7eynqcpxI",
        "outputId": "875e24af-3fc6-4a8d-a4c8-6c89729f1dba"
      },
      "execution_count": 13,
      "outputs": [
        {
          "output_type": "stream",
          "name": "stdout",
          "text": [
            "inorder is\n",
            "20\n",
            "30\n",
            "40\n",
            "50\n",
            "60\n",
            "70\n",
            "80\n",
            "delete 20\n",
            "delete 30\n",
            "delete 70\n",
            "inorder is\n",
            "40\n",
            "50\n",
            "60\n",
            "80\n"
          ]
        }
      ]
    }
  ]
}