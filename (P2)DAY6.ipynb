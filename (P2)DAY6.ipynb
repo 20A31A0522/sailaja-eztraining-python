{
  "nbformat": 4,
  "nbformat_minor": 0,
  "metadata": {
    "colab": {
      "provenance": [],
      "authorship_tag": "ABX9TyOCSZiIUTN7Tx4aioGENvK5",
      "include_colab_link": true
    },
    "kernelspec": {
      "name": "python3",
      "display_name": "Python 3"
    },
    "language_info": {
      "name": "python"
    }
  },
  "cells": [
    {
      "cell_type": "markdown",
      "metadata": {
        "id": "view-in-github",
        "colab_type": "text"
      },
      "source": [
        "<a href=\"https://colab.research.google.com/github/20A31A0522/sailaja-eztraining-python/blob/main/(P2)DAY6.ipynb\" target=\"_parent\"><img src=\"https://colab.research.google.com/assets/colab-badge.svg\" alt=\"Open In Colab\"/></a>"
      ]
    },
    {
      "cell_type": "markdown",
      "source": [
        "# **Graph**\n",
        "- Adjacency connection should be there for a route or ***Path*** \n",
        "- g(v,e)\n",
        "## **Types of graph**\n",
        "  1. undirected\n",
        "  2. directed\n",
        "  3. weigh"
      ],
      "metadata": {
        "id": "vGY6is3nq4pQ"
      }
    },
    {
      "cell_type": "code",
      "source": [
        "     0-----1\n",
        "     |\\    | \\\n",
        "     |  \\  |   4\n",
        "     |    \\| /\n",
        "     2-----3"
      ],
      "metadata": {
        "id": "3ZSjEcUMtWEs"
      },
      "execution_count": null,
      "outputs": []
    },
    {
      "cell_type": "code",
      "source": [
        "from collections import defaultdict\n",
        "graph=defaultdict(list)\n",
        "def addEdge(graph,u,v):\n",
        "  graph[u].append(v)\n",
        "\n",
        "def generate_edges(graph):\n",
        "  edges=[]\n",
        "  for node in graph:\n",
        "    for neighbour in graph[node]:\n",
        "      edges.append((node,neighbour))\n",
        "  return edges\n",
        "\n",
        "addEdge(graph,'a','c')\n",
        "addEdge(graph,'b','c')\n",
        "addEdge(graph,'b','e')\n",
        "addEdge(graph,'c','d')\n",
        "addEdge(graph,'c','e')\n",
        "addEdge(graph,'c','a')\n",
        "addEdge(graph,'c','b')\n",
        "addEdge(graph,'e','b')\n",
        "addEdge(graph,'d','c')\n",
        "addEdge(graph,'e','c')\n",
        "\n",
        "print(generate_edges(graph))"
      ],
      "metadata": {
        "colab": {
          "base_uri": "https://localhost:8080/"
        },
        "id": "j7OMAGn-zph8",
        "outputId": "d70de495-ff3d-432a-9c0e-f8b5bf04dc36"
      },
      "execution_count": null,
      "outputs": [
        {
          "output_type": "stream",
          "name": "stdout",
          "text": [
            "[('a', 'c'), ('b', 'c'), ('b', 'e'), ('c', 'd'), ('c', 'e'), ('c', 'a'), ('c', 'b'), ('e', 'b'), ('e', 'c'), ('d', 'c')]\n"
          ]
        }
      ]
    },
    {
      "cell_type": "markdown",
      "source": [
        "## **Representation of Graph**\n",
        "## *Types*\n",
        "### 1. list of edges\n",
        "### 2. adjacency list\n",
        "### 3. adjacency matrix"
      ],
      "metadata": {
        "id": "1XiUwL-14Jli"
      }
    },
    {
      "cell_type": "code",
      "source": [
        "class Graph(object):\n",
        "  def __init__(self,size):\n",
        "    self.adjmatrix=[]\n",
        "    for i in range(size):\n",
        "      self.adjmatrix.append([0 for i in range(size)])\n",
        "    self.size=size\n",
        "  def add_edge(self,v1,v2):\n",
        "    if v1==v2 :\n",
        "      print(\"same vertex %d and %d\" %(v1,v2))\n",
        "    self.adjmatrix[v1][v2]=1\n",
        "    self.adjmatrix[v2][v1]=1\n",
        "  def remove_edge(self,v1,v2):\n",
        "    if self.adjmatrix[v1][v2]==0:\n",
        "      print(\"no edge between %d and %d\",(v1,v2))\n",
        "      return\n",
        "    self.adjmatrix[v1][v2]=0\n",
        "    self.adjmatrix[v1][v2]=0\n",
        "  def __len__(self):\n",
        "    return self.size\n",
        "  def print_matrix(self):\n",
        "    for row in self.adjmatrix:\n",
        "      for val in row:\n",
        "        print('{:4}'.format(val))\n",
        "\n",
        "def main():\n",
        "  g=Graph(5)               \n",
        "  g.add_edge(0,1)\n",
        "  g.add_edge(0,2)\n",
        "  g.add_edge(1,2)\n",
        "  g.add_edge(2,0)\n",
        "  g.add_edge(2,3)\n",
        "  \n",
        "  g.print_matrix()\n",
        "\n",
        "if __name__=='__main__':\n",
        "  main()"
      ],
      "metadata": {
        "id": "AoRATyov81W3",
        "colab": {
          "base_uri": "https://localhost:8080/"
        },
        "outputId": "919a470d-3611-495b-974e-f01b108decc5"
      },
      "execution_count": null,
      "outputs": [
        {
          "output_type": "stream",
          "name": "stdout",
          "text": [
            "   0\n",
            "   1\n",
            "   1\n",
            "   0\n",
            "   0\n",
            "   1\n",
            "   0\n",
            "   1\n",
            "   0\n",
            "   0\n",
            "   1\n",
            "   1\n",
            "   0\n",
            "   1\n",
            "   0\n",
            "   0\n",
            "   0\n",
            "   1\n",
            "   0\n",
            "   0\n",
            "   0\n",
            "   0\n",
            "   0\n",
            "   0\n",
            "   0\n"
          ]
        }
      ]
    },
    {
      "cell_type": "markdown",
      "source": [
        "Graph BFS\n",
        "in bfs visit a vertex and move on to all adjacent vertices\n",
        "whereas in dfs, after visiting a node select one adjacent vertex and explore it completely and move on with other vertex"
      ],
      "metadata": {
        "id": "bnqVhshqZPzl"
      }
    },
    {
      "cell_type": "code",
      "source": [
        "Graph={\n",
        "    '5' : ['3','7'],\n",
        "    '3' : ['2','4'] ,\n",
        "    '7' : ['8'],\n",
        "    '2' : [],\n",
        "    '4' : ['8'],\n",
        "    '8' : []\n",
        "}\n",
        "\n",
        "visited=[]\n",
        "queue=[]\n",
        "\n",
        "def bfs(visited,graph,node):\n",
        "  visited.append(node)\n",
        "  queue.append(node)\n",
        "\n",
        "  while queue:\n",
        "    m=queue.pop(0)\n",
        "    print(m,end=' ')\n",
        "\n",
        "    for neighbour in Graph[m]:\n",
        "      if neighbour not in visited:\n",
        "        visited.append(neighbour)\n",
        "        queue.append(neighbour)\n",
        "\n",
        "bfs(visited,Graph,'5')\n"
      ],
      "metadata": {
        "colab": {
          "base_uri": "https://localhost:8080/"
        },
        "id": "CwMA9ToPf4dN",
        "outputId": "65914139-e19a-41b4-d73d-6e4bcd2f5e12"
      },
      "execution_count": null,
      "outputs": [
        {
          "output_type": "stream",
          "name": "stdout",
          "text": [
            "5 3 7 2 4 8 "
          ]
        }
      ]
    },
    {
      "cell_type": "code",
      "source": [
        "Graph={\n",
        "    '5' : ['3','7'],\n",
        "    '3' : ['2','4'] ,\n",
        "    '7' : ['8'],\n",
        "    '2' : [],\n",
        "    '4' : ['8'],\n",
        "    '8' : []\n",
        "}\n",
        "\n",
        "visited=set()\n",
        "\n",
        "def dfs(visited,graph,node):\n",
        "  if node not in visited:\n",
        "    print(node)\n",
        "    visited.add(node)\n",
        "    for neighbour in graph[node]:\n",
        "      dfs(visited,graph,neighbour)\n",
        "\n",
        "dfs(visited,Graph, '5')"
      ],
      "metadata": {
        "colab": {
          "base_uri": "https://localhost:8080/"
        },
        "id": "ob4NF9r3nhGW",
        "outputId": "79acf73c-f799-4139-8d09-d464225b43a6"
      },
      "execution_count": null,
      "outputs": [
        {
          "output_type": "stream",
          "name": "stdout",
          "text": [
            "5\n",
            "3\n",
            "2\n",
            "4\n",
            "8\n",
            "7\n"
          ]
        }
      ]
    },
    {
      "cell_type": "markdown",
      "source": [
        "## **DIJKSTRA ALGORITHM**\n",
        "- It comes under greedy method where solution for the given problem will be figured out stage by stage\n",
        "- It helps you to find out shortest path from one vertex to all other vertices\n",
        "### Drawback : If weight of any edge is a negative number this algorithm won't work for that"
      ],
      "metadata": {
        "id": "QdxPjBL-0v3n"
      }
    }
  ]
}