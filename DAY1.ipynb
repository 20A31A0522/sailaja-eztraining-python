{
  "nbformat": 4,
  "nbformat_minor": 0,
  "metadata": {
    "colab": {
      "provenance": [],
      "authorship_tag": "ABX9TyM1h7sODBuvNx8cdlklCMSm",
      "include_colab_link": true
    },
    "kernelspec": {
      "name": "python3",
      "display_name": "Python 3"
    },
    "language_info": {
      "name": "python"
    }
  },
  "cells": [
    {
      "cell_type": "markdown",
      "metadata": {
        "id": "view-in-github",
        "colab_type": "text"
      },
      "source": [
        "<a href=\"https://colab.research.google.com/github/20A31A0522/sailaja-eztraining-python/blob/main/DAY1.ipynb\" target=\"_parent\"><img src=\"https://colab.research.google.com/assets/colab-badge.svg\" alt=\"Open In Colab\"/></a>"
      ]
    },
    {
      "cell_type": "markdown",
      "source": [
        "### INTRO\n",
        "*   Python is famous in the market and it is called as the language of future.\n",
        "*   It supports current technologies and upcoming technologies.\n",
        "**Mediums:*\n",
        "Idle-Interpreted development learning environment,\n",
        "Jupyter notebook,\n",
        "Anaconda,\n",
        "Thoni,\n",
        "VS code.\n",
        "python-scripting language\n",
        "\n",
        "\n"
      ],
      "metadata": {
        "id": "frB9La2d7EaZ"
      }
    },
    {
      "cell_type": "markdown",
      "source": [
        "### 1.displaying name in mother tongue using unicode for letters"
      ],
      "metadata": {
        "id": "LjrK4OE4IXDt"
      }
    },
    {
      "cell_type": "code",
      "source": [
        "print(chr(3126)+chr(3144)+chr(3122)+chr(3100)+' '+chr(3128)+chr(3135)+chr(3110)+chr(3149)+chr(3111)+chr(3112)+chr(3134)+chr(3108)+chr(3135))"
      ],
      "metadata": {
        "colab": {
          "base_uri": "https://localhost:8080/"
        },
        "id": "-uSM_Bh680-5",
        "outputId": "856e6e7d-9c44-4d41-eb78-0ad85868aaa2"
      },
      "execution_count": null,
      "outputs": [
        {
          "output_type": "stream",
          "name": "stdout",
          "text": [
            "శైలజ సిద్ధనాతి\n"
          ]
        }
      ]
    },
    {
      "cell_type": "markdown",
      "source": [
        "*Assignment-sudarsan,mounya "
      ],
      "metadata": {
        "id": "JBgwGNuYK9Sq"
      }
    },
    {
      "cell_type": "code",
      "source": [
        "print(chr(3128)+chr(3137)+chr(3110)+chr(3120)+chr(3149)+chr(3126)+chr(3112)+chr(3149))"
      ],
      "metadata": {
        "colab": {
          "base_uri": "https://localhost:8080/"
        },
        "id": "IkeUvbLcnboV",
        "outputId": "f6cc5a71-5715-4035-ba4f-aaa9c8bcde20"
      },
      "execution_count": null,
      "outputs": [
        {
          "output_type": "stream",
          "name": "stdout",
          "text": [
            "సుదర్శన్\n"
          ]
        }
      ]
    },
    {
      "cell_type": "code",
      "source": [
        "print(chr(3118)+chr(3148)+chr(3112)+chr(3149)+chr(3119))"
      ],
      "metadata": {
        "colab": {
          "base_uri": "https://localhost:8080/"
        },
        "id": "A3UVK4joo4J6",
        "outputId": "142e03aa-a677-454b-ba4f-c28af7a99fc0"
      },
      "execution_count": null,
      "outputs": [
        {
          "output_type": "stream",
          "name": "stdout",
          "text": [
            "మౌన్య\n"
          ]
        }
      ]
    },
    {
      "cell_type": "markdown",
      "source": [
        "### 2.Checking valid and invalid varaiable names"
      ],
      "metadata": {
        "id": "7Glp6F4WLEBK"
      }
    },
    {
      "cell_type": "code",
      "source": [
        "val1=100\n",
        "_num=10\n",
        "number=5"
      ],
      "metadata": {
        "id": "UViOC1MXNQPo"
      },
      "execution_count": null,
      "outputs": []
    },
    {
      "cell_type": "code",
      "source": [
        "1num=22\n",
        "22=100\n",
        "+num=9"
      ],
      "metadata": {
        "colab": {
          "base_uri": "https://localhost:8080/",
          "height": 130
        },
        "id": "49LJd14CNb9p",
        "outputId": "a59dee3b-6a0e-48a2-ec1c-b3be1f4f4d11"
      },
      "execution_count": null,
      "outputs": [
        {
          "output_type": "error",
          "ename": "SyntaxError",
          "evalue": "ignored",
          "traceback": [
            "\u001b[0;36m  File \u001b[0;32m\"<ipython-input-6-73b9d26a08da>\"\u001b[0;36m, line \u001b[0;32m1\u001b[0m\n\u001b[0;31m    1num=22\u001b[0m\n\u001b[0m     ^\u001b[0m\n\u001b[0;31mSyntaxError\u001b[0m\u001b[0;31m:\u001b[0m invalid syntax\n"
          ]
        }
      ]
    },
    {
      "cell_type": "markdown",
      "source": [
        "### 3.Data types"
      ],
      "metadata": {
        "id": "pT_SDVCkN6Xi"
      }
    },
    {
      "cell_type": "markdown",
      "source": [
        "(1.)Numerical data type - int,float,complex"
      ],
      "metadata": {
        "id": "96_1p1ryPhKY"
      }
    },
    {
      "cell_type": "code",
      "source": [
        "type(10)"
      ],
      "metadata": {
        "colab": {
          "base_uri": "https://localhost:8080/"
        },
        "id": "mG9RlqmcOmAC",
        "outputId": "cc54832a-f4e5-4f3c-b46e-db2e63350aa2"
      },
      "execution_count": null,
      "outputs": [
        {
          "output_type": "execute_result",
          "data": {
            "text/plain": [
              "int"
            ]
          },
          "metadata": {},
          "execution_count": 7
        }
      ]
    },
    {
      "cell_type": "code",
      "source": [
        "type(3.23)"
      ],
      "metadata": {
        "colab": {
          "base_uri": "https://localhost:8080/"
        },
        "id": "R3WlpSbFOukn",
        "outputId": "b34f947b-2ea9-4c52-a488-29157936a077"
      },
      "execution_count": null,
      "outputs": [
        {
          "output_type": "execute_result",
          "data": {
            "text/plain": [
              "float"
            ]
          },
          "metadata": {},
          "execution_count": 8
        }
      ]
    },
    {
      "cell_type": "code",
      "source": [
        "type(10+5j)"
      ],
      "metadata": {
        "colab": {
          "base_uri": "https://localhost:8080/"
        },
        "id": "1m3fQ15dOwrX",
        "outputId": "93877133-8f82-4d46-a4b1-3d9657d3d118"
      },
      "execution_count": null,
      "outputs": [
        {
          "output_type": "execute_result",
          "data": {
            "text/plain": [
              "complex"
            ]
          },
          "metadata": {},
          "execution_count": 9
        }
      ]
    },
    {
      "cell_type": "code",
      "source": [
        "type(1+2i)"
      ],
      "metadata": {
        "colab": {
          "base_uri": "https://localhost:8080/",
          "height": 130
        },
        "id": "i4Cwrn9TOz7-",
        "outputId": "466ceaf8-78d6-45f4-ba41-c25a512c5471"
      },
      "execution_count": null,
      "outputs": [
        {
          "output_type": "error",
          "ename": "SyntaxError",
          "evalue": "ignored",
          "traceback": [
            "\u001b[0;36m  File \u001b[0;32m\"<ipython-input-10-2abb50fd3a3b>\"\u001b[0;36m, line \u001b[0;32m1\u001b[0m\n\u001b[0;31m    type(1+2i)\u001b[0m\n\u001b[0m            ^\u001b[0m\n\u001b[0;31mSyntaxError\u001b[0m\u001b[0;31m:\u001b[0m invalid syntax\n"
          ]
        }
      ]
    },
    {
      "cell_type": "markdown",
      "source": [
        "(2.)Boolean Datatype - True,False"
      ],
      "metadata": {
        "id": "CYZiX-fXPwY4"
      }
    },
    {
      "cell_type": "code",
      "source": [
        "type(True)"
      ],
      "metadata": {
        "colab": {
          "base_uri": "https://localhost:8080/"
        },
        "id": "VhOjXGvAO2vf",
        "outputId": "1690fa08-3409-4cc4-ae3d-0e6fe9e780e7"
      },
      "execution_count": null,
      "outputs": [
        {
          "output_type": "execute_result",
          "data": {
            "text/plain": [
              "bool"
            ]
          },
          "metadata": {},
          "execution_count": 11
        }
      ]
    },
    {
      "cell_type": "code",
      "source": [
        "type(False)"
      ],
      "metadata": {
        "colab": {
          "base_uri": "https://localhost:8080/"
        },
        "id": "WOMMW3Z3O6k_",
        "outputId": "59ccc3ca-495c-4c79-d1b2-6c9b2e9861b9"
      },
      "execution_count": null,
      "outputs": [
        {
          "output_type": "execute_result",
          "data": {
            "text/plain": [
              "bool"
            ]
          },
          "metadata": {},
          "execution_count": 12
        }
      ]
    },
    {
      "cell_type": "markdown",
      "source": [
        "(3.)Sequence Datatype - string,list,tuple,dictionary"
      ],
      "metadata": {
        "id": "bJYKGIRXP_av"
      }
    },
    {
      "cell_type": "code",
      "source": [
        "type(\"training\")"
      ],
      "metadata": {
        "colab": {
          "base_uri": "https://localhost:8080/"
        },
        "id": "iLawlzu0PEog",
        "outputId": "1300d9e0-6f92-4572-ee9e-797c0468013f"
      },
      "execution_count": null,
      "outputs": [
        {
          "output_type": "execute_result",
          "data": {
            "text/plain": [
              "str"
            ]
          },
          "metadata": {},
          "execution_count": 23
        }
      ]
    },
    {
      "cell_type": "code",
      "source": [
        "type(\"s\")"
      ],
      "metadata": {
        "colab": {
          "base_uri": "https://localhost:8080/"
        },
        "id": "rd3e2ItKPK7x",
        "outputId": "12a98dee-9a57-46f1-f55d-9bc606a9bb0d"
      },
      "execution_count": null,
      "outputs": [
        {
          "output_type": "execute_result",
          "data": {
            "text/plain": [
              "str"
            ]
          },
          "metadata": {},
          "execution_count": 16
        }
      ]
    },
    {
      "cell_type": "code",
      "source": [
        "type([11,22,25,10])"
      ],
      "metadata": {
        "colab": {
          "base_uri": "https://localhost:8080/"
        },
        "id": "GNIFbhrGPO_Q",
        "outputId": "d1c14cc4-69a4-4ce7-8e82-8e52ce91871d"
      },
      "execution_count": null,
      "outputs": [
        {
          "output_type": "execute_result",
          "data": {
            "text/plain": [
              "list"
            ]
          },
          "metadata": {},
          "execution_count": 17
        }
      ]
    },
    {
      "cell_type": "markdown",
      "source": [
        "### 4.Type Conversion"
      ],
      "metadata": {
        "id": "LPM7cSePQL-g"
      }
    },
    {
      "cell_type": "code",
      "source": [
        "int(34.6)"
      ],
      "metadata": {
        "colab": {
          "base_uri": "https://localhost:8080/"
        },
        "id": "Su5Al2BcQdBo",
        "outputId": "71b5c662-75f5-4ea1-e9c1-242293ddf69b"
      },
      "execution_count": null,
      "outputs": [
        {
          "output_type": "execute_result",
          "data": {
            "text/plain": [
              "34"
            ]
          },
          "metadata": {},
          "execution_count": 18
        }
      ]
    },
    {
      "cell_type": "code",
      "source": [
        "id(56)"
      ],
      "metadata": {
        "colab": {
          "base_uri": "https://localhost:8080/"
        },
        "id": "ml_TvTrwQhHY",
        "outputId": "17f4ea71-a591-4120-85e9-06f2c4fd3942"
      },
      "execution_count": null,
      "outputs": [
        {
          "output_type": "execute_result",
          "data": {
            "text/plain": [
              "9794848"
            ]
          },
          "metadata": {},
          "execution_count": 19
        }
      ]
    },
    {
      "cell_type": "code",
      "source": [
        "isinstance(10,int)"
      ],
      "metadata": {
        "colab": {
          "base_uri": "https://localhost:8080/"
        },
        "id": "LBeGBTUvQqBX",
        "outputId": "f4698e9b-f140-4e34-c7ad-6f3540ae1c86"
      },
      "execution_count": null,
      "outputs": [
        {
          "output_type": "execute_result",
          "data": {
            "text/plain": [
              "True"
            ]
          },
          "metadata": {},
          "execution_count": 27
        }
      ]
    },
    {
      "cell_type": "code",
      "source": [
        "isinstance(22,complex)"
      ],
      "metadata": {
        "colab": {
          "base_uri": "https://localhost:8080/"
        },
        "id": "wXRw-LyeRC-n",
        "outputId": "dc681cfd-8367-4fa8-814a-b56de17f8166"
      },
      "execution_count": null,
      "outputs": [
        {
          "output_type": "execute_result",
          "data": {
            "text/plain": [
              "False"
            ]
          },
          "metadata": {},
          "execution_count": 25
        }
      ]
    },
    {
      "cell_type": "markdown",
      "source": [
        "*concatenating strings using type coversion"
      ],
      "metadata": {
        "id": "58mpLMszoJw8"
      }
    },
    {
      "cell_type": "code",
      "source": [
        "a=30\n",
        "print(\"The value is:\"+a)"
      ],
      "metadata": {
        "colab": {
          "base_uri": "https://localhost:8080/",
          "height": 183
        },
        "id": "n64g2fprnrCd",
        "outputId": "9c3f5ff7-1285-4d94-d564-3b1dd8da51eb"
      },
      "execution_count": null,
      "outputs": [
        {
          "output_type": "error",
          "ename": "TypeError",
          "evalue": "ignored",
          "traceback": [
            "\u001b[0;31m---------------------------------------------------------------------------\u001b[0m",
            "\u001b[0;31mTypeError\u001b[0m                                 Traceback (most recent call last)",
            "\u001b[0;32m<ipython-input-1-c9b128b07049>\u001b[0m in \u001b[0;36m<module>\u001b[0;34m\u001b[0m\n\u001b[1;32m      1\u001b[0m \u001b[0ma\u001b[0m\u001b[0;34m=\u001b[0m\u001b[0;36m30\u001b[0m\u001b[0;34m\u001b[0m\u001b[0;34m\u001b[0m\u001b[0m\n\u001b[0;32m----> 2\u001b[0;31m \u001b[0mprint\u001b[0m\u001b[0;34m(\u001b[0m\u001b[0;34m\"The value is:\"\u001b[0m\u001b[0;34m+\u001b[0m\u001b[0ma\u001b[0m\u001b[0;34m)\u001b[0m\u001b[0;34m\u001b[0m\u001b[0;34m\u001b[0m\u001b[0m\n\u001b[0m",
            "\u001b[0;31mTypeError\u001b[0m: can only concatenate str (not \"int\") to str"
          ]
        }
      ]
    },
    {
      "cell_type": "code",
      "source": [
        "a=13\n",
        "print(\"the value is :\"+str(a))"
      ],
      "metadata": {
        "colab": {
          "base_uri": "https://localhost:8080/"
        },
        "id": "ah5gzgBQoApl",
        "outputId": "4611ccf0-e7b6-4a97-f040-726d4c8b046a"
      },
      "execution_count": null,
      "outputs": [
        {
          "output_type": "stream",
          "name": "stdout",
          "text": [
            "the value is :13\n"
          ]
        }
      ]
    },
    {
      "cell_type": "code",
      "source": [
        "a=13\n",
        "print(\"the value is:\",a)"
      ],
      "metadata": {
        "colab": {
          "base_uri": "https://localhost:8080/"
        },
        "id": "ThSUlMchoT49",
        "outputId": "297ab844-1762-437c-fe81-137e7005708e"
      },
      "execution_count": null,
      "outputs": [
        {
          "output_type": "stream",
          "name": "stdout",
          "text": [
            "the value is: 13\n"
          ]
        }
      ]
    },
    {
      "cell_type": "code",
      "source": [],
      "metadata": {
        "id": "5j-O00Biop9M"
      },
      "execution_count": null,
      "outputs": []
    },
    {
      "cell_type": "markdown",
      "source": [
        "### 5.Operators's Precedence and Associativity"
      ],
      "metadata": {
        "id": "Mk6X4VtAVDrF"
      }
    },
    {
      "cell_type": "markdown",
      "source": [
        "*   every operator has it's own priority.\n",
        "-we can use BODMAS rule\n",
        "*  If there is same priority operators present in the expression,evaluation happens left to right except assignment operator(evaluates right to left)\n",
        "\n"
      ],
      "metadata": {
        "id": "lMSbkRqKVeG1"
      }
    },
    {
      "cell_type": "code",
      "source": [],
      "metadata": {
        "id": "ZCg00jYIosok"
      },
      "execution_count": null,
      "outputs": []
    },
    {
      "cell_type": "code",
      "source": [
        "n=input(\"enter\")\n",
        "print(n)"
      ],
      "metadata": {
        "colab": {
          "base_uri": "https://localhost:8080/"
        },
        "id": "2WoHQDBCos67",
        "outputId": "c364c7cb-980a-4e76-81ee-3fd92976b11d"
      },
      "execution_count": null,
      "outputs": [
        {
          "output_type": "stream",
          "name": "stdout",
          "text": [
            "enter10\n",
            "10\n"
          ]
        }
      ]
    },
    {
      "cell_type": "markdown",
      "source": [
        "*   input() --- by default --- string\n",
        "-for int -- int(input())\n",
        "-for float -- float(input())\n",
        "-for complex -- complex(input())"
      ],
      "metadata": {
        "id": "DsdIb0EtpA6s"
      }
    },
    {
      "cell_type": "markdown",
      "source": [
        "### PROGRAM--*Take 3 integers,3float numbers,2 strings and 1 complex number as input and print the same on the screen(note* use formatted output) "
      ],
      "metadata": {
        "id": "ZFmH6iBHpLdL"
      }
    },
    {
      "cell_type": "code",
      "source": [
        "num1=int(input(\"Enter first integer:\"))\n",
        "num2=int(input(\"Enter second integer:\"))\n",
        "num3=int(input(\"Enter third integer:\"))\n",
        "print()\n",
        "fl1=float(input(\"Enter first float:\"))\n",
        "fl2=float(input(\"Enter second float:\"))\n",
        "fl3=float(input(\"Enter third float:\"))\n",
        "print()\n",
        "string1=input(\"Enter first string:\")\n",
        "string2=input(\"Enter second string:\")\n",
        "print()\n",
        "c1=complex(input(\"Enter first complex:\"))\n",
        "print()\n",
        "print(\"OUTPUT\")\n",
        "print(\"------\")\n",
        "print(\"first integer:\",num1)\n",
        "print(\"second integer:\",num2)\n",
        "print(\"third integer:\",num3)\n",
        "print(\"first float:\",fl1)\n",
        "print(\"second float:\",fl2)\n",
        "print(\"third float:\",fl3)\n",
        "print(\"first string:\",string1)\n",
        "print(\"second string:\",string2)\n",
        "print(\"first complex:\",c1)"
      ],
      "metadata": {
        "colab": {
          "base_uri": "https://localhost:8080/"
        },
        "id": "-fj-RBFhp39j",
        "outputId": "9e29137e-a581-4cd6-ea5a-bf3435542323"
      },
      "execution_count": null,
      "outputs": [
        {
          "output_type": "stream",
          "name": "stdout",
          "text": [
            "Enter first integer:1\n",
            "Enter second integer:2\n",
            "Enter third integer:3\n",
            "\n",
            "Enter first float:1.1\n",
            "Enter second float:2.2\n",
            "Enter third float:3.3\n",
            "\n",
            "Enter first string:training\n",
            "Enter second string:phase\n",
            "\n",
            "Enter first complex:5+2j\n",
            "\n",
            "OUTPUT\n",
            "------\n",
            "first integer: 1\n",
            "second integer: 2\n",
            "third integer: 3\n",
            "first float: 1.1\n",
            "second float: 2.2\n",
            "third float: 3.3\n",
            "first string: training\n",
            "second string: phase\n",
            "first complex: (5+2j)\n"
          ]
        }
      ]
    },
    {
      "cell_type": "markdown",
      "source": [
        "### Exercise1"
      ],
      "metadata": {
        "id": "9JKy8GrF87vq"
      }
    },
    {
      "cell_type": "code",
      "source": [
        "initial=int(input(\"enter initial sugar candy wt:\"))\n",
        "final=(0.75)*initial\n",
        "print(\"amount of candy kumar got\",final)\n",
        "remain=initial-final\n",
        "print(\"amount of candyb sam got\",remain)"
      ],
      "metadata": {
        "colab": {
          "base_uri": "https://localhost:8080/"
        },
        "id": "DvdiPZoEyLcv",
        "outputId": "28ba5d56-35d4-479f-845d-a84fa7635a35"
      },
      "execution_count": null,
      "outputs": [
        {
          "output_type": "stream",
          "name": "stdout",
          "text": [
            "enter initial sugar candy wt:75\n",
            "amount of candy kumar got 56.25\n",
            "amount of candyb sam got 18.75\n"
          ]
        }
      ]
    },
    {
      "cell_type": "code",
      "source": [
        "n=float(input())\n",
        "mul=3*n\n",
        "add=56.19+mul\n",
        "sub=add-10\n",
        "final=sub\n",
        "print(final)"
      ],
      "metadata": {
        "colab": {
          "base_uri": "https://localhost:8080/"
        },
        "id": "I-RNA6_lzRu_",
        "outputId": "ae214530-26e8-46d3-8476-1fe0f9bcbe1d"
      },
      "execution_count": null,
      "outputs": [
        {
          "output_type": "stream",
          "name": "stdout",
          "text": [
            "36.32\n",
            "155.15\n"
          ]
        }
      ]
    },
    {
      "cell_type": "code",
      "source": [
        "pos=int(input(\"enter a positive number:\"))\n",
        "neg=float(input(\"enter a negative float num:\"))\n",
        "mul=pos*neg\n",
        "print(mul)"
      ],
      "metadata": {
        "colab": {
          "base_uri": "https://localhost:8080/"
        },
        "id": "AUJ6UrA21PYN",
        "outputId": "8fbf106a-a3b6-47cb-9b3d-daa241790826"
      },
      "execution_count": null,
      "outputs": [
        {
          "output_type": "stream",
          "name": "stdout",
          "text": [
            "enter a positive number:22\n",
            "enter a negative float num:-2.1\n",
            "-46.2\n"
          ]
        }
      ]
    },
    {
      "cell_type": "markdown",
      "source": [
        "### 6.Operators\n",
        "\n",
        "\n",
        "1.   Arithmetic operators\n",
        "\n",
        "*   addition  +\n",
        "-subtraction  -\n",
        "-multiplication  *\n",
        "-dividion  (float)  /\n",
        "-floor division  (int)  //\n",
        "*   modulus  %\n",
        "\n",
        "2.   Relational/Comparision operators(compares two or more values)\n",
        "\n",
        "* '>'\n",
        "-<\n",
        "-==\n",
        "-<=\n",
        "*   '>='\n",
        "-!=\n",
        "\n",
        "3.  Logical operators\n",
        "\n",
        "*   and\n",
        "*   or\n",
        "*   not\n",
        "\n",
        "4.  Assignment opeartors\n",
        "\n",
        "\n",
        "*   =\n",
        "*   +=\n",
        "*   -=\n",
        "*   *=\n",
        "*   /=\n",
        "\n",
        "\n",
        "5.   Bitwise operators\n",
        "- 0's and 1's\n",
        "- faster for compressing data\n",
        "- sending data in n/w to n/w\n",
        "- 0-1 or True-False or ON-OFF\n",
        "\n",
        "- Bitwise AND\n",
        "- Bitwise OR\n",
        "- NOT\n",
        "- XOR\n",
        "- Left shift and Right shift"
      ],
      "metadata": {
        "id": "dL_sAPM74NSd"
      }
    },
    {
      "cell_type": "code",
      "source": [
        "#arithmetic\n",
        "print(22+22)\n",
        "print(22-21)\n",
        "print(22*22)\n",
        "print(10/2)\n",
        "print(10//2)\n",
        "print(10%2)"
      ],
      "metadata": {
        "colab": {
          "base_uri": "https://localhost:8080/"
        },
        "id": "NVgyZriH52Fs",
        "outputId": "96f0dbca-75e0-4dc9-c084-1718cdfb4151"
      },
      "execution_count": null,
      "outputs": [
        {
          "output_type": "stream",
          "name": "stdout",
          "text": [
            "44\n",
            "1\n",
            "484\n",
            "5.0\n",
            "5\n",
            "0\n"
          ]
        }
      ]
    },
    {
      "cell_type": "code",
      "source": [
        "#relational\n",
        "print(10<22)\n",
        "print(10>22)\n",
        "print(1==2)\n",
        "print(2>=3)\n",
        "print(2>=2)\n",
        "print(1!=2)"
      ],
      "metadata": {
        "colab": {
          "base_uri": "https://localhost:8080/"
        },
        "id": "73yXvIH96KTE",
        "outputId": "517c77eb-97f4-4e4e-c6ce-359e94347823"
      },
      "execution_count": null,
      "outputs": [
        {
          "output_type": "stream",
          "name": "stdout",
          "text": [
            "True\n",
            "False\n",
            "False\n",
            "False\n",
            "True\n",
            "True\n"
          ]
        }
      ]
    },
    {
      "cell_type": "code",
      "source": [
        "#logical\n",
        "print(22>11 and 33<44)\n",
        "print(22>11 or 33>44) \n",
        "print(not(1==2))\n",
        "print(not(1==1))"
      ],
      "metadata": {
        "colab": {
          "base_uri": "https://localhost:8080/"
        },
        "id": "nRfuS18_7Ejz",
        "outputId": "65dcb3b8-7ea8-4c12-bb62-e93efaa5aa75"
      },
      "execution_count": null,
      "outputs": [
        {
          "output_type": "stream",
          "name": "stdout",
          "text": [
            "True\n",
            "True\n",
            "True\n",
            "False\n"
          ]
        }
      ]
    },
    {
      "cell_type": "code",
      "source": [
        "#bitwise\n",
        "print(10 & 4) \n",
        "print(12 & 7)"
      ],
      "metadata": {
        "colab": {
          "base_uri": "https://localhost:8080/"
        },
        "id": "nyvRuCcH-fFq",
        "outputId": "4950cf57-92c7-477c-b0f7-c792b0dfd08c"
      },
      "execution_count": null,
      "outputs": [
        {
          "output_type": "stream",
          "name": "stdout",
          "text": [
            "0\n",
            "4\n"
          ]
        }
      ]
    },
    {
      "cell_type": "code",
      "source": [
        "n1=int(input())\n",
        "n2=int(input())\n",
        "b1=bin(n1)\n",
        "b2=bin(n2)\n",
        "print(b1)\n",
        "print(b2)\n",
        "print(bin(n1&n2))"
      ],
      "metadata": {
        "colab": {
          "base_uri": "https://localhost:8080/"
        },
        "id": "nWt4VKQKAJ5O",
        "outputId": "1fadf32f-0e5a-4692-a067-36c81271afc1"
      },
      "execution_count": null,
      "outputs": [
        {
          "output_type": "stream",
          "name": "stdout",
          "text": [
            "12\n",
            "7\n",
            "0b1100\n",
            "0b111\n",
            "0b100\n"
          ]
        }
      ]
    },
    {
      "cell_type": "markdown",
      "source": [
        "### 7.Multiple inputs in single line"
      ],
      "metadata": {
        "id": "KgeM-xx1-y_C"
      }
    },
    {
      "cell_type": "code",
      "source": [
        "n1,n2=input(\"enter two integers\").split(\",\")\n",
        "print(n1)\n",
        "print(n2)\n",
        "print(n1+n2)"
      ],
      "metadata": {
        "colab": {
          "base_uri": "https://localhost:8080/"
        },
        "id": "Q4pZx6MD-7FZ",
        "outputId": "d386baab-9b4b-4947-a2f6-b2b1d3f6f416"
      },
      "execution_count": null,
      "outputs": [
        {
          "output_type": "stream",
          "name": "stdout",
          "text": [
            "enter two integers1,2\n",
            "1\n",
            "2\n",
            "12\n"
          ]
        }
      ]
    },
    {
      "cell_type": "code",
      "source": [
        "n1,n2=input(\"enter two integers\").split(\".\")\n",
        "print(n1)\n",
        "print(n2)\n",
        "print(n1+n2)"
      ],
      "metadata": {
        "colab": {
          "base_uri": "https://localhost:8080/"
        },
        "id": "AH1Tle7E_9ws",
        "outputId": "2a23eb40-e952-4231-b4e4-411b8509e437"
      },
      "execution_count": null,
      "outputs": [
        {
          "output_type": "stream",
          "name": "stdout",
          "text": [
            "enter two integers22.21\n",
            "22\n",
            "21\n",
            "2221\n"
          ]
        }
      ]
    },
    {
      "cell_type": "code",
      "source": [
        "n1,n2=input(\"enter two integers\").split(\" \")\n",
        "print(n1)\n",
        "print(n2)\n",
        "print(type(n1))\n",
        "print(n1+n2)"
      ],
      "metadata": {
        "colab": {
          "base_uri": "https://localhost:8080/"
        },
        "id": "hpqQUmT_ADQo",
        "outputId": "15c42efa-f97d-44ce-c2a8-7f2142d52638"
      },
      "execution_count": null,
      "outputs": [
        {
          "output_type": "stream",
          "name": "stdout",
          "text": [
            "enter two integers22 12\n",
            "22\n",
            "12\n",
            "<class 'str'>\n",
            "2212\n"
          ]
        }
      ]
    },
    {
      "cell_type": "code",
      "source": [
        "n1,n2=input(\"enter two integers\").split(\".\")\n",
        "print(n1)\n",
        "print(n2)\n",
        "print(int(n1)+int(n2))"
      ],
      "metadata": {
        "colab": {
          "base_uri": "https://localhost:8080/"
        },
        "id": "uVg54ABbCvbf",
        "outputId": "6bc21e4c-fc0f-4f94-a273-68536e341bac"
      },
      "execution_count": null,
      "outputs": [
        {
          "output_type": "stream",
          "name": "stdout",
          "text": [
            "enter two integers22.21\n",
            "22\n",
            "21\n",
            "43\n"
          ]
        }
      ]
    },
    {
      "cell_type": "markdown",
      "source": [
        "### Exercise2(swapping , area & perimeter)"
      ],
      "metadata": {
        "id": "qmFiINXADMr3"
      }
    },
    {
      "cell_type": "code",
      "source": [
        "#swappingwithtemp\n",
        "n1=int(input())\n",
        "n2=int(input())\n",
        "temp=n1\n",
        "n1=n2\n",
        "n2=temp\n",
        "print(\"n1=\",n1)\n",
        "print(\"n2=\",n2)"
      ],
      "metadata": {
        "colab": {
          "base_uri": "https://localhost:8080/"
        },
        "id": "bQ2J0jBYDaY_",
        "outputId": "664cdb7d-6231-4bf3-8eca-91566be75801"
      },
      "execution_count": null,
      "outputs": [
        {
          "output_type": "stream",
          "name": "stdout",
          "text": [
            "1\n",
            "2\n",
            "n1= 2\n",
            "n2= 1\n"
          ]
        }
      ]
    },
    {
      "cell_type": "code",
      "source": [
        "#swappingwithouttemp\n",
        "n1=int(input())\n",
        "n2=int(input())\n",
        "total=n1+n2\n",
        "n1=total-n1\n",
        "n2=total-n2\n",
        "print(n1)\n",
        "print(n2)"
      ],
      "metadata": {
        "colab": {
          "base_uri": "https://localhost:8080/"
        },
        "id": "XpYt6sKgEr-Y",
        "outputId": "bdcb7aa4-6087-40a3-a90b-d48f08711657"
      },
      "execution_count": null,
      "outputs": [
        {
          "output_type": "stream",
          "name": "stdout",
          "text": [
            "22\n",
            "11\n",
            "11\n",
            "22\n"
          ]
        }
      ]
    },
    {
      "cell_type": "code",
      "source": [
        "#area\n",
        "l=int(input(\"length=\"))\n",
        "b=int(input(\"breadth=\"))\n",
        "area=l*b\n",
        "print(\"area of the rectangle=\",area)"
      ],
      "metadata": {
        "colab": {
          "base_uri": "https://localhost:8080/"
        },
        "id": "GuCYU4PqFaGP",
        "outputId": "658184c9-a8c4-49a1-b2c0-7ebe7cfd6da4"
      },
      "execution_count": null,
      "outputs": [
        {
          "output_type": "stream",
          "name": "stdout",
          "text": [
            "length=20\n",
            "breadth=30\n",
            "area of the rectangle= 600\n"
          ]
        }
      ]
    },
    {
      "cell_type": "code",
      "source": [
        "#perimeter\n",
        "l=int(input(\"length=\"))\n",
        "b=int(input(\"breadth=\"))\n",
        "perimeter=2*(l+b)\n",
        "print(\"perimeter of the rectangle=\",perimeter)"
      ],
      "metadata": {
        "colab": {
          "base_uri": "https://localhost:8080/"
        },
        "id": "vl8DJMkOFzCF",
        "outputId": "00c779b0-0f2e-4d40-c7c6-503d8304a6e2"
      },
      "execution_count": null,
      "outputs": [
        {
          "output_type": "stream",
          "name": "stdout",
          "text": [
            "length=20\n",
            "breadth=30\n",
            "perimeter of the rectangle= 100\n"
          ]
        }
      ]
    }
  ]
}