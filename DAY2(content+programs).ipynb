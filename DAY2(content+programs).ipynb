{
  "nbformat": 4,
  "nbformat_minor": 0,
  "metadata": {
    "colab": {
      "provenance": [],
      "toc_visible": true,
      "authorship_tag": "ABX9TyPW2dxF/H7Xh7yOSqjpSk8S",
      "include_colab_link": true
    },
    "kernelspec": {
      "name": "python3",
      "display_name": "Python 3"
    },
    "language_info": {
      "name": "python"
    }
  },
  "cells": [
    {
      "cell_type": "markdown",
      "metadata": {
        "id": "view-in-github",
        "colab_type": "text"
      },
      "source": [
        "<a href=\"https://colab.research.google.com/github/20A31A0522/sailaja-eztraining-python/blob/main/DAY2(content%2Bprograms).ipynb\" target=\"_parent\"><img src=\"https://colab.research.google.com/assets/colab-badge.svg\" alt=\"Open In Colab\"/></a>"
      ]
    },
    {
      "cell_type": "markdown",
      "source": [
        "### **1.BITWISE**"
      ],
      "metadata": {
        "id": "4YOKigLCHx2U"
      }
    },
    {
      "cell_type": "code",
      "source": [
        "#bitwise&|\n",
        "n1=int(input())\n",
        "n2=int(input())\n",
        "b1=bin(n1)\n",
        "b2=bin(n2)\n",
        "print(b1)\n",
        "print(b2)\n",
        "print(bin(n1&n2))\n",
        "print(n1&n2)\n",
        "print(bin(n1|n2))\n",
        "print(n1|n2)"
      ],
      "metadata": {
        "colab": {
          "base_uri": "https://localhost:8080/"
        },
        "id": "65PgA2eaBVO9",
        "outputId": "35f2fc76-86af-4333-96f0-9b474235ce41"
      },
      "execution_count": null,
      "outputs": [
        {
          "output_type": "stream",
          "name": "stdout",
          "text": [
            "12\n",
            "7\n",
            "0b1100\n",
            "0b111\n",
            "0b100\n",
            "4\n",
            "0b1111\n",
            "15\n"
          ]
        }
      ]
    },
    {
      "cell_type": "code",
      "source": [
        "#bitwisenot\n",
        "print(~3)\n",
        "print(~10)"
      ],
      "metadata": {
        "colab": {
          "base_uri": "https://localhost:8080/"
        },
        "id": "rxtL3GD9CSlL",
        "outputId": "4b078326-c551-4f42-deab-18e7f804c9b0"
      },
      "execution_count": null,
      "outputs": [
        {
          "output_type": "stream",
          "name": "stdout",
          "text": [
            "-4\n",
            "-11\n"
          ]
        }
      ]
    },
    {
      "cell_type": "code",
      "source": [
        "#xor-same=1,diff=0\n",
        "print(5^6)\n",
        "print(9^8)"
      ],
      "metadata": {
        "colab": {
          "base_uri": "https://localhost:8080/"
        },
        "id": "atEoCsh-CrTk",
        "outputId": "35d75ab5-0e5c-44c9-9c89-3043b1194c90"
      },
      "execution_count": null,
      "outputs": [
        {
          "output_type": "stream",
          "name": "stdout",
          "text": [
            "3\n",
            "1\n"
          ]
        }
      ]
    },
    {
      "cell_type": "code",
      "source": [
        "#left,right shift\n",
        "print(10<<2)\n",
        "print(10>>2)"
      ],
      "metadata": {
        "colab": {
          "base_uri": "https://localhost:8080/"
        },
        "id": "53pDtCnwDWle",
        "outputId": "71326144-ef57-44c1-b1bb-a6187983907d"
      },
      "execution_count": null,
      "outputs": [
        {
          "output_type": "stream",
          "name": "stdout",
          "text": [
            "40\n",
            "2\n"
          ]
        }
      ]
    },
    {
      "cell_type": "markdown",
      "source": [
        "### Get two no.s as input - both less than or equal to 15. perform bitwise and,or,xor"
      ],
      "metadata": {
        "id": "ucS76gEvEMPp"
      }
    },
    {
      "cell_type": "code",
      "source": [
        "N1,N2=map(int,input(\"enter two numbers less than 15:\").split(\",\"))\n",
        "print(N1&N2)\n",
        "print(N1|N2)\n",
        "print(~N1)\n",
        "print(~N2)\n",
        "print(N1^N2)"
      ],
      "metadata": {
        "colab": {
          "base_uri": "https://localhost:8080/"
        },
        "id": "6gzhyzFzEsM8",
        "outputId": "41cd2037-c007-4b2e-f378-63fbfce1d28a"
      },
      "execution_count": null,
      "outputs": [
        {
          "output_type": "stream",
          "name": "stdout",
          "text": [
            "enter two numbers less than 15:7,8\n",
            "0\n",
            "15\n",
            "-8\n",
            "-9\n",
            "15\n"
          ]
        }
      ]
    },
    {
      "cell_type": "markdown",
      "source": [
        "print multiple inputs in one line using list,strip,split"
      ],
      "metadata": {
        "id": "zY_WUF5LIUbv"
      }
    },
    {
      "cell_type": "code",
      "source": [
        "n=int(input(\"size\"))\n",
        "a=list(map(int,input(\"numbers:\").strip().split()))[:n]\n",
        "print(a)"
      ],
      "metadata": {
        "colab": {
          "base_uri": "https://localhost:8080/"
        },
        "id": "x0TJvg8BKXuL",
        "outputId": "37c14d26-8a7d-4533-c345-9e1320d5764f"
      },
      "execution_count": null,
      "outputs": [
        {
          "output_type": "stream",
          "name": "stdout",
          "text": [
            "size3\n",
            "numbers:   1 2    3 4\n",
            "[1, 2, 3]\n"
          ]
        }
      ]
    },
    {
      "cell_type": "markdown",
      "source": [
        "find the product of 10 integer no.s"
      ],
      "metadata": {
        "id": "fb3pX2NxM70A"
      }
    },
    {
      "cell_type": "code",
      "source": [
        "n=list(map(int,input().split()))\n",
        "prod=1\n",
        "for i in range(n):\n",
        "  prod=prod*i\n",
        "  print(prod)"
      ],
      "metadata": {
        "colab": {
          "base_uri": "https://localhost:8080/",
          "height": 252
        },
        "id": "3q2adB5ELvGr",
        "outputId": "4f0efc0a-0a97-4720-d217-5593dfb9f622"
      },
      "execution_count": null,
      "outputs": [
        {
          "name": "stdout",
          "output_type": "stream",
          "text": [
            "1 2 3 4 5 6 7 8 9 10\n"
          ]
        },
        {
          "output_type": "error",
          "ename": "TypeError",
          "evalue": "ignored",
          "traceback": [
            "\u001b[0;31m---------------------------------------------------------------------------\u001b[0m",
            "\u001b[0;31mTypeError\u001b[0m                                 Traceback (most recent call last)",
            "\u001b[0;32m<ipython-input-15-e3ce99ada4af>\u001b[0m in \u001b[0;36m<module>\u001b[0;34m\u001b[0m\n\u001b[1;32m      1\u001b[0m \u001b[0mn\u001b[0m\u001b[0;34m=\u001b[0m\u001b[0mlist\u001b[0m\u001b[0;34m(\u001b[0m\u001b[0mmap\u001b[0m\u001b[0;34m(\u001b[0m\u001b[0mint\u001b[0m\u001b[0;34m,\u001b[0m\u001b[0minput\u001b[0m\u001b[0;34m(\u001b[0m\u001b[0;34m)\u001b[0m\u001b[0;34m.\u001b[0m\u001b[0msplit\u001b[0m\u001b[0;34m(\u001b[0m\u001b[0;34m)\u001b[0m\u001b[0;34m)\u001b[0m\u001b[0;34m)\u001b[0m\u001b[0;34m\u001b[0m\u001b[0;34m\u001b[0m\u001b[0m\n\u001b[1;32m      2\u001b[0m \u001b[0mprod\u001b[0m\u001b[0;34m=\u001b[0m\u001b[0;36m1\u001b[0m\u001b[0;34m\u001b[0m\u001b[0;34m\u001b[0m\u001b[0m\n\u001b[0;32m----> 3\u001b[0;31m \u001b[0;32mfor\u001b[0m \u001b[0mi\u001b[0m \u001b[0;32min\u001b[0m \u001b[0mrange\u001b[0m\u001b[0;34m(\u001b[0m\u001b[0mn\u001b[0m\u001b[0;34m)\u001b[0m\u001b[0;34m:\u001b[0m\u001b[0;34m\u001b[0m\u001b[0;34m\u001b[0m\u001b[0m\n\u001b[0m\u001b[1;32m      4\u001b[0m   \u001b[0mprod\u001b[0m\u001b[0;34m=\u001b[0m\u001b[0mprod\u001b[0m\u001b[0;34m*\u001b[0m\u001b[0mi\u001b[0m\u001b[0;34m\u001b[0m\u001b[0;34m\u001b[0m\u001b[0m\n\u001b[1;32m      5\u001b[0m   \u001b[0mprint\u001b[0m\u001b[0;34m(\u001b[0m\u001b[0mprod\u001b[0m\u001b[0;34m)\u001b[0m\u001b[0;34m\u001b[0m\u001b[0;34m\u001b[0m\u001b[0m\n",
            "\u001b[0;31mTypeError\u001b[0m: 'list' object cannot be interpreted as an integer"
          ]
        }
      ]
    },
    {
      "cell_type": "code",
      "source": [
        "print(\"it's\",\"a\",\"good\",\"day\")\n",
        "print(\"all\",\"is\",\"good\")"
      ],
      "metadata": {
        "colab": {
          "base_uri": "https://localhost:8080/"
        },
        "id": "-dnIQDevOnAP",
        "outputId": "0d246f9f-e29d-46bb-ea3f-e5940eb1ddc6"
      },
      "execution_count": null,
      "outputs": [
        {
          "output_type": "stream",
          "name": "stdout",
          "text": [
            "it's a good day\n",
            "all is good\n"
          ]
        }
      ]
    },
    {
      "cell_type": "code",
      "source": [
        "print(\"it's\",\"a\",\"good\",\"day\",end='')\n",
        "print(\"all\",\"is\",\"good\",sep=\"***\",end='')\n",
        "print(\"joy\")"
      ],
      "metadata": {
        "colab": {
          "base_uri": "https://localhost:8080/"
        },
        "id": "b-YF27HOO4p5",
        "outputId": "d41a9f87-13ab-4307-ef92-93a6a60eeab3"
      },
      "execution_count": null,
      "outputs": [
        {
          "output_type": "stream",
          "name": "stdout",
          "text": [
            "it's a good dayall***is***goodjoy\n"
          ]
        }
      ]
    },
    {
      "cell_type": "markdown",
      "source": [
        "PRINT(using split,end,strip..)\n",
        "1.   upside down filled triangle\n",
        "2.   hollow heart\n",
        "3.   frog"
      ],
      "metadata": {
        "id": "VRvLeJrXRlKg"
      }
    },
    {
      "cell_type": "code",
      "source": [
        "#1\n",
        "print(\"*\",\"*\",\"*\",\"*\",\"*\",sep=\" \")\n",
        "print('',\"*\",'*','*',\"*\",sep=\" \")\n",
        "print('','',\"*\",'*','*',sep=\" \")\n",
        "print('','','','*','*',sep=\" \")\n",
        "print('','','','','*',sep=\" \")"
      ],
      "metadata": {
        "colab": {
          "base_uri": "https://localhost:8080/"
        },
        "id": "ea_H2c6GSaPa",
        "outputId": "95940aae-42d5-4d0c-cd3d-24bcb24c5cac"
      },
      "execution_count": null,
      "outputs": [
        {
          "output_type": "stream",
          "name": "stdout",
          "text": [
            "* * * * *\n",
            " * * * *\n",
            "  * * *\n",
            "   * *\n",
            "    *\n"
          ]
        }
      ]
    },
    {
      "cell_type": "code",
      "source": [
        "#2\n",
        "print('','*','*','','','*',\"*\",sep=\" \")\n",
        "print('','',\"*\",'','*','','*',sep=\" \")\n",
        "print('','','','*','','','*',sep=\" \")\n",
        "print('','','','','','*',sep=\" \")"
      ],
      "metadata": {
        "colab": {
          "base_uri": "https://localhost:8080/"
        },
        "id": "d9tpE1sUVLIl",
        "outputId": "52eedc30-a076-4bb6-a7f5-0f4ccb1dbeea"
      },
      "execution_count": null,
      "outputs": [
        {
          "output_type": "stream",
          "name": "stdout",
          "text": [
            " * *   * *\n",
            "  *  *  *\n",
            "   *   *\n",
            "     *\n"
          ]
        }
      ]
    },
    {
      "cell_type": "code",
      "source": [
        "print(\"          *         \")\n",
        "print(\"\\|/    *     *    \\|/\")\n",
        "print(\"  \\   *       *   /   \")\n",
        "print(\"   \\  *       *  /    \")"
      ],
      "metadata": {
        "colab": {
          "base_uri": "https://localhost:8080/"
        },
        "id": "51T-Y0iPWO-b",
        "outputId": "38ddc4eb-07af-4338-f351-80b8f5da5b7e"
      },
      "execution_count": null,
      "outputs": [
        {
          "output_type": "stream",
          "name": "stdout",
          "text": [
            "          *         \n",
            "\\|/    *     *    \\|/\n",
            "  \\   *       *   /   \n",
            "   \\  *       *  /    \n"
          ]
        }
      ]
    },
    {
      "cell_type": "markdown",
      "source": [
        "### **2.Conditional satements**\n",
        "*  if\n",
        "-if-else\n",
        "-else-if\n",
        "-else-if ladder\n",
        "-nested-if\n",
        "\n"
      ],
      "metadata": {
        "id": "fZMXXqgDZJ4s"
      }
    },
    {
      "cell_type": "markdown",
      "source": [
        "### *#conditional-example*\n",
        "1. temp>45 : hottest\n",
        "2. 40 - 45 : hot\n",
        "3. 25 - 40 : moderate\n",
        "4. 10 - 25 : cold\n",
        "5. below 10 : freezing"
      ],
      "metadata": {
        "id": "sWJnmH53Zxd-"
      }
    },
    {
      "cell_type": "code",
      "source": [
        "temp=int(input())\n",
        "if(temp>45):\n",
        "  print(\"hottest\")\n",
        "elif(temp>40 and temp<=45):\n",
        "  print(\"hot\")\n",
        "elif(temp>25 and temp<=40):\n",
        "  print(\"moderate\")\n",
        "elif(temp>10 and temp<=25):\n",
        "  print(\"cold\")\n",
        "elif(temp<=10):\n",
        "  print(\"freezing\")"
      ],
      "metadata": {
        "colab": {
          "base_uri": "https://localhost:8080/"
        },
        "id": "3vJsitwnahmU",
        "outputId": "39050623-1152-468a-9669-d07ec490647d"
      },
      "execution_count": null,
      "outputs": [
        {
          "output_type": "stream",
          "name": "stdout",
          "text": [
            "30\n",
            "moderate\n"
          ]
        }
      ]
    },
    {
      "cell_type": "markdown",
      "source": [
        "### *#EXERCISE*"
      ],
      "metadata": {
        "id": "72h3JEah5NVW"
      }
    },
    {
      "cell_type": "code",
      "source": [
        "#check if n is 500 or not\n",
        "n=int(input())\n",
        "if(n==500):\n",
        "  print(\"number is 500\")\n",
        "else:\n",
        "  print(\"number is not 500\")"
      ],
      "metadata": {
        "colab": {
          "base_uri": "https://localhost:8080/"
        },
        "id": "smbCQ8_kw3C3",
        "outputId": "43508ad5-044c-4b65-aed4-38b816929e1c"
      },
      "execution_count": null,
      "outputs": [
        {
          "output_type": "stream",
          "name": "stdout",
          "text": [
            "400\n",
            "number is not 500\n"
          ]
        }
      ]
    },
    {
      "cell_type": "code",
      "source": [
        "#even(+or-)or odd(+or-)\n",
        "n=int(input())\n",
        "if(n%2==0):\n",
        "  if(n>0):\n",
        "    print(\"number is even-positive\")\n",
        "  else:\n",
        "    print(\"number is even-negative\")\n",
        "else:\n",
        "  if(n>0):\n",
        "    print(\"number is odd-positive\")\n",
        "  else:\n",
        "    print(\"the number is odd-negative\")"
      ],
      "metadata": {
        "colab": {
          "base_uri": "https://localhost:8080/"
        },
        "id": "kTH78Vl-xcay",
        "outputId": "566fcc11-ed60-4c4f-9727-9cd0218008e9"
      },
      "execution_count": null,
      "outputs": [
        {
          "output_type": "stream",
          "name": "stdout",
          "text": [
            "5\n",
            "number is odd-positive\n"
          ]
        }
      ]
    },
    {
      "cell_type": "code",
      "source": [
        "#greatest among two\n",
        "n1,n2=int(input()),int(input())\n",
        "if(n1>n2):\n",
        "  print(\"n1 is the biggest\")\n",
        "else:\n",
        "  print(\"n2 is the biggest\")"
      ],
      "metadata": {
        "colab": {
          "base_uri": "https://localhost:8080/"
        },
        "id": "LAno0txIx0xm",
        "outputId": "80d2ec20-43f9-4fb4-8474-1a68ee6f9d1b"
      },
      "execution_count": null,
      "outputs": [
        {
          "output_type": "stream",
          "name": "stdout",
          "text": [
            "12\n",
            "13\n",
            "n2 is the biggest\n"
          ]
        }
      ]
    },
    {
      "cell_type": "code",
      "source": [
        "#float or integer\n",
        "n=input()\n",
        "if(\".\" in n):\n",
        "  print(\"the given number is float\")\n",
        "else:\n",
        "  print(\"the given number is integer\")"
      ],
      "metadata": {
        "colab": {
          "base_uri": "https://localhost:8080/"
        },
        "id": "faNCGACtzeJv",
        "outputId": "fc4cae64-b47a-4024-821c-ae6e30f465ae"
      },
      "execution_count": null,
      "outputs": [
        {
          "output_type": "stream",
          "name": "stdout",
          "text": [
            "4.8\n",
            "the given number is float\n"
          ]
        }
      ]
    },
    {
      "cell_type": "code",
      "source": [
        "#float or integer(1)\n",
        "n=4.8\n",
        "if isinstance(n,int)==True:\n",
        "  print(\"integer\")\n",
        "else:\n",
        "  print(\"Float\")"
      ],
      "metadata": {
        "colab": {
          "base_uri": "https://localhost:8080/"
        },
        "id": "hT2IiOy56e-2",
        "outputId": "dff8bcca-2fb8-46c6-fff8-6479127350d5"
      },
      "execution_count": null,
      "outputs": [
        {
          "output_type": "stream",
          "name": "stdout",
          "text": [
            "Float\n"
          ]
        }
      ]
    },
    {
      "cell_type": "code",
      "source": [
        "#float or integer(2)\n",
        "n=8.1\n",
        "if(n%1==0):\n",
        "  print(\"integer\")\n",
        "else:\n",
        "  print(\"float\")"
      ],
      "metadata": {
        "colab": {
          "base_uri": "https://localhost:8080/"
        },
        "id": "KmJmAIYt-Oxt",
        "outputId": "57d71487-ffb6-42e9-92b8-bc334dcb6a38"
      },
      "execution_count": null,
      "outputs": [
        {
          "output_type": "stream",
          "name": "stdout",
          "text": [
            "float\n"
          ]
        }
      ]
    },
    {
      "cell_type": "code",
      "source": [
        "#float or integer(3)\n",
        "n=10.3\n",
        "res=n-int(n)\n",
        "if(res==0):\n",
        "  print(\"int\")\n",
        "else:\n",
        "  print(\"float\")"
      ],
      "metadata": {
        "colab": {
          "base_uri": "https://localhost:8080/"
        },
        "id": "P5EglGBQ_mPF",
        "outputId": "bb35cbaa-6003-4ad5-cea7-3c087fadec0e"
      },
      "execution_count": null,
      "outputs": [
        {
          "output_type": "stream",
          "name": "stdout",
          "text": [
            "float\n"
          ]
        }
      ]
    },
    {
      "cell_type": "code",
      "source": [
        "#greatest among three\n",
        "n1,n2,n3=int(input()),int(input()),int(input())\n",
        "if(n1>n2 and n1>n3):\n",
        "  print(\"n1 is greatest\")\n",
        "elif(n2>n1 and n2>n3):\n",
        "  print(\"n2 is greatest\")\n",
        "else:\n",
        "  print(\"n3 is greatest\")\n"
      ],
      "metadata": {
        "colab": {
          "base_uri": "https://localhost:8080/"
        },
        "id": "hQXEdZsm0Z23",
        "outputId": "1cdef0bc-fd55-4e39-fe18-de325e87b0a4"
      },
      "execution_count": null,
      "outputs": [
        {
          "output_type": "stream",
          "name": "stdout",
          "text": [
            "11\n",
            "22\n",
            "25\n",
            "n3 is greatest\n"
          ]
        }
      ]
    },
    {
      "cell_type": "code",
      "source": [
        "#divisible by 11\n",
        "n=int(input())\n",
        "if(n%11==0):\n",
        "  print(\"the given number is divisible by 11\")\n",
        "else:\n",
        "  print(\"the given number is not divisible by 11\")"
      ],
      "metadata": {
        "colab": {
          "base_uri": "https://localhost:8080/"
        },
        "id": "-CupHtgD0Du2",
        "outputId": "23fe71d2-ce65-4eec-8cf1-2b9a665c9b9c"
      },
      "execution_count": null,
      "outputs": [
        {
          "output_type": "stream",
          "name": "stdout",
          "text": [
            "121\n",
            "the given number is divisible by 11\n"
          ]
        }
      ]
    },
    {
      "cell_type": "code",
      "source": [
        "#divisible by 2 and 5\n",
        "n=int(input())\n",
        "if(n%2==0 and n%5==0):\n",
        "  print(\"the given no. is divisible by both 2 and 5\")\n",
        "else:\n",
        "  print(\"not divisible\")"
      ],
      "metadata": {
        "colab": {
          "base_uri": "https://localhost:8080/"
        },
        "id": "V5muLQs910ZP",
        "outputId": "85a93b05-78f4-44fc-90c1-2bb7b4f8c70c"
      },
      "execution_count": null,
      "outputs": [
        {
          "output_type": "stream",
          "name": "stdout",
          "text": [
            "25\n",
            "not divisible\n"
          ]
        }
      ]
    },
    {
      "cell_type": "code",
      "source": [
        "#divisible by 2 and 5(1)\n",
        "n=int(input())\n",
        "rem=n%10\n",
        "if(rem==0):\n",
        "  print(\"divisible by both 2 and 5\")\n",
        "else:\n",
        "  print(\"not divisible\")"
      ],
      "metadata": {
        "colab": {
          "base_uri": "https://localhost:8080/"
        },
        "id": "IOls3h1z2Qm2",
        "outputId": "4c8e965d-6059-40c4-c922-63aad3f410cb"
      },
      "execution_count": null,
      "outputs": [
        {
          "output_type": "stream",
          "name": "stdout",
          "text": [
            "30\n",
            "divisible by both 2 and 5\n"
          ]
        }
      ]
    },
    {
      "cell_type": "markdown",
      "source": [
        "### **3.Loops**"
      ],
      "metadata": {
        "id": "tWAHz45NDUtk"
      }
    },
    {
      "cell_type": "markdown",
      "source": [
        "### *WHILE*"
      ],
      "metadata": {
        "id": "i7zH6OtWH7Tf"
      }
    },
    {
      "cell_type": "code",
      "source": [
        "i=int(input())\n",
        "while i<=10:\n",
        "  print(i)\n",
        "  i+=1\n"
      ],
      "metadata": {
        "colab": {
          "base_uri": "https://localhost:8080/"
        },
        "id": "pxv2QMZECnUJ",
        "outputId": "2e739486-f6f1-440e-826b-75e8508d824d"
      },
      "execution_count": null,
      "outputs": [
        {
          "output_type": "stream",
          "name": "stdout",
          "text": [
            "1\n",
            "1\n",
            "2\n",
            "3\n",
            "4\n",
            "5\n",
            "6\n",
            "7\n",
            "8\n",
            "9\n",
            "10\n"
          ]
        }
      ]
    },
    {
      "cell_type": "code",
      "source": [
        "#USING WHILE LOOP EVEN NO.S FROM 2-20\n",
        "i=2\n",
        "while i<=20:\n",
        "  if(i%2==0):\n",
        "    print(i)\n",
        "    i+=2"
      ],
      "metadata": {
        "colab": {
          "base_uri": "https://localhost:8080/"
        },
        "id": "UlVhSyWEDuxt",
        "outputId": "4162a5f8-fdb5-42cb-e1be-5d5cf49c0eeb"
      },
      "execution_count": null,
      "outputs": [
        {
          "output_type": "stream",
          "name": "stdout",
          "text": [
            "2\n",
            "4\n",
            "6\n",
            "8\n",
            "10\n",
            "12\n",
            "14\n",
            "16\n",
            "18\n",
            "20\n"
          ]
        }
      ]
    },
    {
      "cell_type": "code",
      "source": [
        "#USING WHILE--ODD FROM 1-30\n",
        "i=1\n",
        "while i<=30:\n",
        "  if(i%2!=0):\n",
        "    print(i)\n",
        "    i+=2"
      ],
      "metadata": {
        "colab": {
          "base_uri": "https://localhost:8080/"
        },
        "id": "S-dqEy9IElHF",
        "outputId": "4d40cfb3-3e3c-4630-a321-4d96aa215abc"
      },
      "execution_count": null,
      "outputs": [
        {
          "output_type": "stream",
          "name": "stdout",
          "text": [
            "1\n",
            "3\n",
            "5\n",
            "7\n",
            "9\n",
            "11\n",
            "13\n",
            "15\n",
            "17\n",
            "19\n",
            "21\n",
            "23\n",
            "25\n",
            "27\n",
            "29\n"
          ]
        }
      ]
    },
    {
      "cell_type": "markdown",
      "source": [
        "### *FOR*"
      ],
      "metadata": {
        "id": "oNUjB4qyIEQM"
      }
    },
    {
      "cell_type": "code",
      "source": [
        "for i in range(1,10):\n",
        "  print(i)\n",
        "print(\"----------------\")\n",
        "for j in range(2,10,2):\n",
        "  print(j)"
      ],
      "metadata": {
        "colab": {
          "base_uri": "https://localhost:8080/"
        },
        "id": "tUhqRr0LH0rN",
        "outputId": "f9e6f3a7-fde6-4e87-9dda-d692a5bb3caf"
      },
      "execution_count": null,
      "outputs": [
        {
          "output_type": "stream",
          "name": "stdout",
          "text": [
            "1\n",
            "2\n",
            "3\n",
            "4\n",
            "5\n",
            "6\n",
            "7\n",
            "8\n",
            "9\n",
            "----------------\n",
            "2\n",
            "4\n",
            "6\n",
            "8\n"
          ]
        }
      ]
    },
    {
      "cell_type": "code",
      "source": [
        "for i in range(2,21):\n",
        "  if(i%2==0):\n",
        "    print(i)\n",
        "print(\"---------------\")\n",
        "for j in range(1,31):\n",
        "  if(j%2!=0):\n",
        "    print(j)"
      ],
      "metadata": {
        "colab": {
          "base_uri": "https://localhost:8080/"
        },
        "id": "yg-LH8-UIuO-",
        "outputId": "f78dc4d1-9e52-410f-c586-8b2474163e36"
      },
      "execution_count": null,
      "outputs": [
        {
          "output_type": "stream",
          "name": "stdout",
          "text": [
            "2\n",
            "4\n",
            "6\n",
            "8\n",
            "10\n",
            "12\n",
            "14\n",
            "16\n",
            "18\n",
            "20\n",
            "---------------\n",
            "1\n",
            "3\n",
            "5\n",
            "7\n",
            "9\n",
            "11\n",
            "13\n",
            "15\n",
            "17\n",
            "19\n",
            "21\n",
            "23\n",
            "25\n",
            "27\n",
            "29\n"
          ]
        }
      ]
    },
    {
      "cell_type": "markdown",
      "source": [
        "### *#Guess the number!*"
      ],
      "metadata": {
        "id": "7D4fRKyYRGCL"
      }
    },
    {
      "cell_type": "code",
      "source": [
        "import random\n",
        "n=random.randrange(1,100)\n",
        "guess=int(input(\"guess a number\"))\n",
        "while guess!=n :\n",
        "  if guess>n :\n",
        "    print(\"high!\")\n",
        "    guess=int(input(\"guess a number\"))\n",
        "  elif guess<n :\n",
        "    print(\"low!\")\n",
        "    guess=int(input(\"guess a number\"))\n",
        "  else:\n",
        "    break\n",
        "print(\"Yupp!It's correct\")"
      ],
      "metadata": {
        "colab": {
          "base_uri": "https://localhost:8080/"
        },
        "id": "zn9IWqIxMsst",
        "outputId": "a407eedf-0fed-4424-f8cc-8a8db78b2f43"
      },
      "execution_count": null,
      "outputs": [
        {
          "output_type": "stream",
          "name": "stdout",
          "text": [
            "guess a number12\n",
            "low!\n",
            "guess a number50\n",
            "low!\n",
            "guess a number70\n",
            "high!\n",
            "guess a number60\n",
            "low!\n",
            "guess a number65\n",
            "high!\n",
            "guess a number62\n",
            "Yupp!It's correct\n"
          ]
        }
      ]
    },
    {
      "cell_type": "code",
      "source": [],
      "metadata": {
        "id": "ur9iVutWSR-V"
      },
      "execution_count": null,
      "outputs": []
    }
  ]
}