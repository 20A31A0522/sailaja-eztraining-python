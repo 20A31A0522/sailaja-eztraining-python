{
  "nbformat": 4,
  "nbformat_minor": 0,
  "metadata": {
    "colab": {
      "provenance": [],
      "toc_visible": true,
      "authorship_tag": "ABX9TyMne3rDAkBnMHS99rdqVYH3",
      "include_colab_link": true
    },
    "kernelspec": {
      "name": "python3",
      "display_name": "Python 3"
    },
    "language_info": {
      "name": "python"
    }
  },
  "cells": [
    {
      "cell_type": "markdown",
      "metadata": {
        "id": "view-in-github",
        "colab_type": "text"
      },
      "source": [
        "<a href=\"https://colab.research.google.com/github/20A31A0522/sailaja-eztraining-python/blob/main/DAY3(content%2Bprograms).ipynb\" target=\"_parent\"><img src=\"https://colab.research.google.com/assets/colab-badge.svg\" alt=\"Open In Colab\"/></a>"
      ]
    },
    {
      "cell_type": "markdown",
      "source": [
        "### **LIST**"
      ],
      "metadata": {
        "id": "0iQ8aCIeUAGN"
      }
    },
    {
      "cell_type": "code",
      "source": [
        "#SLICING\n",
        "l=[22,4.8,12,\"JOHN\"]\n",
        "print(l[2])\n",
        "print(l[3])\n",
        "print(l[1:3])\n",
        "print(l[1:2])\n",
        "print(l[1:])\n",
        "print(l[:])\n",
        "print(l[:2])\n",
        "print(l[::2])\n",
        "print(l[::-1])"
      ],
      "metadata": {
        "colab": {
          "base_uri": "https://localhost:8080/"
        },
        "id": "rEl-iegPUKwL",
        "outputId": "17d7feed-2fa3-4a7c-d6f2-b3a186dbdb14"
      },
      "execution_count": null,
      "outputs": [
        {
          "output_type": "stream",
          "name": "stdout",
          "text": [
            "12\n",
            "JOHN\n",
            "[4.8, 12]\n",
            "[4.8]\n",
            "[4.8, 12, 'JOHN']\n",
            "[22, 4.8, 12, 'JOHN']\n",
            "[22, 4.8]\n",
            "[22, 12]\n",
            "['JOHN', 12, 4.8, 22]\n"
          ]
        }
      ]
    },
    {
      "cell_type": "markdown",
      "source": [
        "### *1.List Functions*\n",
        "- append( )\n",
        "- extend( )\n",
        "- insert( )\n",
        "- remove( )\n",
        "- pop( ) \n",
        "- clear( )\n",
        "- index( )\n",
        "- count( )\n",
        "- sort( )\n",
        "- reverse( )\n",
        "- copy( )"
      ],
      "metadata": {
        "id": "AUEq8pXkXcvE"
      }
    },
    {
      "cell_type": "code",
      "source": [
        "l=[5,5,7,9,9,9,22,11,22,23,24,27,500]\n",
        "l.append(200)\n",
        "print(l)\n",
        "l.extend([1,2,3])\n",
        "print(l)\n",
        "l.sort()\n",
        "print(l)\n",
        "l.insert(3,4)\n",
        "print(l)\n",
        "l.remove(22)\n",
        "print(l)\n",
        "l.pop()\n",
        "print(l)\n",
        "l.pop(-1)\n",
        "print(l)\n",
        "print(l.index(22))\n",
        "print(l.count(5))\n",
        "l.reverse()\n",
        "print(l)"
      ],
      "metadata": {
        "colab": {
          "base_uri": "https://localhost:8080/"
        },
        "id": "AcD-beUVYQzc",
        "outputId": "560cf007-dc9c-4398-9082-44a270dbb680"
      },
      "execution_count": null,
      "outputs": [
        {
          "output_type": "stream",
          "name": "stdout",
          "text": [
            "[5, 5, 7, 9, 9, 9, 22, 11, 22, 23, 24, 27, 500, 200]\n",
            "[5, 5, 7, 9, 9, 9, 22, 11, 22, 23, 24, 27, 500, 200, 1, 2, 3]\n",
            "[1, 2, 3, 5, 5, 7, 9, 9, 9, 11, 22, 22, 23, 24, 27, 200, 500]\n",
            "[1, 2, 3, 4, 5, 5, 7, 9, 9, 9, 11, 22, 22, 23, 24, 27, 200, 500]\n",
            "[1, 2, 3, 4, 5, 5, 7, 9, 9, 9, 11, 22, 23, 24, 27, 200, 500]\n",
            "[1, 2, 3, 4, 5, 5, 7, 9, 9, 9, 11, 22, 23, 24, 27, 200]\n",
            "[1, 2, 3, 4, 5, 5, 7, 9, 9, 9, 11, 22, 23, 24, 27]\n",
            "11\n",
            "2\n",
            "[27, 24, 23, 22, 11, 9, 9, 9, 7, 5, 5, 4, 3, 2, 1]\n"
          ]
        }
      ]
    },
    {
      "cell_type": "code",
      "source": [
        "#create a list with 10 items and print the elements one by one\n",
        "l=[1,10,11.1,'kusuma',525,'saipallavi']\n",
        "for i in range(6):\n",
        "  print(l[i])"
      ],
      "metadata": {
        "colab": {
          "base_uri": "https://localhost:8080/"
        },
        "id": "WNIsGA2SfisA",
        "outputId": "fda146e2-8430-4b2e-fcfd-2ee41a562f2d"
      },
      "execution_count": null,
      "outputs": [
        {
          "output_type": "stream",
          "name": "stdout",
          "text": [
            "1\n",
            "10\n",
            "11.1\n",
            "kusuma\n",
            "525\n",
            "saipallavi\n"
          ]
        }
      ]
    },
    {
      "cell_type": "code",
      "source": [
        "#create a list with 5 float numbers and find, display sum,avg of the list\n",
        "l=[0.509,0.511,5.22,52.5,510.5]\n",
        "print(sum(l))\n",
        "avg=sum(l)/len(l)\n",
        "print(avg)"
      ],
      "metadata": {
        "colab": {
          "base_uri": "https://localhost:8080/"
        },
        "id": "KesFgErhgLA7",
        "outputId": "fa758ee5-436e-4c4a-c38d-bd67c763a419"
      },
      "execution_count": null,
      "outputs": [
        {
          "output_type": "stream",
          "name": "stdout",
          "text": [
            "569.24\n",
            "113.848\n"
          ]
        }
      ]
    },
    {
      "cell_type": "code",
      "source": [
        "#after creating a list with 6 ele from the user ,extract only even no.s in the list\n",
        "l=list(map(int,input().split(\",\")))\n",
        "for i in l:\n",
        "  if(i%2==0):\n",
        "    print(i)"
      ],
      "metadata": {
        "colab": {
          "base_uri": "https://localhost:8080/"
        },
        "id": "ZHfsJ0UzgKwl",
        "outputId": "3e307f3d-8cbe-4b80-c604-8957ca0867e0"
      },
      "execution_count": null,
      "outputs": [
        {
          "output_type": "stream",
          "name": "stdout",
          "text": [
            "1,2,3,4,5,6\n",
            "2\n",
            "4\n",
            "6\n"
          ]
        }
      ]
    },
    {
      "cell_type": "markdown",
      "source": [
        "### *Exercise*"
      ],
      "metadata": {
        "id": "Acr_DG7V9QU7"
      }
    },
    {
      "cell_type": "code",
      "source": [
        "#neon number\n",
        "n=int(input())\n",
        "sq=n*n\n",
        "sum=0\n",
        "while sq>0 :\n",
        "  sum+=sq%10\n",
        "  sq=sq//10\n",
        "  sum=c+sq\n",
        "print(sum)\n",
        "if(n==sum):\n",
        "  print(\"neon\")\n",
        "else:\n",
        "  print(\"not neon\")"
      ],
      "metadata": {
        "colab": {
          "base_uri": "https://localhost:8080/"
        },
        "id": "PjdwvRRdj3wo",
        "outputId": "f1e51206-383b-41a6-c9af-b7326c2395d8"
      },
      "execution_count": null,
      "outputs": [
        {
          "output_type": "stream",
          "name": "stdout",
          "text": [
            "11\n",
            "4\n",
            "not neon\n"
          ]
        }
      ]
    },
    {
      "cell_type": "code",
      "source": [
        "l=list(map(int,input().split()))\n",
        "for i in l:\n",
        "  "
      ],
      "metadata": {
        "id": "SccbHYPSm6lr"
      },
      "execution_count": null,
      "outputs": []
    },
    {
      "cell_type": "code",
      "source": [
        "l=list(map(int,input(\"Enter the no.s\").split(\",\")))\n",
        "prod=1\n",
        "for i in l:\n",
        "  prod=prod*i\n",
        "if(prod<750):\n",
        "  print(\"the product is\",prod)\n",
        "else:\n",
        "  print(\"the sum is\",sum(l))"
      ],
      "metadata": {
        "colab": {
          "base_uri": "https://localhost:8080/"
        },
        "id": "3gnXbGdS632C",
        "outputId": "d60053f1-13f6-4daf-b04a-fda11c009142"
      },
      "execution_count": null,
      "outputs": [
        {
          "output_type": "stream",
          "name": "stdout",
          "text": [
            "Enter the no.s10,11,22,25\n",
            "the sum is 68\n"
          ]
        }
      ]
    },
    {
      "cell_type": "markdown",
      "source": [
        "### *2.List Comprehension*"
      ],
      "metadata": {
        "id": "0Cnr4JnhE8s8"
      }
    },
    {
      "cell_type": "code",
      "source": [
        "numbers=[elements for elements in \"good afternoon\"]\n",
        "print(numbers)"
      ],
      "metadata": {
        "colab": {
          "base_uri": "https://localhost:8080/"
        },
        "id": "CCIDA_ku_zW4",
        "outputId": "b04d8a59-86fb-498d-eef1-e04392fa65df"
      },
      "execution_count": null,
      "outputs": [
        {
          "output_type": "stream",
          "name": "stdout",
          "text": [
            "['g', 'o', 'o', 'd', ' ', 'a', 'f', 't', 'e', 'r', 'n', 'o', 'o', 'n']\n"
          ]
        }
      ]
    },
    {
      "cell_type": "code",
      "source": [
        "l=[\"rajahmundry\",\"kakinada\",\"vizag\",\"vijayawada\"]\n",
        "city=[]\n",
        "for i in l:\n",
        "  if \"j\" in i:\n",
        "    city.append(i)\n",
        "print(city)"
      ],
      "metadata": {
        "colab": {
          "base_uri": "https://localhost:8080/"
        },
        "id": "5chCl1jWH5_9",
        "outputId": "6c7f0a63-9ff4-4d2f-ec79-336cb8379c48"
      },
      "execution_count": null,
      "outputs": [
        {
          "output_type": "stream",
          "name": "stdout",
          "text": [
            "['rajahmundry', 'vijayawada']\n"
          ]
        }
      ]
    },
    {
      "cell_type": "code",
      "source": [
        "l=[3**x for x in range(1,10)]\n",
        "print(l)"
      ],
      "metadata": {
        "colab": {
          "base_uri": "https://localhost:8080/"
        },
        "id": "aeYDaOwxJOdF",
        "outputId": "01bf34ee-3893-4127-c707-5014a6d67b9a"
      },
      "execution_count": null,
      "outputs": [
        {
          "output_type": "stream",
          "name": "stdout",
          "text": [
            "[3, 9, 27, 81, 243, 729, 2187, 6561, 19683]\n"
          ]
        }
      ]
    },
    {
      "cell_type": "markdown",
      "source": [
        "### **SET**\n",
        "- **add**(ele)\n",
        "- **update**(multiple ele)\n",
        "- **remove**(ele)\n",
        "- **discard**(ele)\n",
        "\n",
        "-for remove(ele) if the req ele is not present,it gives error whereas for discard(ele) it doesnt give an error"
      ],
      "metadata": {
        "id": "c15BY0DQKe-L"
      }
    },
    {
      "cell_type": "code",
      "source": [
        "s={22,11,25,10}\n",
        "print(s)\n",
        "s.add(9)\n",
        "print(s)\n",
        "s.update([1,2])\n",
        "print(s)\n",
        "s.remove(1)\n",
        "print(s)\n",
        "s.discard(2)\n",
        "print(s)"
      ],
      "metadata": {
        "colab": {
          "base_uri": "https://localhost:8080/"
        },
        "id": "dB3_QrUELBbr",
        "outputId": "f42b7ae1-b40f-4ddb-b9ce-1de1dc9fc7c9"
      },
      "execution_count": null,
      "outputs": [
        {
          "output_type": "stream",
          "name": "stdout",
          "text": [
            "{25, 10, 11, 22}\n",
            "{9, 10, 11, 22, 25}\n",
            "{1, 2, 9, 10, 11, 22, 25}\n",
            "{2, 9, 10, 11, 22, 25}\n",
            "{9, 10, 11, 22, 25}\n"
          ]
        }
      ]
    },
    {
      "cell_type": "code",
      "source": [
        "s={1,2,3,5,9}\n",
        "s.remove(4)\n",
        "print(s)"
      ],
      "metadata": {
        "colab": {
          "base_uri": "https://localhost:8080/",
          "height": 200
        },
        "id": "DKwyGf8VMtFR",
        "outputId": "aa0af0e0-f197-4155-d515-e1b33c4e5fe2"
      },
      "execution_count": null,
      "outputs": [
        {
          "output_type": "error",
          "ename": "KeyError",
          "evalue": "ignored",
          "traceback": [
            "\u001b[0;31m---------------------------------------------------------------------------\u001b[0m",
            "\u001b[0;31mKeyError\u001b[0m                                  Traceback (most recent call last)",
            "\u001b[0;32m<ipython-input-29-1d096dd623c2>\u001b[0m in \u001b[0;36m<module>\u001b[0;34m\u001b[0m\n\u001b[1;32m      1\u001b[0m \u001b[0ms\u001b[0m\u001b[0;34m=\u001b[0m\u001b[0;34m{\u001b[0m\u001b[0;36m1\u001b[0m\u001b[0;34m,\u001b[0m\u001b[0;36m2\u001b[0m\u001b[0;34m,\u001b[0m\u001b[0;36m3\u001b[0m\u001b[0;34m,\u001b[0m\u001b[0;36m5\u001b[0m\u001b[0;34m,\u001b[0m\u001b[0;36m9\u001b[0m\u001b[0;34m}\u001b[0m\u001b[0;34m\u001b[0m\u001b[0;34m\u001b[0m\u001b[0m\n\u001b[0;32m----> 2\u001b[0;31m \u001b[0ms\u001b[0m\u001b[0;34m.\u001b[0m\u001b[0mremove\u001b[0m\u001b[0;34m(\u001b[0m\u001b[0;36m4\u001b[0m\u001b[0;34m)\u001b[0m\u001b[0;34m\u001b[0m\u001b[0;34m\u001b[0m\u001b[0m\n\u001b[0m\u001b[1;32m      3\u001b[0m \u001b[0mprint\u001b[0m\u001b[0;34m(\u001b[0m\u001b[0ms\u001b[0m\u001b[0;34m)\u001b[0m\u001b[0;34m\u001b[0m\u001b[0;34m\u001b[0m\u001b[0m\n",
            "\u001b[0;31mKeyError\u001b[0m: 4"
          ]
        }
      ]
    },
    {
      "cell_type": "code",
      "source": [
        "s={1,2,3,5,9}\n",
        "s.discard(7)\n",
        "print(s)"
      ],
      "metadata": {
        "colab": {
          "base_uri": "https://localhost:8080/"
        },
        "id": "bkGCqfoAM2uZ",
        "outputId": "7999f7a8-95b6-4936-b277-a2d95a641ec7"
      },
      "execution_count": null,
      "outputs": [
        {
          "output_type": "stream",
          "name": "stdout",
          "text": [
            "{1, 2, 3, 5, 9}\n"
          ]
        }
      ]
    },
    {
      "cell_type": "code",
      "source": [
        "s1={11,12,13,14,15,16}\n",
        "s2={12,14,16}\n",
        "print(s1|s2)\n",
        "print(s1&s2)\n",
        "print(s1-s2)\n",
        "print(s1.union(s2))\n",
        "print(s1.intersection(s2))\n",
        "print(s1.difference(s2))"
      ],
      "metadata": {
        "colab": {
          "base_uri": "https://localhost:8080/"
        },
        "id": "yHA1GA3bNBNK",
        "outputId": "7868d683-b4aa-4644-c875-eb823b2cbb6b"
      },
      "execution_count": null,
      "outputs": [
        {
          "output_type": "stream",
          "name": "stdout",
          "text": [
            "{11, 12, 13, 14, 15, 16}\n",
            "{16, 12, 14}\n",
            "{11, 13, 15}\n",
            "{11, 12, 13, 14, 15, 16}\n",
            "{16, 12, 14}\n",
            "{11, 13, 15}\n"
          ]
        }
      ]
    },
    {
      "cell_type": "code",
      "source": [
        "s1={11,12,13,14,15,16}\n",
        "s2={12,14,16}\n",
        "print(s1.issuperset(s2))"
      ],
      "metadata": {
        "colab": {
          "base_uri": "https://localhost:8080/"
        },
        "id": "kEVTyMkHNyMp",
        "outputId": "d8e4d03e-783b-469e-f721-885f6a00e821"
      },
      "execution_count": null,
      "outputs": [
        {
          "output_type": "stream",
          "name": "stdout",
          "text": [
            "True\n"
          ]
        }
      ]
    },
    {
      "cell_type": "code",
      "source": [
        "s1={11,12,13,14,15,16}\n",
        "s2={12,14,16}\n",
        "print(s1^s2)\n",
        "print(s1.symmetric_difference(s2))"
      ],
      "metadata": {
        "colab": {
          "base_uri": "https://localhost:8080/"
        },
        "id": "v1pdqs56OxpH",
        "outputId": "a3e18e0b-8e8d-4240-9176-f5bfa8c61d09"
      },
      "execution_count": null,
      "outputs": [
        {
          "output_type": "stream",
          "name": "stdout",
          "text": [
            "{11, 13, 15}\n",
            "{11, 13, 15}\n"
          ]
        }
      ]
    },
    {
      "cell_type": "markdown",
      "source": [
        "### **TUPLE**\n",
        "- count( )\n",
        "- index( )"
      ],
      "metadata": {
        "id": "02wuHelxPvHY"
      }
    },
    {
      "cell_type": "code",
      "source": [
        "t=(22,11,25,10,22,0.9,\"leader\")\n",
        "print(t)\n",
        "print(t.count(22))\n",
        "print(t.index(22))"
      ],
      "metadata": {
        "colab": {
          "base_uri": "https://localhost:8080/"
        },
        "id": "95ccCTUIQHmg",
        "outputId": "81a9ff9f-eda3-4695-bf51-f0b8728b93ba"
      },
      "execution_count": null,
      "outputs": [
        {
          "output_type": "stream",
          "name": "stdout",
          "text": [
            "(22, 11, 25, 10, 22, 0.9, 'leader')\n",
            "2\n",
            "0\n"
          ]
        }
      ]
    },
    {
      "cell_type": "code",
      "source": [
        "#nesting in tuple\n",
        "t1=(1,1,2,3)\n",
        "t2=(5,65,7)\n",
        "t3=(t1,t2)\n",
        "print(t3)"
      ],
      "metadata": {
        "colab": {
          "base_uri": "https://localhost:8080/"
        },
        "id": "rf5OhK9EYIht",
        "outputId": "4cfb5d78-e770-4129-b1e2-4497df9300e2"
      },
      "execution_count": null,
      "outputs": [
        {
          "output_type": "stream",
          "name": "stdout",
          "text": [
            "((1, 1, 2, 3), (5, 65, 7))\n"
          ]
        }
      ]
    },
    {
      "cell_type": "markdown",
      "source": [
        "### **DICTIONARY**\n",
        "\n",
        "- Dict contains elements with two units 'key and value'.\n",
        "- keys must be unique.\n",
        "\n",
        "\n",
        "\n",
        "- keys( )\n",
        "- values( )\n",
        "- items( )\n",
        "- update( )\n",
        "- pop( )\n",
        "- popitem( )\n",
        "- setdefault( )"
      ],
      "metadata": {
        "id": "BPDn5RZSRYCH"
      }
    },
    {
      "cell_type": "code",
      "source": [
        "d={1:'kusuma',2:'saipallavi',3:'sailaja'}\n",
        "print(d.keys())\n",
        "print(d.values())\n",
        "print(d.items())"
      ],
      "metadata": {
        "colab": {
          "base_uri": "https://localhost:8080/"
        },
        "id": "I7bLouxASHKP",
        "outputId": "c742d941-1f71-4b1f-8247-d76a581e5a3e"
      },
      "execution_count": null,
      "outputs": [
        {
          "output_type": "stream",
          "name": "stdout",
          "text": [
            "dict_keys([1, 2, 3])\n",
            "dict_values(['kusuma', 'saipallavi', 'sailaja'])\n",
            "dict_items([(1, 'kusuma'), (2, 'saipallavi'), (3, 'sailaja')])\n"
          ]
        }
      ]
    },
    {
      "cell_type": "code",
      "source": [
        "d={'kusuma':'saipallavi','tejaswini':'heroine'}\n",
        "print(d['tejaswini'])"
      ],
      "metadata": {
        "colab": {
          "base_uri": "https://localhost:8080/"
        },
        "id": "oHbkrvDDYpML",
        "outputId": "2b7c1402-c04e-41dc-ae75-a9563dc28854"
      },
      "execution_count": null,
      "outputs": [
        {
          "output_type": "stream",
          "name": "stdout",
          "text": [
            "heroine\n"
          ]
        }
      ]
    },
    {
      "cell_type": "code",
      "source": [
        "l=['john','tom','freddie']\n",
        "print(dict.fromkeys(l))\n",
        "print(dict.fromkeys(l,10))"
      ],
      "metadata": {
        "colab": {
          "base_uri": "https://localhost:8080/"
        },
        "id": "o6r50650Z8Vs",
        "outputId": "867e52a4-15fb-4189-e69a-0c6fe66fabf5"
      },
      "execution_count": null,
      "outputs": [
        {
          "output_type": "stream",
          "name": "stdout",
          "text": [
            "{'john': None, 'tom': None, 'freddie': None}\n",
            "{'john': 10, 'tom': 10, 'freddie': 10}\n"
          ]
        }
      ]
    },
    {
      "cell_type": "code",
      "source": [
        "d={1:'a',2:'b',3:'c',4:'d'}\n",
        "print(d.update({5:'e'}))\n",
        "print(d.pop(3))\n",
        "print(d.popitem())\n",
        "print(d.setdefault(6,'f'))"
      ],
      "metadata": {
        "colab": {
          "base_uri": "https://localhost:8080/"
        },
        "id": "pjL9DslQbGXE",
        "outputId": "3794e2e4-ebbe-48de-e5a7-6876aa841ef7"
      },
      "execution_count": null,
      "outputs": [
        {
          "output_type": "stream",
          "name": "stdout",
          "text": [
            "None\n",
            "c\n",
            "(5, 'e')\n",
            "f\n"
          ]
        }
      ]
    }
  ]
}