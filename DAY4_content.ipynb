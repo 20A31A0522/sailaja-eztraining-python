{
  "nbformat": 4,
  "nbformat_minor": 0,
  "metadata": {
    "colab": {
      "provenance": [],
      "authorship_tag": "ABX9TyO1ZlCtoIsxGrJ2jgoKJVXy",
      "include_colab_link": true
    },
    "kernelspec": {
      "name": "python3",
      "display_name": "Python 3"
    },
    "language_info": {
      "name": "python"
    }
  },
  "cells": [
    {
      "cell_type": "markdown",
      "metadata": {
        "id": "view-in-github",
        "colab_type": "text"
      },
      "source": [
        "<a href=\"https://colab.research.google.com/github/20A31A0522/sailaja-eztraining-python/blob/main/DAY4_content.ipynb\" target=\"_parent\"><img src=\"https://colab.research.google.com/assets/colab-badge.svg\" alt=\"Open In Colab\"/></a>"
      ]
    },
    {
      "cell_type": "markdown",
      "source": [
        "## **STRINGS**"
      ],
      "metadata": {
        "id": "MftgHD60Zdvh"
      }
    },
    {
      "cell_type": "markdown",
      "source": [
        "- **s.upper( )**\n",
        "- **s.lower( )** or **s.casefold( )**\n",
        "- **s.capitalize( )**\n",
        "- **s.replace('a','b)**\n",
        "- **s.strip( )**\n",
        "- **s.split( )**\n",
        "- **s.center( )**\n",
        "- **s.count( )**\n",
        "- s**.count('a',5,len(s))**\n",
        "- **s.endswith('a',0,len(s))**\n",
        "- **s.find('a',0,len(s))**\n",
        "- **s.index('a',7,len(s))**\n",
        "- **s.islower( )**\n",
        "- **s.isupper( )**\n",
        "- **s.istitle( )**\n",
        "- **max(s)**\n",
        "- **min(s)**\n",
        "- **s.startswith('hello',0,len(s))**\n",
        "- **s.rfind('a',0,len(s))** - finds revevrse first occurance or last occurance\n"
      ],
      "metadata": {
        "id": "pGrfLyu6sctr"
      }
    },
    {
      "cell_type": "markdown",
      "source": [
        "### **Mutable Vs Immutatble**"
      ],
      "metadata": {
        "id": "j2bvv_3TKYUP"
      }
    },
    {
      "cell_type": "markdown",
      "source": [
        "### *Immutable*\n",
        "\n",
        "- int\n",
        "- float\n",
        "- string \n",
        "- bool\n",
        "- tuple\n",
        "\n",
        "### *Mutable*\n",
        "\n",
        "- list\n",
        "- set\n",
        "- dictionary"
      ],
      "metadata": {
        "id": "-ltGagAgKjZH"
      }
    }
  ]
}