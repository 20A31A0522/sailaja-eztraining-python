{
  "nbformat": 4,
  "nbformat_minor": 0,
  "metadata": {
    "colab": {
      "provenance": [],
      "authorship_tag": "ABX9TyPyMcEIHOE74j6gagqr5oCG",
      "include_colab_link": true
    },
    "kernelspec": {
      "name": "python3",
      "display_name": "Python 3"
    },
    "language_info": {
      "name": "python"
    }
  },
  "cells": [
    {
      "cell_type": "markdown",
      "metadata": {
        "id": "view-in-github",
        "colab_type": "text"
      },
      "source": [
        "<a href=\"https://colab.research.google.com/github/20A31A0522/sailaja-eztraining-python/blob/main/DAY4_programs.ipynb\" target=\"_parent\"><img src=\"https://colab.research.google.com/assets/colab-badge.svg\" alt=\"Open In Colab\"/></a>"
      ]
    },
    {
      "cell_type": "code",
      "execution_count": null,
      "metadata": {
        "id": "hw9Pg1OkWP4Q",
        "colab": {
          "base_uri": "https://localhost:8080/"
        },
        "outputId": "ca1bed5e-b763-43de-e738-104e751fdce3"
      },
      "outputs": [
        {
          "output_type": "stream",
          "name": "stdout",
          "text": [
            "{1: 1, 2: 4, 3: 9, 4: 16}\n"
          ]
        }
      ],
      "source": [
        "#Dict comprehension examples\n",
        "d={n:n*n for n in range(1,5)}\n",
        "print(d)"
      ]
    },
    {
      "cell_type": "code",
      "source": [
        "old={'dairymilk':25,'snickers':20,'5star':30}\n",
        "new={product:price+5 for (product,price) in old.items()}\n",
        "print(old)\n",
        "print(new)"
      ],
      "metadata": {
        "colab": {
          "base_uri": "https://localhost:8080/"
        },
        "id": "RKyvGyo_YFwH",
        "outputId": "e70e2a79-808a-4cb4-a906-9b0f2dfc5879"
      },
      "execution_count": null,
      "outputs": [
        {
          "output_type": "stream",
          "name": "stdout",
          "text": [
            "{'dairymilk': 25, 'snickers': 20, '5star': 30}\n",
            "{'dairymilk': 30, 'snickers': 25, '5star': 35}\n"
          ]
        }
      ]
    },
    {
      "cell_type": "code",
      "source": [
        "old={'yosh':20,'satya':19,'sailaja':20,'kusuma':18,'tej':16}\n",
        "new={name:age for (name,age) in old.items() if age>=19}\n",
        "print(new)"
      ],
      "metadata": {
        "colab": {
          "base_uri": "https://localhost:8080/"
        },
        "id": "_5woTNowYoha",
        "outputId": "d9e14783-10f8-48e0-8021-5578f006a7c2"
      },
      "execution_count": null,
      "outputs": [
        {
          "output_type": "stream",
          "name": "stdout",
          "text": [
            "{'yosh': 20, 'satya': 19, 'sailaja': 20}\n"
          ]
        }
      ]
    },
    {
      "cell_type": "code",
      "source": [
        "#create a list with 8 customer names.display a dictionary which has customer names along with discounts for them from a particular shop(using random func)\n",
        "import random\n",
        "cn=['a','b','c','d','e','f','g','h']\n",
        "cust_disc={names:random.randint(10,100) for names in cn}\n",
        "print(cust_disc)"
      ],
      "metadata": {
        "colab": {
          "base_uri": "https://localhost:8080/"
        },
        "id": "QHrhEW04aXOh",
        "outputId": "82d01985-fb95-4e6a-c71c-f1fd63167b72"
      },
      "execution_count": null,
      "outputs": [
        {
          "output_type": "stream",
          "name": "stdout",
          "text": [
            "{'a': 49, 'b': 28, 'c': 88, 'd': 64, 'e': 98, 'f': 79, 'g': 73, 'h': 62}\n"
          ]
        }
      ]
    },
    {
      "cell_type": "code",
      "source": [
        "#dict comprehension with random func using *two lists*\n",
        "import random\n",
        "cn=['a','b','c','d','e','f','g','h']\n",
        "disc=[1,2,3,4,5,6,7,8]\n",
        "cd={a:b for (a,b) in zip(cn,disc)}\n",
        "print(cd)"
      ],
      "metadata": {
        "colab": {
          "base_uri": "https://localhost:8080/"
        },
        "id": "7X_gQr2cfR8c",
        "outputId": "7fbd8362-a920-42cc-ae69-28567ad0f73b"
      },
      "execution_count": null,
      "outputs": [
        {
          "output_type": "stream",
          "name": "stdout",
          "text": [
            "{'a': 1, 'b': 2, 'c': 3, 'd': 4, 'e': 5, 'f': 6, 'g': 7, 'h': 8}\n"
          ]
        }
      ]
    },
    {
      "cell_type": "code",
      "source": [
        "#students:marks(1)\n",
        "st=['j','m','p','d','s']\n",
        "mar=[450,451,475,390,267]\n",
        "perl=[]\n",
        "for i in mar:\n",
        "  per=i*0.2\n",
        "  perl.append(per)\n",
        "dict={students:percentage for(students,percentage) in zip(st,perl)}\n",
        "print(dict)"
      ],
      "metadata": {
        "colab": {
          "base_uri": "https://localhost:8080/"
        },
        "id": "y1qKbgWbgLv3",
        "outputId": "1160759f-c3a7-4ddc-b26f-7eca57eade74"
      },
      "execution_count": null,
      "outputs": [
        {
          "output_type": "stream",
          "name": "stdout",
          "text": [
            "{'j': 90.0, 'm': 90.2, 'p': 95.0, 'd': 78.0, 's': 53.400000000000006}\n"
          ]
        }
      ]
    },
    {
      "cell_type": "code",
      "source": [
        "#students:marks(2)\n",
        "name=list(map(str,input().split(\",\")))\n",
        "marks=[]\n",
        "for i in range(len(name)):\n",
        "  a=(random.randint(200,500)*0.2)\n",
        "  marks.append(a)\n",
        "d={st:per for(st,per) in zip(name,marks)}\n",
        "print(d)"
      ],
      "metadata": {
        "colab": {
          "base_uri": "https://localhost:8080/"
        },
        "id": "eGm-O3P4lq6P",
        "outputId": "c27f4743-1325-47f7-bac1-e5edd228bf54"
      },
      "execution_count": null,
      "outputs": [
        {
          "output_type": "stream",
          "name": "stdout",
          "text": [
            "saty,sail,yosh\n",
            "{'saty': 88.80000000000001, 'sail': 63.800000000000004, 'yosh': 87.80000000000001}\n"
          ]
        }
      ]
    },
    {
      "cell_type": "code",
      "source": [
        "#strinng-quotation marks\n",
        "s='hi i\"m a student'\n",
        "s"
      ],
      "metadata": {
        "colab": {
          "base_uri": "https://localhost:8080/",
          "height": 36
        },
        "id": "nYsECPR0l91q",
        "outputId": "3fa9dc4e-b31a-4830-dfaa-0228e3495d8b"
      },
      "execution_count": null,
      "outputs": [
        {
          "output_type": "execute_result",
          "data": {
            "text/plain": [
              "'hi i\"m a student'"
            ],
            "application/vnd.google.colaboratory.intrinsic+json": {
              "type": "string"
            }
          },
          "metadata": {},
          "execution_count": 22
        }
      ]
    },
    {
      "cell_type": "code",
      "source": [
        "s=\"hi i'm a student\"\n",
        "s"
      ],
      "metadata": {
        "colab": {
          "base_uri": "https://localhost:8080/",
          "height": 36
        },
        "id": "OHEMMQp0rfQl",
        "outputId": "6ae54326-974f-453b-aadc-4321510a66bd"
      },
      "execution_count": null,
      "outputs": [
        {
          "output_type": "execute_result",
          "data": {
            "text/plain": [
              "\"hi i'm a student\""
            ],
            "application/vnd.google.colaboratory.intrinsic+json": {
              "type": "string"
            }
          },
          "metadata": {},
          "execution_count": 23
        }
      ]
    },
    {
      "cell_type": "code",
      "source": [
        "s='hi i\\'m a student'\n",
        "s"
      ],
      "metadata": {
        "colab": {
          "base_uri": "https://localhost:8080/",
          "height": 36
        },
        "id": "1EHnsLLIroM9",
        "outputId": "62628f2a-79d9-4ed1-ad1f-2438780d325b"
      },
      "execution_count": null,
      "outputs": [
        {
          "output_type": "execute_result",
          "data": {
            "text/plain": [
              "\"hi i'm a student\""
            ],
            "application/vnd.google.colaboratory.intrinsic+json": {
              "type": "string"
            }
          },
          "metadata": {},
          "execution_count": 25
        }
      ]
    },
    {
      "cell_type": "code",
      "source": [
        "#String Function\n",
        "s=\"  tRaining \"\n",
        "t=\"hello\"\n",
        "print(s.upper())\n",
        "print(s.lower())\n",
        "print(t.capitalize())\n",
        "print(s.replace('t','s'))\n",
        "print(s.strip())\n",
        "print(s.split(\"a\"))\n",
        "print(s.center(31,\"*\"))\n",
        "print(s.count('a'))\n",
        "print(s.count('i',2,len(s)))\n",
        "print(s.endswith('a',0,len(s)))\n",
        "print(s.find('a',0,len(s)))\n",
        "print(s.index('a',2,len(s)))"
      ],
      "metadata": {
        "colab": {
          "base_uri": "https://localhost:8080/"
        },
        "id": "W8l4HcpCwVqa",
        "outputId": "0f38ea8c-2255-431b-833f-0ad7fb8d9327"
      },
      "execution_count": null,
      "outputs": [
        {
          "output_type": "stream",
          "name": "stdout",
          "text": [
            "  TRAINING \n",
            "  training \n",
            "Hello\n",
            "  sRaining \n",
            "tRaining\n",
            "['  tR', 'ining ']\n",
            "**********  tRaining **********\n",
            "1\n",
            "2\n",
            "False\n",
            "4\n",
            "4\n"
          ]
        }
      ]
    },
    {
      "cell_type": "code",
      "source": [
        "s=\"hello\"\n",
        "print(s.islower( ))\n",
        "print(s.isupper( ))\n",
        "print(s.istitle( ))\n",
        "print(max(s))\n",
        "print(min(s))\n",
        "print(s.startswith('hello',0,len(s)))\n",
        "print(s.rfind('l',0,len(s)))"
      ],
      "metadata": {
        "colab": {
          "base_uri": "https://localhost:8080/"
        },
        "id": "iCtuwUGnGLxx",
        "outputId": "e218fe71-9c8a-4ca5-aa27-97b7727fea25"
      },
      "execution_count": null,
      "outputs": [
        {
          "output_type": "stream",
          "name": "stdout",
          "text": [
            "True\n",
            "False\n",
            "False\n",
            "o\n",
            "e\n",
            "True\n",
            "3\n"
          ]
        }
      ]
    },
    {
      "cell_type": "code",
      "source": [
        "#get one string as input along with a character.find out and display whether that particular character is present or not.\n",
        "s=input()\n",
        "t=input()\n",
        "if(t in s):\n",
        "  print(\"is present\")\n",
        "else:\n",
        "  print(\"not present\")"
      ],
      "metadata": {
        "colab": {
          "base_uri": "https://localhost:8080/"
        },
        "id": "RoPxnlw7LtBJ",
        "outputId": "c8fc3aab-722a-447d-f861-6776324ba62c"
      },
      "execution_count": null,
      "outputs": [
        {
          "output_type": "stream",
          "name": "stdout",
          "text": [
            "sailaja\n",
            "s\n",
            "is present\n"
          ]
        }
      ]
    },
    {
      "cell_type": "code",
      "source": [
        "s=input()\n",
        "t=input()\n",
        "p=\"yes\" if t in s else no\n",
        "print(p)"
      ],
      "metadata": {
        "colab": {
          "base_uri": "https://localhost:8080/"
        },
        "id": "LPM5HY0qYlwn",
        "outputId": "57d28ab8-858f-41e4-cd7d-b5cdbad7173f"
      },
      "execution_count": null,
      "outputs": [
        {
          "output_type": "stream",
          "name": "stdout",
          "text": [
            "sailaja\n",
            "j\n",
            "yes\n"
          ]
        }
      ]
    },
    {
      "cell_type": "code",
      "source": [
        "s=input()\n",
        "t=input()\n",
        "count=0\n",
        "for i in s:\n",
        "  if(i==t):\n",
        "    count=1\n",
        "    break\n",
        "  else:\n",
        "    count=0\n",
        "if(count==1):\n",
        "  print(\"is present\")\n",
        "else:\n",
        "  print(\"not present\")"
      ],
      "metadata": {
        "colab": {
          "base_uri": "https://localhost:8080/"
        },
        "id": "uG1RX0bAVeln",
        "outputId": "7d534330-8eeb-41fe-9a60-1844461c7196"
      },
      "execution_count": null,
      "outputs": [
        {
          "output_type": "stream",
          "name": "stdout",
          "text": [
            "sailaja\n",
            "a\n",
            "is present\n"
          ]
        }
      ]
    },
    {
      "cell_type": "code",
      "source": [
        "#check whether the given string is palindrome or not\n",
        "s=input()\n",
        "t=s[::-1]\n",
        "if(s==t):\n",
        "  print(\"is palindrome\")\n",
        "else:\n",
        "  print(\"not palindrome\")"
      ],
      "metadata": {
        "colab": {
          "base_uri": "https://localhost:8080/"
        },
        "id": "boUuvhYUMiCw",
        "outputId": "43d1c45b-8f2f-4840-d963-2b53747dd784"
      },
      "execution_count": null,
      "outputs": [
        {
          "output_type": "stream",
          "name": "stdout",
          "text": [
            "malayalam\n",
            "is palindrome\n"
          ]
        }
      ]
    },
    {
      "cell_type": "code",
      "source": [
        "#check ur string contains space or not.if yes,count no. of spaces in ur string and print it\n",
        "s=input()\n",
        "count=0\n",
        "for i in range(0,len(s)):\n",
        "  if(s[i]==\" \"):\n",
        "    count+=1\n",
        "if(count>0):\n",
        "  print(\"yes\")\n",
        "  print(\"count=\",count)\n",
        "else:\n",
        "  print(\"no\")"
      ],
      "metadata": {
        "colab": {
          "base_uri": "https://localhost:8080/"
        },
        "id": "DoE_i1EEMmvg",
        "outputId": "82f9295a-1a57-4e60-dba0-1584644eed72"
      },
      "execution_count": null,
      "outputs": [
        {
          "output_type": "stream",
          "name": "stdout",
          "text": [
            "sailu\n",
            "no\n"
          ]
        }
      ]
    },
    {
      "cell_type": "code",
      "source": [
        "#create a list with vowels,get one string as input.count vowels from the string and display count\n",
        "l=['a','e','i','o','u']\n",
        "s=input()\n",
        "count=0\n",
        "for i in s:\n",
        "  for j in l:\n",
        "    if j==i :\n",
        "      count+=1\n",
        "print(count)"
      ],
      "metadata": {
        "colab": {
          "base_uri": "https://localhost:8080/"
        },
        "id": "VIZQpQpXdtcO",
        "outputId": "d4b9fc6f-a5d3-48f2-c93b-02d087a2a95d"
      },
      "execution_count": 2,
      "outputs": [
        {
          "output_type": "stream",
          "name": "stdout",
          "text": [
            "sailaja\n",
            "4\n"
          ]
        }
      ]
    },
    {
      "cell_type": "code",
      "source": [
        "import math\n",
        "print(math.ceil(11.5))\n",
        "print(math.floor(11.5))\n",
        "print(math.sqrt(8))\n",
        "print(math.pow(7,3))\n",
        "print((math.factorial(5)))\n",
        "print(math.fmod(15,4))\n",
        "n1,n2=divmod(15,4)\n",
        "print(n1,n2)"
      ],
      "metadata": {
        "colab": {
          "base_uri": "https://localhost:8080/"
        },
        "id": "gpO9S3GS61X7",
        "outputId": "82edf61b-a26e-4c21-8622-d8252e726810"
      },
      "execution_count": 3,
      "outputs": [
        {
          "output_type": "stream",
          "name": "stdout",
          "text": [
            "12\n",
            "11\n",
            "2.8284271247461903\n",
            "343.0\n",
            "120\n",
            "3.0\n",
            "3 3\n"
          ]
        }
      ]
    }
  ]
}