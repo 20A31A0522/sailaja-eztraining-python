{
  "nbformat": 4,
  "nbformat_minor": 0,
  "metadata": {
    "colab": {
      "provenance": [],
      "authorship_tag": "ABX9TyNWw+OkzlyKNgG4wRlGDClm",
      "include_colab_link": true
    },
    "kernelspec": {
      "name": "python3",
      "display_name": "Python 3"
    },
    "language_info": {
      "name": "python"
    }
  },
  "cells": [
    {
      "cell_type": "markdown",
      "metadata": {
        "id": "view-in-github",
        "colab_type": "text"
      },
      "source": [
        "<a href=\"https://colab.research.google.com/github/20A31A0522/sailaja-eztraining-python/blob/main/DAY5_content.ipynb\" target=\"_parent\"><img src=\"https://colab.research.google.com/assets/colab-badge.svg\" alt=\"Open In Colab\"/></a>"
      ]
    },
    {
      "cell_type": "markdown",
      "source": [
        "## **Random**\n",
        "\n",
        "- random.sample(str,2)\n",
        "\n",
        "- random.shuffle(a) \n",
        "\n",
        "- random.choice(a)\n",
        "\n",
        "- random.random( ) : range in 0.0 to 1.0 [0.0,1.0)\n",
        "\n",
        "- random.uniform(10,20) : includes the range values : o/p = float\n",
        "\n",
        "- random.randint(10,20) : p/p = int\n",
        "\n",
        "- random.choices(a,k=10)\n"
      ],
      "metadata": {
        "id": "M5weMmO0cDBt"
      }
    },
    {
      "cell_type": "markdown",
      "source": [
        "## **Calendar**\n",
        "\n",
        "- calendar.calendar(year)\n",
        "\n",
        "- calendar.month(year,month)\n",
        "\n",
        "- calendar.setfirstweekday(calendar.DAY) and print the calendar as calendar.month(year,month)"
      ],
      "metadata": {
        "id": "om89ERfAiwfL"
      }
    },
    {
      "cell_type": "markdown",
      "source": [
        "## **datetime**\n",
        "- a=datetime.datetime.now()\n",
        "- sv=a.strftime(\"%Y\")#LOWERCASE - short version\n",
        "- fv=a.strftime(\"%Y\")#uppercase - full version"
      ],
      "metadata": {
        "id": "hRWsQQrmlLvV"
      }
    },
    {
      "cell_type": "markdown",
      "source": [
        "# **Functions**\n",
        "## - Classifications\n",
        "1. *Predefined*\n",
        "2. *User-defined*\n",
        "- for code reusability we ususe functions\n",
        "- lets say we want to use a particiular concept multiple times in our prgrm instead of writing the same code multiple times we can write it once include that inside a function and can call the function where ever we need it\n",
        "\n",
        "## - Types\n",
        "1. Functins w/o arg w/o return value\n",
        "2. w/o arg with return value\n",
        "4. with arg with return value\n",
        "3. with arg w/o return value\n",
        "\n",
        "# Recursive function or recursion method\n",
        "\n",
        "- a function which calls itself"
      ],
      "metadata": {
        "id": "5e-bzH4ymk3X"
      }
    }
  ]
}