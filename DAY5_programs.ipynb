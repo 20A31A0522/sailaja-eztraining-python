{
  "nbformat": 4,
  "nbformat_minor": 0,
  "metadata": {
    "colab": {
      "provenance": [],
      "authorship_tag": "ABX9TyPFgai0KAMg8uhnB11Q22kh",
      "include_colab_link": true
    },
    "kernelspec": {
      "name": "python3",
      "display_name": "Python 3"
    },
    "language_info": {
      "name": "python"
    }
  },
  "cells": [
    {
      "cell_type": "markdown",
      "metadata": {
        "id": "view-in-github",
        "colab_type": "text"
      },
      "source": [
        "<a href=\"https://colab.research.google.com/github/20A31A0522/sailaja-eztraining-python/blob/main/DAY5_programs.ipynb\" target=\"_parent\"><img src=\"https://colab.research.google.com/assets/colab-badge.svg\" alt=\"Open In Colab\"/></a>"
      ]
    },
    {
      "cell_type": "code",
      "execution_count": null,
      "metadata": {
        "id": "7Y-Qsf1DYcTR",
        "colab": {
          "base_uri": "https://localhost:8080/"
        },
        "outputId": "533c0b36-27ab-4ba1-cb31-24f78e42c071"
      },
      "outputs": [
        {
          "output_type": "stream",
          "name": "stdout",
          "text": [
            "['g', 'g', ' ']\n",
            "[11, 10, 22, 25]\n",
            "10\n",
            "[22, 22, 10, 11, 11, 10, 11, 11, 25]\n",
            "0.9142528879895947\n",
            "3.472528514561281\n",
            "7\n"
          ]
        }
      ],
      "source": [
        "import random as r\n",
        "s=\"training is good\"\n",
        "print(r.sample(s,3))\n",
        "l=[10,11,22,25]\n",
        "r.shuffle(l)\n",
        "print(l)\n",
        "print(r.choice(l))\n",
        "print(r.choices(l,k=9))\n",
        "print(r.random())\n",
        "print(r.uniform(2,10))\n",
        "print(r.randint(2,10))\n"
      ]
    },
    {
      "cell_type": "code",
      "source": [
        "z=dir(r)\n",
        "print(z)"
      ],
      "metadata": {
        "colab": {
          "base_uri": "https://localhost:8080/"
        },
        "id": "zJ3vOj8jh1as",
        "outputId": "734c27e3-29d1-4fcf-c117-90ef74bd7122"
      },
      "execution_count": null,
      "outputs": [
        {
          "output_type": "stream",
          "name": "stdout",
          "text": [
            "['BPF', 'LOG4', 'NV_MAGICCONST', 'RECIP_BPF', 'Random', 'SG_MAGICCONST', 'SystemRandom', 'TWOPI', '_Sequence', '_Set', '__all__', '__builtins__', '__cached__', '__doc__', '__file__', '__loader__', '__name__', '__package__', '__spec__', '_accumulate', '_acos', '_bisect', '_ceil', '_cos', '_e', '_exp', '_inst', '_log', '_os', '_pi', '_random', '_repeat', '_sha512', '_sin', '_sqrt', '_test', '_test_generator', '_urandom', '_warn', 'betavariate', 'choice', 'choices', 'expovariate', 'gammavariate', 'gauss', 'getrandbits', 'getstate', 'lognormvariate', 'normalvariate', 'paretovariate', 'randint', 'random', 'randrange', 'sample', 'seed', 'setstate', 'shuffle', 'triangular', 'uniform', 'vonmisesvariate', 'weibullvariate']\n"
          ]
        }
      ]
    },
    {
      "cell_type": "code",
      "source": [
        "import calendar\n",
        "print(calendar.calendar(2023))"
      ],
      "metadata": {
        "colab": {
          "base_uri": "https://localhost:8080/"
        },
        "id": "7KgHn6L1h8jc",
        "outputId": "882ab6f5-ee55-4590-8db8-756c3cf23d81"
      },
      "execution_count": null,
      "outputs": [
        {
          "output_type": "stream",
          "name": "stdout",
          "text": [
            "                                  2023\n",
            "\n",
            "      January                   February                   March\n",
            "Mo Tu We Th Fr Sa Su      Mo Tu We Th Fr Sa Su      Mo Tu We Th Fr Sa Su\n",
            "                   1             1  2  3  4  5             1  2  3  4  5\n",
            " 2  3  4  5  6  7  8       6  7  8  9 10 11 12       6  7  8  9 10 11 12\n",
            " 9 10 11 12 13 14 15      13 14 15 16 17 18 19      13 14 15 16 17 18 19\n",
            "16 17 18 19 20 21 22      20 21 22 23 24 25 26      20 21 22 23 24 25 26\n",
            "23 24 25 26 27 28 29      27 28                     27 28 29 30 31\n",
            "30 31\n",
            "\n",
            "       April                      May                       June\n",
            "Mo Tu We Th Fr Sa Su      Mo Tu We Th Fr Sa Su      Mo Tu We Th Fr Sa Su\n",
            "                1  2       1  2  3  4  5  6  7                1  2  3  4\n",
            " 3  4  5  6  7  8  9       8  9 10 11 12 13 14       5  6  7  8  9 10 11\n",
            "10 11 12 13 14 15 16      15 16 17 18 19 20 21      12 13 14 15 16 17 18\n",
            "17 18 19 20 21 22 23      22 23 24 25 26 27 28      19 20 21 22 23 24 25\n",
            "24 25 26 27 28 29 30      29 30 31                  26 27 28 29 30\n",
            "\n",
            "        July                     August                  September\n",
            "Mo Tu We Th Fr Sa Su      Mo Tu We Th Fr Sa Su      Mo Tu We Th Fr Sa Su\n",
            "                1  2          1  2  3  4  5  6                   1  2  3\n",
            " 3  4  5  6  7  8  9       7  8  9 10 11 12 13       4  5  6  7  8  9 10\n",
            "10 11 12 13 14 15 16      14 15 16 17 18 19 20      11 12 13 14 15 16 17\n",
            "17 18 19 20 21 22 23      21 22 23 24 25 26 27      18 19 20 21 22 23 24\n",
            "24 25 26 27 28 29 30      28 29 30 31               25 26 27 28 29 30\n",
            "31\n",
            "\n",
            "      October                   November                  December\n",
            "Mo Tu We Th Fr Sa Su      Mo Tu We Th Fr Sa Su      Mo Tu We Th Fr Sa Su\n",
            "                   1             1  2  3  4  5                   1  2  3\n",
            " 2  3  4  5  6  7  8       6  7  8  9 10 11 12       4  5  6  7  8  9 10\n",
            " 9 10 11 12 13 14 15      13 14 15 16 17 18 19      11 12 13 14 15 16 17\n",
            "16 17 18 19 20 21 22      20 21 22 23 24 25 26      18 19 20 21 22 23 24\n",
            "23 24 25 26 27 28 29      27 28 29 30               25 26 27 28 29 30 31\n",
            "30 31\n",
            "\n"
          ]
        }
      ]
    },
    {
      "cell_type": "code",
      "source": [
        "import calendar\n",
        "print(calendar.month(2023,12))"
      ],
      "metadata": {
        "colab": {
          "base_uri": "https://localhost:8080/"
        },
        "id": "KDCndisjkOqw",
        "outputId": "d015efdc-8d52-458c-cfc3-6105ed72ace1"
      },
      "execution_count": null,
      "outputs": [
        {
          "output_type": "stream",
          "name": "stdout",
          "text": [
            "   December 2023\n",
            "Mo Tu We Th Fr Sa Su\n",
            "             1  2  3\n",
            " 4  5  6  7  8  9 10\n",
            "11 12 13 14 15 16 17\n",
            "18 19 20 21 22 23 24\n",
            "25 26 27 28 29 30 31\n",
            "\n"
          ]
        }
      ]
    },
    {
      "cell_type": "code",
      "source": [
        "import calendar\n",
        "calendar.setfirstweekday(calendar.SATURDAY)\n",
        "print(calendar.month(2023,8))"
      ],
      "metadata": {
        "colab": {
          "base_uri": "https://localhost:8080/"
        },
        "id": "4DEUazIIkh2K",
        "outputId": "d3974e4f-07d5-4d86-c9cc-f560f607e512"
      },
      "execution_count": null,
      "outputs": [
        {
          "output_type": "stream",
          "name": "stdout",
          "text": [
            "    August 2023\n",
            "Sa Su Mo Tu We Th Fr\n",
            "          1  2  3  4\n",
            " 5  6  7  8  9 10 11\n",
            "12 13 14 15 16 17 18\n",
            "19 20 21 22 23 24 25\n",
            "26 27 28 29 30 31\n",
            "\n"
          ]
        }
      ]
    },
    {
      "cell_type": "code",
      "source": [
        "import datetime\n",
        "a=datetime.datetime.now()\n",
        "print(a)"
      ],
      "metadata": {
        "colab": {
          "base_uri": "https://localhost:8080/"
        },
        "id": "6umAFsptlV2P",
        "outputId": "39f23d88-b62f-42bd-8894-f928e531fbc1"
      },
      "execution_count": null,
      "outputs": [
        {
          "output_type": "stream",
          "name": "stdout",
          "text": [
            "2023-02-03 04:43:36.258261\n"
          ]
        }
      ]
    },
    {
      "cell_type": "code",
      "source": [
        "sv=a.strftime(\"%Y\")#LOWERCASE\n",
        "fv=a.strftime(\"%Y\")#uppercase\n",
        "print(sv)\n",
        "print(fv)"
      ],
      "metadata": {
        "colab": {
          "base_uri": "https://localhost:8080/"
        },
        "id": "47wzLk_YlnXr",
        "outputId": "f7216bf2-58d9-466b-e064-c33106eb62e4"
      },
      "execution_count": null,
      "outputs": [
        {
          "output_type": "stream",
          "name": "stdout",
          "text": [
            "2023\n",
            "2023\n"
          ]
        }
      ]
    },
    {
      "cell_type": "code",
      "source": [
        "#FUNCTIONS\n",
        "def demo():\n",
        "  print(\"training\")\n",
        "  print(\"phase\")\n",
        "\n",
        "demo()"
      ],
      "metadata": {
        "colab": {
          "base_uri": "https://localhost:8080/"
        },
        "id": "RXu0aKthpX90",
        "outputId": "f755ee5f-84a4-439c-9c10-134d38cdf6c9"
      },
      "execution_count": null,
      "outputs": [
        {
          "output_type": "stream",
          "name": "stdout",
          "text": [
            "training\n",
            "phase\n"
          ]
        }
      ]
    },
    {
      "cell_type": "code",
      "source": [
        "def demo():\n",
        "  print(\"training\")\n",
        "  print(\"phase\")\n",
        "\n",
        "demo()\n",
        "print(\"1\")"
      ],
      "metadata": {
        "colab": {
          "base_uri": "https://localhost:8080/"
        },
        "id": "z6HQfh7bptnF",
        "outputId": "be2824be-4252-4e4b-faa0-244aeaa84903"
      },
      "execution_count": null,
      "outputs": [
        {
          "output_type": "stream",
          "name": "stdout",
          "text": [
            "training\n",
            "phase\n",
            "1\n"
          ]
        }
      ]
    },
    {
      "cell_type": "code",
      "source": [
        "def demo():\n",
        "  print(\"training\")\n",
        "  print(\"phase\")\n",
        "\n",
        "demo()\n",
        "print(\"1\")\n",
        "demo()"
      ],
      "metadata": {
        "colab": {
          "base_uri": "https://localhost:8080/"
        },
        "id": "gfteMCHap0bZ",
        "outputId": "759b1bea-748a-4ed4-86c9-282f9ae8b2d6"
      },
      "execution_count": null,
      "outputs": [
        {
          "output_type": "stream",
          "name": "stdout",
          "text": [
            "training\n",
            "phase\n",
            "1\n",
            "training\n",
            "phase\n"
          ]
        }
      ]
    },
    {
      "cell_type": "code",
      "source": [
        "def multi():\n",
        "  n1,n2,n3=map(int,input().split(\",\"))\n",
        "  prod=n1*n2*n3\n",
        "  print(prod)\n",
        "\n",
        "multi()"
      ],
      "metadata": {
        "colab": {
          "base_uri": "https://localhost:8080/"
        },
        "id": "eip3Fn7dqZ6E",
        "outputId": "fa6752cc-b095-455a-9de4-96605f9b25a2"
      },
      "execution_count": null,
      "outputs": [
        {
          "output_type": "stream",
          "name": "stdout",
          "text": [
            "2,3,4\n",
            "24\n"
          ]
        }
      ]
    },
    {
      "cell_type": "code",
      "source": [
        "def multi():\n",
        "  n1,n2,n3=map(int,input().split(\",\"))\n",
        "  prod=n1*n2*n3\n",
        "  return prod\n",
        "\n",
        "ans=multi()\n",
        "print(ans)"
      ],
      "metadata": {
        "colab": {
          "base_uri": "https://localhost:8080/"
        },
        "id": "PEgMHnVGsRLQ",
        "outputId": "ad6dabde-f6b5-4585-8f85-8006c393087c"
      },
      "execution_count": null,
      "outputs": [
        {
          "output_type": "stream",
          "name": "stdout",
          "text": [
            "2,3,4\n",
            "24\n"
          ]
        }
      ]
    },
    {
      "cell_type": "code",
      "source": [
        "#with arg,w/0 ret value\n",
        "def multi(n1,n2,n3):\n",
        "  prod=n1*n2*n3\n",
        "  print(prod)\n",
        "\n",
        "multi(3,4,5)"
      ],
      "metadata": {
        "colab": {
          "base_uri": "https://localhost:8080/"
        },
        "id": "-5UyOHnqtzJ9",
        "outputId": "70a02c53-e2ab-4bb1-e74d-752bbe917fa4"
      },
      "execution_count": null,
      "outputs": [
        {
          "output_type": "stream",
          "name": "stdout",
          "text": [
            "60\n"
          ]
        }
      ]
    },
    {
      "cell_type": "code",
      "source": [
        "def multi(n1,n2,n3):\n",
        "  prod=n1*n2*n3\n",
        "  print(prod)\n",
        "\n",
        "a=int(input())\n",
        "b=int(input())\n",
        "c=int(input())\n",
        "multi(a,b,c)"
      ],
      "metadata": {
        "colab": {
          "base_uri": "https://localhost:8080/"
        },
        "id": "U_NqsKl8uk1y",
        "outputId": "06b6ed01-82b0-4bbe-d2f0-bc873cb04708"
      },
      "execution_count": null,
      "outputs": [
        {
          "output_type": "stream",
          "name": "stdout",
          "text": [
            "3\n",
            "4\n",
            "5\n",
            "60\n"
          ]
        }
      ]
    },
    {
      "cell_type": "code",
      "source": [
        "#with arg,with ret value\n",
        "def multi(n1,n2,n3):\n",
        "  prod=n1*n2*n3\n",
        "  return prod\n",
        "\n",
        "ans=multi(3,4,5)\n",
        "print(ans)"
      ],
      "metadata": {
        "colab": {
          "base_uri": "https://localhost:8080/"
        },
        "id": "t55wDGPjwy77",
        "outputId": "955cf0ac-7a6c-45b0-9b2c-a462ac6238e3"
      },
      "execution_count": null,
      "outputs": [
        {
          "output_type": "stream",
          "name": "stdout",
          "text": [
            "60\n"
          ]
        }
      ]
    },
    {
      "cell_type": "code",
      "source": [
        "def multi(n1,n2,n3):\n",
        "  prod=n1*n2*n3\n",
        "  return prod\n",
        "\n",
        "a=int(input())\n",
        "b=int(input())\n",
        "c=int(input())\n",
        "ans=multi(a,b,c)\n",
        "print(ans)"
      ],
      "metadata": {
        "colab": {
          "base_uri": "https://localhost:8080/"
        },
        "id": "UPag3SQixORP",
        "outputId": "f39e2638-3572-49b0-88dd-a9aa20e0017d"
      },
      "execution_count": null,
      "outputs": [
        {
          "output_type": "stream",
          "name": "stdout",
          "text": [
            "3\n",
            "4\n",
            "5\n",
            "60\n"
          ]
        }
      ]
    },
    {
      "cell_type": "code",
      "source": [
        "#lemon prgrm using type1\n",
        "def count1():\n",
        "  n=int(input())\n",
        "  lemon=20\n",
        "  excess=n-lemon\n",
        "  less=lemon-n\n",
        "  if(lemon<n):\n",
        "    print(\"excess\",excess)\n",
        "  else:\n",
        "    print(\"less\",less)\n",
        "\n",
        "count1()\n",
        "\n"
      ],
      "metadata": {
        "colab": {
          "base_uri": "https://localhost:8080/"
        },
        "id": "nMHsyKd0ymLJ",
        "outputId": "8bbeaf43-39c8-49be-bf25-9cec3cbfedc9"
      },
      "execution_count": null,
      "outputs": [
        {
          "output_type": "stream",
          "name": "stdout",
          "text": [
            "25\n",
            "excess 5\n"
          ]
        }
      ]
    },
    {
      "cell_type": "code",
      "source": [
        "#find factors of the given no. using functions type2\n",
        "def factors():\n",
        "  n=int(input())\n",
        "  l=[]\n",
        "  for i in range(1,n+1):\n",
        "    if(n%i==0):\n",
        "      l.append(i)\n",
        "  return l\n",
        "\n",
        "factlist=factors()\n",
        "print(factlist)"
      ],
      "metadata": {
        "colab": {
          "base_uri": "https://localhost:8080/"
        },
        "id": "582fBEq9zm9V",
        "outputId": "1123e3b3-a54a-41ac-9807-cf65a8bd3108"
      },
      "execution_count": null,
      "outputs": [
        {
          "output_type": "stream",
          "name": "stdout",
          "text": [
            "6\n",
            "[1, 2, 3, 6]\n"
          ]
        }
      ]
    },
    {
      "cell_type": "code",
      "source": [
        "#print multiplication table using func type 3\n",
        "def multab(n):\n",
        "  for i in range(1,13):\n",
        "    prod=n*i\n",
        "    print(n,\"x\",i,\"=\",prod)\n",
        "\n",
        "n=int(input())\n",
        "multab(n)"
      ],
      "metadata": {
        "colab": {
          "base_uri": "https://localhost:8080/"
        },
        "id": "vw4XgzEh0wBx",
        "outputId": "5a07e1ba-d0f4-4053-cb68-ed611ab5394e"
      },
      "execution_count": null,
      "outputs": [
        {
          "output_type": "stream",
          "name": "stdout",
          "text": [
            "6\n",
            "6 x 1 = 6\n",
            "6 x 2 = 12\n",
            "6 x 3 = 18\n",
            "6 x 4 = 24\n",
            "6 x 5 = 30\n",
            "6 x 6 = 36\n",
            "6 x 7 = 42\n",
            "6 x 8 = 48\n",
            "6 x 9 = 54\n",
            "6 x 10 = 60\n",
            "6 x 11 = 66\n",
            "6 x 12 = 72\n"
          ]
        }
      ]
    },
    {
      "cell_type": "code",
      "source": [
        "#find out sum of digits of the given no. using func type4\n",
        "def sumofdigi(n):\n",
        "  sum=0\n",
        "  while n>0:\n",
        "    rem=n%10\n",
        "    sum=sum+rem\n",
        "    n=n//10\n",
        "  return sum\n",
        "\n",
        "n1=int(input())\n",
        "ans=sumofdigi(n1)\n",
        "print(ans)"
      ],
      "metadata": {
        "colab": {
          "base_uri": "https://localhost:8080/"
        },
        "id": "1FbpFmNB2mMt",
        "outputId": "f6d41e9e-2a15-4c3a-c811-5e230f12b233"
      },
      "execution_count": null,
      "outputs": [
        {
          "output_type": "stream",
          "name": "stdout",
          "text": [
            "22222\n",
            "10\n"
          ]
        }
      ]
    },
    {
      "cell_type": "code",
      "source": [
        "def display():\n",
        "  n=int(input(\"enter a number\"))\n",
        "  if(n==1):\n",
        "    display()\n",
        "  else:\n",
        "    print(\"done\",n1)\n",
        "\n",
        "display()"
      ],
      "metadata": {
        "id": "ZFCBJ7Pw4w1X",
        "colab": {
          "base_uri": "https://localhost:8080/"
        },
        "outputId": "169e864f-4514-4837-e4fa-e74f620902b7"
      },
      "execution_count": null,
      "outputs": [
        {
          "output_type": "stream",
          "name": "stdout",
          "text": [
            "enter a number1\n",
            "enter a number1\n",
            "enter a number1\n",
            "enter a number1\n",
            "enter a number2\n",
            "done 2\n"
          ]
        }
      ]
    },
    {
      "cell_type": "code",
      "source": [
        "def fact(n):\n",
        "  if(n==0):\n",
        "    return 1\n",
        "  return n*fact(n-1)\n",
        "\n",
        "factorial=fact(9)\n",
        "print(factorial)"
      ],
      "metadata": {
        "colab": {
          "base_uri": "https://localhost:8080/"
        },
        "id": "4-naxXtqXQBp",
        "outputId": "1fa7b2c1-c048-44dc-f002-1376a7e4b8f9"
      },
      "execution_count": null,
      "outputs": [
        {
          "output_type": "stream",
          "name": "stdout",
          "text": [
            "362880\n"
          ]
        }
      ]
    },
    {
      "cell_type": "markdown",
      "source": [
        "1. n=5\n",
        "2. n!=o\n",
        "3. out of if cond\n",
        "4. 5*fact(5-1) ------ 5*fact(4)\n",
        "5. fact(4) ----- n=4\n",
        ". \n",
        ".\n",
        ".\n",
        ".\n",
        "6. fact(0) ------ n==0\n",
        "7. return 1\n",
        "8. fact(1)=1*1=1\n",
        "9. fact(2)=2*1=2\n",
        "10. fact(3)=3*2=6\n",
        "11. fact(4)=4*6=24\n",
        "12. fact(5)=5*24=120"
      ],
      "metadata": {
        "id": "O8YEUpVoX6Kf"
      }
    },
    {
      "cell_type": "code",
      "source": [
        "#fibanocci\n",
        "n=int(input(\"enter number\"))\n",
        "n1=0\n",
        "n2=1\n",
        "sum=0\n",
        "count=1\n",
        "if n<= 0:\n",
        "   print(\"Please enter a positive integer\")\n",
        "elif n==1:\n",
        "   print(\"Fibonacci\",n)\n",
        "   print(n1)\n",
        "else:\n",
        "   print(\"Fibonacci\")\n",
        "   while count < n:\n",
        "       print(n1)\n",
        "       nth = n1 + n2\n",
        "       n1 = n2\n",
        "       n2 = nth\n",
        "       count += 1\n"
      ],
      "metadata": {
        "id": "Yqfs-zVvZVOt",
        "colab": {
          "base_uri": "https://localhost:8080/"
        },
        "outputId": "73a57d6d-267a-495c-c761-d83ec5ca91f5"
      },
      "execution_count": 8,
      "outputs": [
        {
          "output_type": "stream",
          "name": "stdout",
          "text": [
            "enter number8\n",
            "Fibonacci\n",
            "0\n",
            "1\n",
            "1\n",
            "2\n",
            "3\n",
            "5\n",
            "8\n"
          ]
        }
      ]
    },
    {
      "cell_type": "code",
      "source": [
        "#fibanocci using recursion\n",
        "def fib_rec(n):\n",
        "   if n <= 1:\n",
        "       return n\n",
        "   else:\n",
        "       return(fib_rec(n-1) + fib_rec(n-2))\n",
        "\n",
        "nterms = 10\n",
        "if nterms <= 0:\n",
        "   print(\"Plese enter a positive integer\")\n",
        "else:\n",
        "   print(\"Fibonacci:\")\n",
        "   for i in range(nterms):\n",
        "       print(fib_rec(i))"
      ],
      "metadata": {
        "colab": {
          "base_uri": "https://localhost:8080/"
        },
        "id": "qVaN7P0vir26",
        "outputId": "1953f921-1550-4eeb-8a74-5fd110827319"
      },
      "execution_count": 9,
      "outputs": [
        {
          "output_type": "stream",
          "name": "stdout",
          "text": [
            "Fibonacci:\n",
            "0\n",
            "1\n",
            "1\n",
            "2\n",
            "3\n",
            "5\n",
            "8\n",
            "13\n",
            "21\n",
            "34\n"
          ]
        }
      ]
    },
    {
      "cell_type": "code",
      "source": [
        "#two innputs\n",
        "def rem_quo(a,b):\n",
        "  rem=a%b\n",
        "  quo=a//b\n",
        "  return rem,quo\n",
        "\n",
        "n1,n2=rem_quo(5,2)\n",
        "print(n1,n2)"
      ],
      "metadata": {
        "colab": {
          "base_uri": "https://localhost:8080/"
        },
        "id": "MCAdfs3fgBLh",
        "outputId": "2732b9d8-c033-4833-ba84-d6f7d099adb4"
      },
      "execution_count": 7,
      "outputs": [
        {
          "output_type": "stream",
          "name": "stdout",
          "text": [
            "1 2\n"
          ]
        }
      ]
    },
    {
      "cell_type": "code",
      "source": [
        "#variable length input\n",
        "def summ(*a):\n",
        "  c=0\n",
        "  for i in a:\n",
        "    c=c+i\n",
        "    print(c)\n",
        "\n",
        "summ(4,5,6,7)"
      ],
      "metadata": {
        "colab": {
          "base_uri": "https://localhost:8080/"
        },
        "id": "51f1V6QzgYN9",
        "outputId": "0f60a01a-9925-4bea-d78e-1f1e2620b038"
      },
      "execution_count": 4,
      "outputs": [
        {
          "output_type": "stream",
          "name": "stdout",
          "text": [
            "4\n",
            "9\n",
            "15\n",
            "22\n"
          ]
        }
      ]
    }
  ]
}