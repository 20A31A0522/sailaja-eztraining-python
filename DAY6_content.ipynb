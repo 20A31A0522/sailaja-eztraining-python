{
  "nbformat": 4,
  "nbformat_minor": 0,
  "metadata": {
    "colab": {
      "provenance": [],
      "authorship_tag": "ABX9TyMBeU6+cl1z6l+dJVbRo7S4",
      "include_colab_link": true
    },
    "kernelspec": {
      "name": "python3",
      "display_name": "Python 3"
    },
    "language_info": {
      "name": "python"
    }
  },
  "cells": [
    {
      "cell_type": "markdown",
      "metadata": {
        "id": "view-in-github",
        "colab_type": "text"
      },
      "source": [
        "<a href=\"https://colab.research.google.com/github/20A31A0522/sailaja-eztraining-python/blob/main/DAY6_content.ipynb\" target=\"_parent\"><img src=\"https://colab.research.google.com/assets/colab-badge.svg\" alt=\"Open In Colab\"/></a>"
      ]
    },
    {
      "cell_type": "markdown",
      "source": [
        "## **Exception Handling**\n",
        "\n",
        "- When there is exception, the developer does not want disturbance or interruption in the program flow.\n",
        "- To achieve this we are using ***Exception handling***"
      ],
      "metadata": {
        "id": "iJcWHAJSo5EC"
      }
    },
    {
      "cell_type": "markdown",
      "source": [
        "# **OOPS**\n",
        "\n",
        "- It's an efficient concept used in all object oriented programming classes\n",
        "for multiple reasons , we use OOPS concept for example code reusability , data security , hiding data.\n",
        "\n",
        " ## ***CLASS***\n",
        "\n",
        " - its a blueprint example birds laptops\n",
        "\n",
        " ## ***OBJECT***\n",
        "\n",
        " - It's a thing created based on class \n",
        "\n",
        "- *NOTE* : one class can have multiple objs\n",
        " \n",
        "- Example : \n",
        "  1. class - bird\n",
        "    - objs - sparrow,pigeon,dove\n",
        "  2. class - laptops\n",
        "    - objs - hp,dell,asus,macbook,lenovo"
      ],
      "metadata": {
        "id": "4gdwb04a5LCn"
      }
    },
    {
      "cell_type": "code",
      "source": [
        "class computer:\n",
        "  def config(self):\n",
        "    print(\"yes\")\n",
        "  \n",
        "hp=computer()\n",
        "hp.config()\n",
        "\n",
        "dell=computer()\n",
        "dell.config()"
      ],
      "metadata": {
        "colab": {
          "base_uri": "https://localhost:8080/"
        },
        "id": "QsPWWn9vfmkI",
        "outputId": "92b7535d-8903-4db0-b138-7580279788cf"
      },
      "execution_count": 1,
      "outputs": [
        {
          "output_type": "stream",
          "name": "stdout",
          "text": [
            "yes\n",
            "yes\n"
          ]
        }
      ]
    }
  ]
}