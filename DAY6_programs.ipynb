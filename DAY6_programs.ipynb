{
  "nbformat": 4,
  "nbformat_minor": 0,
  "metadata": {
    "colab": {
      "provenance": [],
      "authorship_tag": "ABX9TyNuKWeI7NzUBERWY9TfqWhF",
      "include_colab_link": true
    },
    "kernelspec": {
      "name": "python3",
      "display_name": "Python 3"
    },
    "language_info": {
      "name": "python"
    }
  },
  "cells": [
    {
      "cell_type": "markdown",
      "metadata": {
        "id": "view-in-github",
        "colab_type": "text"
      },
      "source": [
        "<a href=\"https://colab.research.google.com/github/20A31A0522/sailaja-eztraining-python/blob/main/DAY6_programs.ipynb\" target=\"_parent\"><img src=\"https://colab.research.google.com/assets/colab-badge.svg\" alt=\"Open In Colab\"/></a>"
      ]
    },
    {
      "cell_type": "code",
      "execution_count": null,
      "metadata": {
        "id": "T0o8kYzlk5-J",
        "colab": {
          "base_uri": "https://localhost:8080/"
        },
        "outputId": "3328f1cb-c226-494e-d533-2388e1aa075c"
      },
      "outputs": [
        {
          "output_type": "stream",
          "name": "stdout",
          "text": [
            "no. cannot be divided by zero division by zero\n",
            "bye\n"
          ]
        }
      ],
      "source": [
        "#EXCEPTION HANDLING\n",
        "\n",
        "a=100\n",
        "b=0\n",
        "\n",
        "try:\n",
        "   print(a/b)\n",
        "except Exception as e:\n",
        "  print(\"no. cannot be divided by zero\",e)\n",
        "print(\"bye\")"
      ]
    },
    {
      "cell_type": "code",
      "source": [
        "a=100\n",
        "b=0\n",
        "\n",
        "try:\n",
        "  print(\"resource open\")\n",
        "  print(a/b)\n",
        "except Exception as e:\n",
        "  print(\"no. cannot be divided by zero\",e)\n",
        "finally:\n",
        "  print(\"resource closed\")"
      ],
      "metadata": {
        "colab": {
          "base_uri": "https://localhost:8080/"
        },
        "id": "R-ITxOAdtb-A",
        "outputId": "8fb5eeed-f8ad-434c-857a-3bf3e4fafb96"
      },
      "execution_count": null,
      "outputs": [
        {
          "output_type": "stream",
          "name": "stdout",
          "text": [
            "resource open\n",
            "no. cannot be divided by zero division by zero\n",
            "resource closed\n"
          ]
        }
      ]
    },
    {
      "cell_type": "code",
      "source": [
        "a=10\n",
        "try:\n",
        "  b=int(input())\n",
        "  print(\"resource open\")\n",
        "  print(a/b)\n",
        "except ZeroDivisionError as e:\n",
        "  print(\"cannot be divided by zero,\",e)\n",
        "except ValueError as e:\n",
        "  print(\"inavlid input\",e)\n",
        "except Exception as e:\n",
        "  print(\"other exception\",e)\n",
        "finally:\n",
        "  print(\"resource closed\")"
      ],
      "metadata": {
        "colab": {
          "base_uri": "https://localhost:8080/"
        },
        "id": "yX9LxTUNvMD8",
        "outputId": "0eca5d79-6a64-4d7a-e7b8-74117fe7ac0b"
      },
      "execution_count": null,
      "outputs": [
        {
          "output_type": "stream",
          "name": "stdout",
          "text": [
            "8.9\n",
            "inavlid input invalid literal for int() with base 10: '8.9'\n",
            "resource closed\n"
          ]
        }
      ]
    },
    {
      "cell_type": "code",
      "source": [
        "n=80\n",
        "if(n%2!=0):\n",
        "  raise Exception(\"n should be an even number\")\n",
        "else:\n",
        "  print(\"n is an even number\")"
      ],
      "metadata": {
        "colab": {
          "base_uri": "https://localhost:8080/"
        },
        "id": "1V1g7vM4yvI9",
        "outputId": "20b46119-05cb-4fe3-835b-1db13bc720c5"
      },
      "execution_count": null,
      "outputs": [
        {
          "output_type": "stream",
          "name": "stdout",
          "text": [
            "n is an even number\n"
          ]
        }
      ]
    },
    {
      "cell_type": "code",
      "source": [
        "class computer:\n",
        "  def config(self):\n",
        "    print(\"yes\")\n",
        "  \n",
        "hp=computer()\n",
        "hp.config()\n",
        "\n",
        "dell=computer()\n",
        "dell.config()\n"
      ],
      "metadata": {
        "colab": {
          "base_uri": "https://localhost:8080/"
        },
        "id": "pzLiWJaX-Rfb",
        "outputId": "56c73058-6480-49cc-9d21-f79558fc1c6f"
      },
      "execution_count": null,
      "outputs": [
        {
          "output_type": "stream",
          "name": "stdout",
          "text": [
            "yes\n",
            "yes\n"
          ]
        }
      ]
    },
    {
      "cell_type": "code",
      "source": [
        "class employee:\n",
        "  def __init__(self,name,id):\n",
        "    self.id=id\n",
        "    self.name=name\n",
        "  def display(self):\n",
        "    print(self.id,self.name)\n",
        "\n",
        "emp1=employee(\"yosh\",322)\n",
        "emp2=employee(\"satya\",323)\n",
        "\n",
        "emp1.display()\n",
        "emp2.display()"
      ],
      "metadata": {
        "colab": {
          "base_uri": "https://localhost:8080/"
        },
        "id": "9jRioUAF_ZNr",
        "outputId": "c3345a99-98db-4e07-f2de-cbfc75557406"
      },
      "execution_count": null,
      "outputs": [
        {
          "output_type": "stream",
          "name": "stdout",
          "text": [
            "322 yosh\n",
            "323 satya\n"
          ]
        }
      ]
    },
    {
      "cell_type": "code",
      "source": [
        "class computer():\n",
        "  a=10\n",
        "  b=20\n",
        "  print(\"class variable inside class\",a)\n",
        "  \n",
        "  def config(self):\n",
        "    c=100\n",
        "    print(\"yes\")\n",
        "    print(\"instance access\",self.b)\n",
        "\n",
        "hp=computer()\n",
        "print(hp.a)\n",
        "print(hp.a+hp.b)\n",
        "asus=computer()\n",
        "print(asus.a)\n",
        "hp.config()"
      ],
      "metadata": {
        "colab": {
          "base_uri": "https://localhost:8080/"
        },
        "id": "zvCuHI8RC2VZ",
        "outputId": "c055fb2d-5979-4253-e73e-836003b30560"
      },
      "execution_count": null,
      "outputs": [
        {
          "output_type": "stream",
          "name": "stdout",
          "text": [
            "class variable inside class 10\n",
            "10\n",
            "30\n",
            "10\n",
            "yes\n",
            "instance access 20\n"
          ]
        }
      ]
    }
  ]
}