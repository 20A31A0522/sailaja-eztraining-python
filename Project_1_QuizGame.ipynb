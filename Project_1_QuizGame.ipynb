{
  "nbformat": 4,
  "nbformat_minor": 0,
  "metadata": {
    "colab": {
      "provenance": [],
      "authorship_tag": "ABX9TyM20rUfcruka0uqj9+cUIRp",
      "include_colab_link": true
    },
    "kernelspec": {
      "name": "python3",
      "display_name": "Python 3"
    },
    "language_info": {
      "name": "python"
    }
  },
  "cells": [
    {
      "cell_type": "markdown",
      "metadata": {
        "id": "view-in-github",
        "colab_type": "text"
      },
      "source": [
        "<a href=\"https://colab.research.google.com/github/20A31A0522/sailaja-eztraining-python/blob/main/Project_1_QuizGame.ipynb\" target=\"_parent\"><img src=\"https://colab.research.google.com/assets/colab-badge.svg\" alt=\"Open In Colab\"/></a>"
      ]
    },
    {
      "cell_type": "code",
      "source": [
        "q1=''' Which one of the following is the use of function in python?\n",
        "a. Functions don’t provide better modularity for your application\n",
        "b. you can’t also create your own functions\n",
        "c. Functions are reusable pieces of programs\n",
        "d. All of the mentioned'''\n",
        "q2='''Who developed Python Programming Language?\n",
        "a. Wick van Rossum\n",
        "b. Rasmus Lerdorf\n",
        "c. Guido van Rossum\n",
        "d. Niene Stom'''\n",
        "q3='''Which one of the following is not a keyword in Python language?\n",
        "a. pass\n",
        "b. eval\n",
        "c. assert\n",
        "d. nonlocal'''\n",
        "q4='''What will be the output of the following Python program?\n",
        "s=set('abc')\n",
        "s.add('san')\n",
        "s.update(set(['p', 'q']))\n",
        "s\n",
        "a. {‘a’, ‘c’, ‘c’, ‘p’, ‘q’, ‘s’, ‘a’, ‘n’}\n",
        "b. {‘abc’, ‘p’, ‘q’, ‘san’}\n",
        "c. {‘a’, ‘b’, ‘c’, ‘p’, ‘q’, ‘san’}\n",
        "d. {‘a’, ‘b’, ‘c’, [‘p’, ‘q’], ‘san}'''\n",
        "q5=''' What will be the output of the following Python code?\n",
        "print(\"abc. DEF\".capitalize())\n",
        "a. Abc. def\n",
        "b. abc. def\n",
        "c. Abc. Def\n",
        "d. ABC. DEF'''\n",
        "\n",
        "questions={q1:'c',q2:'c',q3:'b',q4:'c',q5:'a'}\n",
        "name=input(\"Hello!!! What's your name : \")\n",
        "print(\"Hi\",name,\"Welcome to quiz\")\n",
        "score=0\n",
        "for i in questions:\n",
        "  print()\n",
        "  print(i)\n",
        "  flag1=input(\"Do you want to skip this quesion(yes/no) \")\n",
        "  if(flag1==\"yes\"):\n",
        "    continue\n",
        "  ans=input(\"Enter your Answer: \")\n",
        "  if(ans==questions[i]):\n",
        "    print(\"WOW!! You scored a point\")\n",
        "    score+=1\n",
        "    print(\"Your current score is : \",score)\n",
        "  else:\n",
        "    print(\"Wrong!You lost one point\")\n",
        "    score-=1\n",
        "    print(\"Your current score is : \",score)\n",
        "  flag2=input(\"Do you want to quit(yes/no)\")\n",
        "  if(flag2==\"yes\"):\n",
        "    break\n",
        "print(\"you scored: \",score)"
      ],
      "metadata": {
        "colab": {
          "base_uri": "https://localhost:8080/"
        },
        "id": "ufqpC-osgDk8",
        "outputId": "b5de21c4-674e-463b-da63-21410ed36606"
      },
      "execution_count": null,
      "outputs": [
        {
          "output_type": "stream",
          "name": "stdout",
          "text": [
            "Hello!!! What's your name : sailaja\n",
            "Hi sailaja Welcome to quiz\n",
            "\n",
            " Which one of the following is the use of function in python?\n",
            "a. Functions don’t provide better modularity for your application\n",
            "b. you can’t also create your own functions\n",
            "c. Functions are reusable pieces of programs\n",
            "d. All of the mentioned\n",
            "Do you want to skip this quesion(yes/no) no\n",
            "Enter your Answer: c\n",
            "WOW!! You scored a point\n",
            "Your current score is :  1\n",
            "Do you want to quit(yes/no)no\n",
            "\n",
            "Who developed Python Programming Language?\n",
            "a. Wick van Rossum\n",
            "b. Rasmus Lerdorf\n",
            "c. Guido van Rossum\n",
            "d. Niene Stom\n",
            "Do you want to skip this quesion(yes/no) no\n",
            "Enter your Answer: c\n",
            "WOW!! You scored a point\n",
            "Your current score is :  2\n",
            "Do you want to quit(yes/no)no\n",
            "\n",
            "Which one of the following is not a keyword in Python language?\n",
            "a. pass\n",
            "b. eval\n",
            "c. assert\n",
            "d. nonlocal\n",
            "Do you want to skip this quesion(yes/no) no\n",
            "Enter your Answer: b\n",
            "WOW!! You scored a point\n",
            "Your current score is :  3\n",
            "Do you want to quit(yes/no)no\n",
            "\n",
            "What will be the output of the following Python program?\n",
            "s=set('abc')\n",
            "s.add('san')\n",
            "s.update(set(['p', 'q']))\n",
            "s\n",
            "a. {‘a’, ‘c’, ‘c’, ‘p’, ‘q’, ‘s’, ‘a’, ‘n’}\n",
            "b. {‘abc’, ‘p’, ‘q’, ‘san’}\n",
            "c. {‘a’, ‘b’, ‘c’, ‘p’, ‘q’, ‘san’}\n",
            "d. {‘a’, ‘b’, ‘c’, [‘p’, ‘q’], ‘san}\n",
            "Do you want to skip this quesion(yes/no) no\n",
            "Enter your Answer: c\n",
            "WOW!! You scored a point\n",
            "Your current score is :  4\n",
            "Do you want to quit(yes/no)no\n",
            "\n",
            " What will be the output of the following Python code?\n",
            "print(\"abc. DEF\".capitalize())\n",
            "a. Abc. def\n",
            "b. abc. def\n",
            "c. Abc. Def\n",
            "d. ABC. DEF\n",
            "Do you want to skip this quesion(yes/no) no\n",
            "Enter your Answer: a\n",
            "WOW!! You scored a point\n",
            "Your current score is :  5\n",
            "Do you want to quit(yes/no)no\n",
            "you scored:  5\n"
          ]
        }
      ]
    }
  ]
}